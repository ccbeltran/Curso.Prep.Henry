{
  "nbformat": 4,
  "nbformat_minor": 0,
  "metadata": {
    "colab": {
      "provenance": [],
      "include_colab_link": true
    },
    "kernelspec": {
      "name": "python3",
      "display_name": "Python 3"
    }
  },
  "cells": [
    {
      "cell_type": "markdown",
      "metadata": {
        "id": "view-in-github",
        "colab_type": "text"
      },
      "source": [
        "<a href=\"https://colab.research.google.com/github/ccbeltran/Curso.Prep.Henry/blob/master/06_Estructuras_de_datos_v2.ipynb\" target=\"_parent\"><img src=\"https://colab.research.google.com/assets/colab-badge.svg\" alt=\"Open In Colab\"/></a>"
      ]
    },
    {
      "cell_type": "markdown",
      "metadata": {
        "id": "au1giV3cJBF5"
      },
      "source": [
        "![Universidad Central](https://www.ucentral.edu.co/sites/default/files/inline-images/identificadores-Centrados_en_ti_logo-h.png)"
      ]
    },
    {
      "cell_type": "markdown",
      "metadata": {
        "id": "eWZAdQe4eb4P"
      },
      "source": [
        "# __CURSO DE PROGRAMACIÓN PARA ANALÍTICA DE DATOS__\n",
        "\n",
        "> ## __TALLER N° 6:  ESTRUCTURAS DE DATOS__\n",
        ">\n",
        "> ## Profesor: Jorge Victorino [jvictorinog@ucentral.edu.co](jvictorinog@ucentral.edu.co)<br>\n",
        "> ### Facultad de Ingeniería y Ciencias Básicas <br>\n",
        "> ### Universidad Central <br>\n",
        "> <br>\n",
        ">\n",
        "> ## __Contenido__\n",
        ">> ## Listas\n",
        ">> - Declaración de listas\n",
        ">> - Recorrer listas\n",
        ">> - Funciones para listas\n",
        ">> - Manipular sublistas\n",
        ">> - Comprensión de listas\n",
        ">\n",
        ">> ## Otras estrcuturas de datos\n",
        ">> - Tuplas\n",
        ">> - Conjuntos\n",
        ">> - Diccionarios\n",
        ">\n",
        ">> ## Ejercicios\n",
        "---\n",
        "\n",
        "\n"
      ]
    },
    {
      "cell_type": "markdown",
      "metadata": {
        "id": "gRs-jHMcvMZf"
      },
      "source": [
        "## __Introducción a las listas__\n",
        "\n",
        "> - Declaración de listas\n",
        "    - Listas vacias\n",
        "    - Listas con valores iniciales\n",
        "- Agregar valores a las listas\n",
        "    - Función append()\n",
        "    - Función extend()\n",
        "- Acceso a las listas por medio de índices\n",
        "    - Índices positivos (0, n-1)\n",
        "    - Índices negativos (-n, -1)\n",
        "- Métodos para recorrer las listas\n",
        "    - Ciclo while con índices\n",
        "    - Ciclo for con rango de índices\n",
        "    - Ciclo for por elementos de la lista\n"
      ]
    },
    {
      "cell_type": "markdown",
      "metadata": {
        "id": "nifPzxsePTal"
      },
      "source": [
        "## Listas\n",
        "\n",
        ">Una lista es un tipo de estructura de datos que alamacena una secuencia de elementos, los cuales quedan ordenados en relación a  un índice utilizado para accederlos. Este tipo de estructura permite almacenar y mezclar todo tipo datos, como: enteros, decimales, cadenas, otras listas, y objetos.\n",
        "\n",
        ">Una lista vacía (sin elementos en su interior) puede ser declarada en python de la siguiente forma:\n",
        "\n",
        "```python\n",
        "lst_uno = []\n",
        "lst_dos = list()\n",
        "print(lst_uno)\n",
        "print('cantidad elementos en lista: ',len(lst_uno))\n",
        "```\n",
        "\n",
        "> Las listas pueden contener elementos del mísmo o diferente tipo.\n",
        "\n",
        "\n",
        "```python\n",
        "lst_ent = [1, 2, 3, 4, 5]\n",
        "lst_real = [1.0, 2.1, 4.8, 6.2]\n",
        "lst_fecha = [\"Martes\", 29, 'de Enero', 2019]\n",
        "```\n",
        "* Generar secuencias o listas con valores iniciales...\n"
      ]
    },
    {
      "cell_type": "code",
      "metadata": {
        "id": "zTUtoSmoOAcd"
      },
      "source": [
        "# celda de código para practicar"
      ],
      "execution_count": null,
      "outputs": []
    },
    {
      "cell_type": "markdown",
      "metadata": {
        "id": "qkfjeCLTg6kK"
      },
      "source": [
        "### Agregar elementos a una lista.\n",
        "\n",
        ">Usted puede agregar un elemento a una lista vacía o a una lista que ya tenga elementos a partir de la función **append()**. Esta función requiere como argumento el elemento que usted quiere añadir a la lista.\n",
        "\n",
        "\n",
        "\n",
        "```python\n",
        "lst_uno.append('primero')\n",
        "lst_uno.append('segundo')\n",
        "lst_uno.append([2,5])\n",
        "print(lst_uno)\n",
        "print('cantidad elementos en lista: ',len(lst_uno))\n",
        "\n",
        "```\n",
        ">Luego de imprimir la lista, usted puede darse cuenta que el último elemento que se agregó fue una lista. Fijese bien que este se agrega a partir de la función *append* como un único elemento.\n",
        "\n",
        ">En caso de que se requiera añadir a una lista los elementos de otra lista como elementos independientes, deberá utilizar la función **extend()**\n",
        "\n",
        "\n",
        "```python\n",
        "lst_uno.extend([4,6,7])\n",
        "print(lst_uno)\n",
        "lst_uno.extend([122]*5)\n",
        "```"
      ]
    },
    {
      "cell_type": "code",
      "metadata": {
        "id": "OzRmqSl_hM_Y"
      },
      "source": [
        "# celda de código para practicar"
      ],
      "execution_count": null,
      "outputs": []
    },
    {
      "cell_type": "markdown",
      "metadata": {
        "id": "qV74Ok3tzZQx"
      },
      "source": [
        "## Métodos para recorrer una lista\n",
        "> Existen varios métodos en python para recorrer una lista:\n",
        "1. Usando los índices mediante un ciclo _while_\n",
        "2. Usando los índices mediante un ciclo _for_\n",
        "3. Usar un ciclo _for_ con los elementos"
      ]
    },
    {
      "cell_type": "code",
      "metadata": {
        "id": "2WoR0wgi0MHg"
      },
      "source": [
        "# celda para probar"
      ],
      "execution_count": null,
      "outputs": []
    },
    {
      "cell_type": "markdown",
      "metadata": {
        "id": "qo92bdy5ixAz"
      },
      "source": [
        "####Ejercicio 1:\n",
        "suponga usted que tiene que ir a mercar y debe ir anotando el nombre de los productos y el respectivo precio de todo lo que quiere llevar. El propósito de esta actividad es saber cuanto debe pagar antes de llegar a la caja. Cada vez que usted ingrese un producto a su canasta, deberá anotar el nombre y el valor del producto. Una vez haya finalizado sus compras deberá conocer la cantidad de productos y el total a pagar. ¿Cómo piensa resolver el problema?"
      ]
    },
    {
      "cell_type": "code",
      "metadata": {
        "id": "GqsJ2rfCjMUw"
      },
      "source": [
        "# Solución del ejercicio 1.\n",
        "# inicialización de variables\n",
        "\n",
        "lst_val_prod = []\n",
        "lst_nom_prod = []\n",
        "total_prod = 0.0\n"
      ],
      "execution_count": null,
      "outputs": []
    },
    {
      "cell_type": "code",
      "source": [
        "l1 = [\"ana\", \"ema\", \"sara\", \"maria\", \"soe\"]\n",
        "l2 = [31, 22, 11]\n",
        "l3 = l1*2+l2*3\n",
        "print(l3)\n",
        "print(l3[8:-1])\n",
        "\n"
      ],
      "metadata": {
        "colab": {
          "base_uri": "https://localhost:8080/"
        },
        "id": "JUtSRX1X8xgm",
        "outputId": "a9bb697a-fcc9-46fa-8801-ec950edf6b08"
      },
      "execution_count": 9,
      "outputs": [
        {
          "output_type": "stream",
          "name": "stdout",
          "text": [
            "['ana', 'ema', 'sara', 'maria', 'soe', 'ana', 'ema', 'sara', 'maria', 'soe', 31, 22, 11, 31, 22, 11, 31, 22, 11]\n",
            "['maria', 'soe', 31, 22, 11, 31, 22, 11, 31, 22]\n"
          ]
        }
      ]
    },
    {
      "cell_type": "markdown",
      "metadata": {
        "id": "59Svj9ZljNx4"
      },
      "source": [
        "### 1.2 **Acceder a los elementos de una lista.**\n",
        ">El acceso a los elementos de la lista se realiza a través de sus índices. En python los índices de una lista van desde 0 hasta el tamaño de la lista -1. Por ejemplo de la siguiente lista se puede obtener acceso a los elementos 3, 4 y 6 de la siguiente forma:\n",
        "\n",
        "\n",
        "\n",
        "```python\n",
        "lst_anim = ['Perro', 'Gato', 'Pájaro', 'Conejo', 'Pez', 'Hamster', 'Tortuga']\n",
        "```\n",
        "> lst_anim |\\[| Perro | Gato | Pájaro | Conejo | Pez | Hamster | Tortuga | \\]\n",
        "> --- ||:---: | :---: | :---: | :---: | :---: | :---: | :---: | ---\n",
        "> índices |+| 0 | 1 | 2 | 3 | 4 | 5 | 6 |  |\n",
        "> índices |-| -7 | -6 | -5 | -4 | -3 | -2 | -1 |  |\n",
        "\n",
        "```python\n",
        "# Elemento: 3, índice del elemento: 2.\n",
        "print(lst_anim[2])\n",
        "# Elemento: 4, índice del elemento: 3.\n",
        "print(lst_anim[3])\n",
        "# Elemento: 6, índice del elemento: 5.\n",
        "print(lst_anim[5])\n",
        "```\n",
        ">También puede modificar el valor de alguno de los elementos de la siguiente forma:\n",
        "\n",
        "\n",
        "\n",
        "```python\n",
        "# Modificando el elemento 4 que tiene por índice 3.\n",
        "lst_anim[3] = 'Jirafa'\n",
        "print(lst_anim)\n",
        "```"
      ]
    },
    {
      "cell_type": "code",
      "metadata": {
        "id": "2viSoJoDjrAK"
      },
      "source": [
        "# celda de código para practicar"
      ],
      "execution_count": null,
      "outputs": []
    },
    {
      "cell_type": "code",
      "source": [
        "l3 = l1*2+l2*3\n",
        "print(l3)\n",
        "l3.remove('sara')\n",
        "#print(l3.index('ana'))\n",
        "l3.insert(5, \"jorge\")\n",
        "print(l3.count('jorge'))\n",
        "print(l3.pop(1))\n",
        "#l3.reverse()"
      ],
      "metadata": {
        "colab": {
          "base_uri": "https://localhost:8080/"
        },
        "id": "IyxSj5Mj-nse",
        "outputId": "288c3d22-93df-4e9b-c5a1-2c5126012872"
      },
      "execution_count": 17,
      "outputs": [
        {
          "output_type": "stream",
          "name": "stdout",
          "text": [
            "['ana', 'ema', 'sara', 'maria', 'soe', 'ana', 'ema', 'sara', 'maria', 'soe', 31, 22, 11, 31, 22, 11, 31, 22, 11]\n",
            "1\n",
            "ema\n"
          ]
        }
      ]
    },
    {
      "cell_type": "markdown",
      "metadata": {
        "id": "4Bg6NhftmlVc"
      },
      "source": [
        "\n",
        "## __Funciones recurrentes para listas__\n",
        "\n",
        "\n",
        "> - A continuación se listan otras funciones en python que son útiles para resolver problemas.\n",
        "    - remove()\n",
        "    - index()\n",
        "    - count()\n",
        "    - reverse()\n",
        "    - insert()\n",
        "    - pop()\n",
        "    - clear()\n",
        "\n",
        "```python\n",
        "\n",
        "lst_anim = ['Perro', 'Gato', 'Pájaro', 'Conejo', 'Pez', 'Hamster', 'Tortuga']\n",
        "print(lst_anim)\n",
        "# Remueve los elementos de la lista de acuerdo al argumento pasado a la función.\n",
        "lst_anim.remove('Pájaro')\n",
        "print(lst_anim)\n",
        "# Devuelve el número del indice del elemento que se pasa como argumento a la función.\n",
        "lst_anim.index('Conejo')\n",
        "# Devuelve la cantidad de veces que se repite el elemento que se pasa como argumento en la función.\n",
        "lst_anim.count('Pez')\n",
        "# Invierte el orden de los elementos de la lista.\n",
        "lst_anim.reverse()\n",
        "print(lst_anim)\n",
        "# Inserta un elemento en la posición inidicada. Lo argumentos para la función son el indice donde se quiere insertar y el elemento a insertar.\n",
        "lst_anim.insert(2,'Caballo')\n",
        "print(lst_anim)\n",
        "# Remueve el elemento de la lista que se pasa como argumento (índice del elemento) a la función. La función pop devuelve el elemento removido.\n",
        "anim = lst_anim.pop(2)\n",
        "print(anim)\n",
        "# Remueve todos los elementos de la lista.\n",
        "lst_anim.clear()\n",
        "print(lst_anim)\n",
        "```\n",
        "- Generar ciclos para recorrer listas (función zip)\n",
        "- Buscar un elemento en una lista (operador **in**)\n",
        "- Método sort()\n"
      ]
    },
    {
      "cell_type": "code",
      "metadata": {
        "id": "WX4xAocdyYVc",
        "colab": {
          "base_uri": "https://localhost:8080/"
        },
        "outputId": "6f527fff-257f-43c2-8e97-87c4646684d3"
      },
      "source": [
        "# Celda de código para probar\n",
        "lst_anim = ['Perro', 'Gato', 'Pájaro', 'Conejo', 'Pez', 'Hamster', 'Tortuga']\n",
        "print(lst_anim)"
      ],
      "execution_count": null,
      "outputs": [
        {
          "output_type": "stream",
          "text": [
            "['Perro', 'Gato', 'Pájaro', 'Conejo', 'Pez', 'Hamster', 'Tortuga']\n"
          ],
          "name": "stdout"
        }
      ]
    },
    {
      "cell_type": "markdown",
      "metadata": {
        "id": "TILFCrqBnZ-5"
      },
      "source": [
        "### Manipular sublistas.\n",
        "\n",
        ">En algunos casos al trabajar con listas para la resolución de problemas es necesario extraer partes de la lista original. Python ofrece esta posibilidad  con la siguiente estructura:\n",
        "\n",
        "```python\n",
        "  nom_lista[<indice inicio> : <indice final + 1>]\n",
        "\n",
        "```\n",
        ">**Ejemplos:**\n",
        "\n",
        "```python\n",
        "\n",
        "l1 = list(range(-20,20,2))\n",
        "print(l1)\n",
        "l2 = l1[2:8]   # Lista con los elementos del índice 2 hasta el 7\n",
        "print(l2)\n",
        "l2 = l1[1:]    # Lista con los elementos del índice 1 hasta el final de la lista\n",
        "print(l2)\n",
        "l2 = l1[:5]    # Lista con los elementos desde el inicio hasta el índice 4\n",
        "print(l2)\n",
        "l2 = l1[:]     # Lista con todos los elementos\n",
        "print(l2)\n",
        "l2 = l1[15:15] # Lista con los elementos del índice del 15 al 15 (vacía)\n",
        "print(l2)\n",
        "```"
      ]
    },
    {
      "cell_type": "code",
      "metadata": {
        "id": "n9FTFXG4Z1m-"
      },
      "source": [
        "# Celda de código para probar"
      ],
      "execution_count": null,
      "outputs": []
    },
    {
      "cell_type": "markdown",
      "metadata": {
        "id": "D-JfKNCCoNgS"
      },
      "source": [
        "### __Ejercicio__\n",
        "> Usted también puede modificar los elementos de una lista usando sublistas. Revise con cuidado cada una de las siguientes líneas de código, trate de predecir lo que va a suceder y valide cada uno de los comportamientos presentados. El insertar, modificar y eliminar sublistas también se hace a partir de los índices de los elementos de la lista.\n",
        "\n",
        "```python\n",
        "letras = ['a', 'b', 'c', 'd', 'e', 'f', 'g', 'h', 'i', 'k', 'l', 'm', 'ñ', 'o']\n",
        "print(letras)\n",
        "letras[1:4] = ['k']               # Se sustituye la sublista ['b', 'c', 'd'] por ['k'], solo reemplazara el elemento 1 de la lista\n",
        "print(letras)\n",
        "letras[1:4] = [1, 2]              # Se sustituye la sublista ['k', 'c' , 'd'] por [1, 2], reemplazará 2 elementos de la lista\n",
        "print(letras)\n",
        "letras[3:4] = [76]                # Se sustituye la sublista ['g'] por [76], reemplazará 1 elemento de lista\n",
        "print(letras)\n",
        "letras[6:6] = ['%', '&']          # Se inserta la sublista ['%', '&'] a partir de la posición 6 de la lista\n",
        "print(letras)\n",
        "letras[0:3] = []                  # Se elimina la sublista ['a', 1, 2] a partir de la posición 0 hasta la 2\n",
        "print(letras)\n",
        "letras[-100:-50] = ['q','a','z']  # Se inserta ['q','a','z']. Python acepta valores de índices fuera del rango. Para este caso se insertará la sublista al inicio\n",
        "print(letras)\n",
        "letras[120:140] = ['q','a','z']   # Se inserta ['q','a','z']. Python acepta valores de índices fuera del rango. Para este caso se insertará la sublista al final\n",
        "print(letras)\n",
        "del letras[10]                    # Borrará el elemento que tiene por índice 10 de la lista\n",
        "print(letras)\n",
        "del letras[8:]                    # Borrará los elementos a partir del índice 8 hasta el final de la lista\n",
        "print(letras)\n",
        "```\n",
        "\n"
      ]
    },
    {
      "cell_type": "code",
      "metadata": {
        "id": "SGnZ16cjZ3fj",
        "colab": {
          "base_uri": "https://localhost:8080/"
        },
        "outputId": "e7f33a3f-c788-42be-fa1b-f7b89a390ce5"
      },
      "source": [
        "# Celda de código para probar\n",
        "l1 = [1,2,3,6,5,4,7,8,9,3,2,5,1]\n",
        "l2 = [x%2 ==0 for x in l1]\n",
        "l2 = [x**2 for x in l1]\n",
        "print(l2)"
      ],
      "execution_count": 22,
      "outputs": [
        {
          "output_type": "stream",
          "name": "stdout",
          "text": [
            "[1, 4, 9, 36, 25, 16, 49, 64, 81, 9, 4, 25, 1]\n"
          ]
        }
      ]
    },
    {
      "cell_type": "code",
      "source": [
        "l4 = [i/10-1 for i in range(20)]\n",
        "l4"
      ],
      "metadata": {
        "colab": {
          "base_uri": "https://localhost:8080/"
        },
        "id": "qihORu_4BqWd",
        "outputId": "0a3ce182-fe58-433e-e7ab-4ea2549ee0fd"
      },
      "execution_count": 25,
      "outputs": [
        {
          "output_type": "execute_result",
          "data": {
            "text/plain": [
              "[-1.0,\n",
              " -0.9,\n",
              " -0.8,\n",
              " -0.7,\n",
              " -0.6,\n",
              " -0.5,\n",
              " -0.4,\n",
              " -0.30000000000000004,\n",
              " -0.19999999999999996,\n",
              " -0.09999999999999998,\n",
              " 0.0,\n",
              " 0.10000000000000009,\n",
              " 0.19999999999999996,\n",
              " 0.30000000000000004,\n",
              " 0.3999999999999999,\n",
              " 0.5,\n",
              " 0.6000000000000001,\n",
              " 0.7,\n",
              " 0.8,\n",
              " 0.8999999999999999]"
            ]
          },
          "metadata": {},
          "execution_count": 25
        }
      ]
    },
    {
      "cell_type": "code",
      "source": [
        "l4 = [i/10-1 for i in range(20) if i > 10]\n",
        "l4"
      ],
      "metadata": {
        "colab": {
          "base_uri": "https://localhost:8080/"
        },
        "id": "A921PH_QCQNP",
        "outputId": "ead7ed87-b638-4575-f97f-d0918b7eeb17"
      },
      "execution_count": 26,
      "outputs": [
        {
          "output_type": "execute_result",
          "data": {
            "text/plain": [
              "[0.10000000000000009,\n",
              " 0.19999999999999996,\n",
              " 0.30000000000000004,\n",
              " 0.3999999999999999,\n",
              " 0.5,\n",
              " 0.6000000000000001,\n",
              " 0.7,\n",
              " 0.8,\n",
              " 0.8999999999999999]"
            ]
          },
          "metadata": {},
          "execution_count": 26
        }
      ]
    },
    {
      "cell_type": "code",
      "source": [
        "l4 = [i/10-1 for i in l1 if i > 7]\n",
        "l4"
      ],
      "metadata": {
        "colab": {
          "base_uri": "https://localhost:8080/"
        },
        "id": "oINyHZmGCbfv",
        "outputId": "68e142cf-f221-443c-d703-4513ed7eb064"
      },
      "execution_count": 28,
      "outputs": [
        {
          "output_type": "execute_result",
          "data": {
            "text/plain": [
              "[-0.19999999999999996, -0.09999999999999998]"
            ]
          },
          "metadata": {},
          "execution_count": 28
        }
      ]
    },
    {
      "cell_type": "code",
      "source": [
        "l4 = [i for i in l1 if i%2==0] # reemplazar 0 por 1 para impar\n",
        "l4"
      ],
      "metadata": {
        "colab": {
          "base_uri": "https://localhost:8080/"
        },
        "id": "pvXj09HvCqPX",
        "outputId": "10ca14d4-d3fb-4441-fe37-9fbba863ce9d"
      },
      "execution_count": 29,
      "outputs": [
        {
          "output_type": "execute_result",
          "data": {
            "text/plain": [
              "[2, 6, 4, 8, 2]"
            ]
          },
          "metadata": {},
          "execution_count": 29
        }
      ]
    },
    {
      "cell_type": "code",
      "source": [
        "l4 = [i if i > 7 else l1 for i in l1]\n",
        "l4"
      ],
      "metadata": {
        "colab": {
          "base_uri": "https://localhost:8080/"
        },
        "id": "wPbaIjt8C8W4",
        "outputId": "2838d234-9514-41d4-ac46-6fe146bec726"
      },
      "execution_count": 30,
      "outputs": [
        {
          "output_type": "execute_result",
          "data": {
            "text/plain": [
              "[[1, 2, 3, 6, 5, 4, 7, 8, 9, 3, 2, 5, 1],\n",
              " [1, 2, 3, 6, 5, 4, 7, 8, 9, 3, 2, 5, 1],\n",
              " [1, 2, 3, 6, 5, 4, 7, 8, 9, 3, 2, 5, 1],\n",
              " [1, 2, 3, 6, 5, 4, 7, 8, 9, 3, 2, 5, 1],\n",
              " [1, 2, 3, 6, 5, 4, 7, 8, 9, 3, 2, 5, 1],\n",
              " [1, 2, 3, 6, 5, 4, 7, 8, 9, 3, 2, 5, 1],\n",
              " [1, 2, 3, 6, 5, 4, 7, 8, 9, 3, 2, 5, 1],\n",
              " 8,\n",
              " 9,\n",
              " [1, 2, 3, 6, 5, 4, 7, 8, 9, 3, 2, 5, 1],\n",
              " [1, 2, 3, 6, 5, 4, 7, 8, 9, 3, 2, 5, 1],\n",
              " [1, 2, 3, 6, 5, 4, 7, 8, 9, 3, 2, 5, 1],\n",
              " [1, 2, 3, 6, 5, 4, 7, 8, 9, 3, 2, 5, 1]]"
            ]
          },
          "metadata": {},
          "execution_count": 30
        }
      ]
    },
    {
      "cell_type": "code",
      "source": [
        "l4 = [i**2 if i > 7 else -i/10 for i in l1]\n",
        "l4"
      ],
      "metadata": {
        "colab": {
          "base_uri": "https://localhost:8080/"
        },
        "id": "Thw9wqtVDOm3",
        "outputId": "5fa833c0-bbb7-44f3-951e-5f8d72972527"
      },
      "execution_count": 31,
      "outputs": [
        {
          "output_type": "execute_result",
          "data": {
            "text/plain": [
              "[-0.1, -0.2, -0.3, -0.6, -0.5, -0.4, -0.7, 64, 81, -0.3, -0.2, -0.5, -0.1]"
            ]
          },
          "metadata": {},
          "execution_count": 31
        }
      ]
    },
    {
      "cell_type": "code",
      "source": [
        "l4 = []\n",
        "for i in l1:\n",
        "  if i > 7:\n",
        "    l4.append(i)\n",
        "  else:\n",
        "    l4.append(-i/10)\n",
        "l4\n"
      ],
      "metadata": {
        "colab": {
          "base_uri": "https://localhost:8080/"
        },
        "id": "lFfiqcZNDa3_",
        "outputId": "22e2b8f5-dfe8-4664-a696-461058671355"
      },
      "execution_count": 32,
      "outputs": [
        {
          "output_type": "execute_result",
          "data": {
            "text/plain": [
              "[-0.1, -0.2, -0.3, -0.6, -0.5, -0.4, -0.7, 8, 9, -0.3, -0.2, -0.5, -0.1]"
            ]
          },
          "metadata": {},
          "execution_count": 32
        }
      ]
    },
    {
      "cell_type": "code",
      "source": [
        "matriz = [[5*i+j for j in range(4)] for i in range(5)]\n",
        "matriz"
      ],
      "metadata": {
        "colab": {
          "base_uri": "https://localhost:8080/"
        },
        "id": "dRt6-jPsEHbn",
        "outputId": "1e5c133d-232c-4c57-ade8-1e92e2a72281"
      },
      "execution_count": 34,
      "outputs": [
        {
          "output_type": "execute_result",
          "data": {
            "text/plain": [
              "[[0, 1, 2, 3],\n",
              " [5, 6, 7, 8],\n",
              " [10, 11, 12, 13],\n",
              " [15, 16, 17, 18],\n",
              " [20, 21, 22, 23]]"
            ]
          },
          "metadata": {},
          "execution_count": 34
        }
      ]
    },
    {
      "cell_type": "markdown",
      "metadata": {
        "id": "FqFMf6e8ozLi"
      },
      "source": [
        "---\n",
        "\n",
        "\n",
        ">## **Comprensión de listas.**\n",
        "\n",
        ">Las comprensiones de listas ofrecen una forma rápida y concisa para la creación de listas. Esto consiste en la codificación de una ***expresión*** seguida de la cláusula ***for*** a la cual se le puede añadir cláusulas ***if*** o ***for*** en caso de que sea requerido.\n",
        "\n",
        ">La comprensión de listas se destacan en python para crear nuevas listas. Cada elemento es el resultado de algunas operaciones aplicadas sobre la lista (secuencia u objeto iterable) a partir de una condición u otros ciclos.\n",
        "\n",
        ">La estructura básica de una comprensión de lista es:\n",
        "\n",
        "\n",
        "```\n",
        " lista = [expresion for elemento in objeto_iterable]\n",
        "```\n",
        "\n",
        "\n",
        "\n",
        ">La forma general de crear una lista con la estructura cíclica for es:\n",
        "\n",
        "\n",
        "\n",
        "```python\n",
        "# Lista de los números enteros del 1 al 10\n",
        "nums = []\n",
        "\n",
        "for i in range(1,11):\n",
        "  nums.append(i)\n",
        "print(nums)\n",
        "\n",
        "```\n",
        "\n",
        ">Usted podría realizar esto con una comprensión de listas. Ejemplo:\n",
        "\n",
        "\n",
        "```python\n",
        "nums = [num for num in range(1,11)]\n",
        "print(nums)\n",
        "```"
      ]
    },
    {
      "cell_type": "code",
      "metadata": {
        "id": "go5TB_9NZ_6u"
      },
      "source": [
        "# Celda de código para probar"
      ],
      "execution_count": null,
      "outputs": []
    },
    {
      "cell_type": "markdown",
      "source": [
        "## Ejemplo. Graficar una tabla de puntos\n",
        "\n",
        "> - hacer una tabla de valores $X, Y$ con la función $y = x^3$\n",
        "- Usar matplotlib para generar una gráfica\n",
        "- Generar una alta densidad de puntos entre $[-2, 2]$ para mejorar la calidad de la gráfica\n",
        "- Usar compresión de listas para generar la tabla y comparar con el código anterior\n",
        "\n",
        "1.   Elemento de la lista\n",
        "2.   Elemento de la lista\n",
        "\n"
      ],
      "metadata": {
        "id": "_apZvg-uVnEm"
      }
    },
    {
      "cell_type": "code",
      "metadata": {
        "id": "AwvtUpbEpA73",
        "colab": {
          "base_uri": "https://localhost:8080/",
          "height": 447
        },
        "outputId": "9394b358-8bf3-4e36-800a-74cecc93401c"
      },
      "source": [
        "# Celda de código para probar\n",
        "import matplotlib.pyplot as plt\n",
        "x = [2,1,0,-1,-2]\n",
        "y = [8,1,0,-1,-8]\n",
        "x = [4*i/100-2 for i in range(100)]\n",
        "y = [i**3 for i in x]\n",
        "\n",
        "plt.plot(x,y)#, 'o-')"
      ],
      "execution_count": 43,
      "outputs": [
        {
          "output_type": "execute_result",
          "data": {
            "text/plain": [
              "[<matplotlib.lines.Line2D at 0x7b19dd36d420>]"
            ]
          },
          "metadata": {},
          "execution_count": 43
        },
        {
          "output_type": "display_data",
          "data": {
            "text/plain": [
              "<Figure size 640x480 with 1 Axes>"
            ],
            "image/png": "[encoded data removed]"
          },
          "metadata": {}
        }
      ]
    },
    {
      "cell_type": "markdown",
      "metadata": {
        "id": "7PQQAm0bpBO6"
      },
      "source": [
        "### Comprensión de listas con estructuras condicionales.\n",
        ">Ahora analice los siguientes ejemplos que estan construidos a partir de comprensión de listas. Interprete y documente el código que se muestra para cada ejemplo indicando que hace cada instrucción.\n",
        "\n",
        "\n",
        "\n",
        "```python\n",
        "# Pruebe una por una las instrucciones en esta celda.\n",
        "nums = list(range(-10,10))\n",
        "num_txt = ['uno', 'dos', 'tres', 'cuatro', 'cinco', 'seis', 'siete', 'ocho', 'nueve', 'diez']\n",
        "# Comprensión de listas\n",
        "l1 = [n**2 for n in nums]\n",
        "print(l1)\n",
        "# Comprensión de listas con funciones de python\n",
        "vocales = [v.lower() for v in ['A','E','I','O','U']]\n",
        "l2 = [abs(n) for n in nums]\n",
        "print(l2)\n",
        "# Comprensión de listas con if\n",
        "l3 = [n**2 for n in nums if n%2==0]\n",
        "print(l3)\n",
        "# Comprensión de listas con if y else\n",
        "texto = 'El almuerzo suelo acompañarlo con 3 manzanas y 10 peras'\n",
        "texto2 = [txt if not txt.isnumeric() else num_txt[int(txt)-1] for txt in texto.split(' ')]\n",
        "print(texto2)\n",
        "string = \" \"\n",
        "texto3 = string.join(texto2)\n",
        "print(texto3)\n",
        "# Comprensión de listas con multiple if\n",
        "modulo = [x for x in range(100) if x % 2 == 0 if x % 5 == 0]\n",
        "print(modulo)\n",
        "```\n",
        "\n"
      ]
    },
    {
      "cell_type": "markdown",
      "metadata": {
        "id": "juVp7gzHqZdP"
      },
      "source": [
        "# __Otras estructuras de datos__\n",
        "\n",
        "- ## Tuplas\n",
        "- ## Conjuntos\n",
        "- ## Diccionarios\n",
        "\n",
        "## __Revisión de información en la WEB__\n",
        "\n",
        "Finalmente seguir la guía de [Estructuras de datos en Python Docs](https://docs.python.org/3/tutorial/datastructures.html)"
      ]
    },
    {
      "cell_type": "code",
      "metadata": {
        "id": "OrRrsUfiaOrv"
      },
      "source": [
        "# Celda de código para probar"
      ],
      "execution_count": null,
      "outputs": []
    },
    {
      "cell_type": "markdown",
      "source": [
        "# Ejemplo. Diccionarios\n",
        "\n",
        "> - **Enunciado del problema**\n",
        "\n",
        "Un centro de investigación está recopilando los resultados de un examen realizado por un grupo de estudiantes. Cada estudiante tiene una calificación asociada, y estos datos están almacenados en un diccionario donde las claves son los nombres de los estudiantes y los valores son sus calificaciones.\n",
        "\n",
        "Se te pide escribir un programa en Python que ordene este diccionario de mayor a menor calificación y muestre el nombre del estudiante junto con su calificación en ese orden.\n",
        "\n",
        "**Instrucciones:**\n",
        "1. Se te proporciona un diccionario con los nombres de los estudiantes como claves y sus respectivas calificaciones como valores. Por ejemplo:\n",
        "\n",
        "```python\n",
        "estudiantes = {\n",
        "    'Ana': 85,\n",
        "    'Luis': 92,\n",
        "    'Juan': 78,\n",
        "    'Marta': 88,\n",
        "    'Pedro': 90\n",
        "}\n",
        "```\n",
        "\n",
        "2. El programa debe ordenar el diccionario por las calificaciones en orden descendente (de mayor a menor).\n",
        "\n",
        "3. Una vez ordenado, el programa debe imprimir cada estudiante con su calificación, uno por línea, como sigue:\n",
        "\n",
        "\n",
        "\n",
        "```python\n",
        "Luis: 92\n",
        "Pedro: 90\n",
        "Marta: 88\n",
        "Ana: 85\n",
        "Juan: 78\n",
        "\n",
        "```\n",
        "\n",
        "4. Usa el parámetro clave de la función sorted() para realizar la ordenación.\n",
        "\n",
        "**Restricciones:**\n",
        "- No puedes modificar el diccionario original, pero puedes trabajar con una lista de tuplas o una versión ordenada del diccionario.\n",
        "- Las calificaciones son números enteros.\n"
      ],
      "metadata": {
        "id": "CN0dR9uDp3mZ"
      }
    },
    {
      "cell_type": "markdown",
      "source": [
        "## __Solución__\n",
        "### Paso 1: Definir el diccionario\n",
        "Primero, tenemos el diccionario con los nombres de los estudiantes y sus respectivas calificaciones.\n",
        "Este diccionario asocia cada nombre de estudiante (clave) con una calificación (valor).\n",
        "\n",
        "### Paso 2: Usar `sorted()` para ordenar por valores\n",
        "La función sorted() en Python permite ordenar secuencias. Podemos usarla para ordenar el diccionario, pero como queremos ordenarlo por los valores (calificaciones) y no por las claves (nombres), tenemos que darle una función que especifique que debe mirar los valores del diccionario.\n",
        "\n",
        "El diccionario en sí no es directamente ordenable, pero podemos convertirlo en una lista de tuplas para hacerlo. Cada tupla contendrá el nombre y la calificación, y podemos decirle a sorted() que use el valor (la calificación) para ordenarlas.\n",
        "\n",
        "La sintaxis sería:\n",
        "\n",
        "\n",
        "```python\n",
        "sorted(estudiantes.items(), key=lambda item: item[1], reverse=True)\n",
        "```\n",
        "\n",
        "- `estudiantes.items()` convierte el diccionario en una lista de tuplas, donde cada tupla es `(clave, valor)`, es decir, `(nombre, calificación)`.\n",
        "- `key=lambda item: item[1]` le dice a sorted() que debe ordenar las tuplas por el segundo elemento `(item[1])`, que es la calificación.\n",
        "- `reverse=True` le indica a sorted() que queremos el orden de mayor a menor.\n",
        "\n",
        "### Paso 3: Mostrar los resultados ordenados\n",
        "Finalmente, después de ordenar la lista de tuplas, iteramos sobre ella para mostrar el nombre de cada estudiante con su calificación.\n",
        "\n",
        "Aquí está el código completo paso a paso:\n",
        "\n",
        "```python\n",
        "# Paso 1: Definir el diccionario de estudiantes\n",
        "estudiantes = {\n",
        "    'Ana': 85,\n",
        "    'Luis': 92,\n",
        "    'Juan': 78,\n",
        "    'Marta': 88,\n",
        "    'Pedro': 90\n",
        "}\n",
        "\n",
        "# Paso 2: Ordenar el diccionario por las calificaciones (valores)\n",
        "estudiantes_ordenados = sorted(estudiantes.items(), key=lambda item: item[1], reverse=True)\n",
        "\n",
        "# Paso 3: Imprimir el resultado\n",
        "for nombre, calificacion in estudiantes_ordenados:\n",
        "    print(f'{nombre}: {calificacion}')\n",
        "```\n",
        "### __Explicación de cada paso__:\n",
        "\n",
        "1. Convertir el diccionario a una lista de tuplas:\n",
        "`estudiantes.items()` convierte el diccionario en algo como esto:\n",
        "\n",
        "```python\n",
        "[('Ana', 85), ('Luis', 92), ('Juan', 78), ('Marta', 88), ('Pedro', 90)]\n",
        "```\n",
        "2. __Ordenar por calificaciones (valores)__:\n",
        "\n",
        "Usamos `sorted()` para ordenar la lista de tuplas basándonos en el segundo elemento de cada tupla, que es la calificación (valor). Al agregar `reverse=True`, lo ordenamos de mayor a menor.\n",
        "\n",
        "3. __Imprimir los resultados:__\n",
        "\n",
        "Usamos un bucle `for` para recorrer las tuplas ordenadas e imprimimos el nombre de cada estudiante con su calificación.\n"
      ],
      "metadata": {
        "id": "1n1uODDGrRH5"
      }
    },
    {
      "cell_type": "markdown",
      "source": [
        "# __<font color='#0f0'>EJERCICIOS</font>__"
      ],
      "metadata": {
        "id": "9pxIO62LcmSd"
      }
    },
    {
      "cell_type": "markdown",
      "metadata": {
        "id": "GIuFEJXuoJTO"
      },
      "source": [
        "### __Cálculo de la moda__\n",
        "\n",
        "__Definición de moda estadística__\n",
        "\n",
        "La moda es el valor que tiene mayor frecuencia absoluta en una muestra de datos, y se representa como: $M_o$. Se puede hallar la moda para variables cualitativas y cuantitativas. Las siguientes son las reglas que se asocian al cálculo de la moda:\n",
        "\n",
        "- Si en un grupo hay dos o varias puntuaciones con la misma frecuencia y esa frecuencia es la máxima, entonces la distribución es bimodal  (en caso de que sean 2 valores) o multimodal (en caso de que existan mas de 2), es decir, tiene varias modas.\n",
        "- Cuando todas las puntuaciones de un grupo tienen la misma frecuencia, no hay moda.\n",
        "- Si dos puntuaciones adyacentes tienen la frecuencia máxima, la moda es el promedio de las dos puntuaciones adyacentes.\n",
        "\n",
        "Fuente de información: [moda estadística](https://www.superprof.es/apuntes/escolar/matematicas/estadistica/descriptiva/moda-estadistica.html)\n",
        "\n",
        "#### __Ejemplos:__\n",
        "1. La moda de : `ex1 = [2,3,3,4,4,4,5,5]` <br> es: $M_o = 4$\n",
        "1. La moda de : `ex2 = [1,1,1,4,4,5,5,5,7,8,9,9,9]` <br> es: $M_o = 1,5,9$\n",
        "1. La moda de : `ex3 = [2,2,3,3,6,6,9,9]` <br> es: $M_o = indef$\n",
        "1. La moda de : `ex4 = [0,1,3,3,5,5,7,8]` <br> es: $M_o = 4$\n",
        "\n",
        "#### __Algoritmo moda de valores__\n",
        "\n",
        "- ordenar el vector $x$\n",
        "- recorrer cada elemento de $x$  \n",
        "    - si el valor esta en vals obtener índice y sumar uno a esa posición\n",
        "    - sino el valor es nuevo entonces, agregar valor a vals y poner su frecuencia en uno\n",
        "- hallar la máxima frecuencia\n",
        "- contar veces que aparece la máxima frecuencia\n",
        "- Si la cantidad de máxima frecuencia es uno, retorne el valor con el índice de máxima frecuencia\n",
        "- Si la cantidad de máximas frecuencias es N, retorne no es un número\n",
        "- Si la cantidad de máximas frecuencias es 2 y son adyacentes, retorne el promedio de los valores adyacentes con máxima frecuencia\n",
        "- Sino retorne un vector con los valores que tienen máxima frecuencia\n"
      ]
    },
    {
      "cell_type": "code",
      "metadata": {
        "id": "BnQyV_qZmmA-"
      },
      "source": [
        "# Celda de código para probar"
      ],
      "execution_count": null,
      "outputs": []
    },
    {
      "cell_type": "markdown",
      "metadata": {
        "id": "Q1ad3jj4qiiZ"
      },
      "source": [
        "### __Problema de las votaciones__\n",
        "\n",
        "A continuación tenemos loa resultados de conteo por mesas en formato de  diccionario con el nombre del candidato y el número de votos que le corresponde. El objetivo es contar la votación de cada candidato para saber como proceder de acuerdo con las siguientes reglas:\n",
        "\n",
        "1. Si el voto en blanco consigue la mayor votación se debe convocar otras elecciones con otros candidatos\n",
        "2. Si un candidato supera más del 50% de la votación, quitando los votos en blanco. Gana las elecciones\n",
        "3. Si no se cumple la condición 1 y 2, entonces los dos candidatos con mayor votación pasan a una segunda vuelta.\n",
        "\n",
        "Hacer un programa que determine cual es el resultado final de las elecciones de acuerdo con las reglas establecidas siguiendo los pasos del pensamiento computacional.\n",
        "\n"
      ]
    },
    {
      "cell_type": "code",
      "metadata": {
        "id": "HeIyTF_Gqv5a"
      },
      "source": [
        "mesa1 = {'José Arcadio': 101, 'Aureliano': 75, 'Úrsula': 143, 'Amaranta': 56, 'Rebeca': 9, 'blanco': 46}\n",
        "mesa2 = {'Aureliano': 235, 'Úrsula': 192, 'Amaranta': 21, 'Rebeca': 11, 'blanco': 36}\n",
        "mesa3 = {'Obama': 4, 'Úrsula': 96, 'Amaranta': 33, 'Rebeca': 4, 'blanco': 12}\n",
        "mesa4 = {'Piero': 322, 'Aureliano': 63, 'Úrsula': 81, 'Obama': 16, 'blanco': 120}\n",
        "mesa5 = {'José Arcadio': 18, 'Aureliano': 221, 'Úrsula': 156, 'Amaranta': 22, 'blanco': 244, 'Rebeca': 27, 'Piero': 2}"
      ],
      "execution_count": null,
      "outputs": []
    },
    {
      "cell_type": "markdown",
      "metadata": {
        "id": "GnXTX0tYm3nt"
      },
      "source": [
        "### __Billetes y monedas__\n",
        "\n",
        "> - El objetivo es recibir un valor monetario que sea múltiplo de 100. Luego de esto, calcular el menor número posible de billetes y monedas en los cuales su valor puede ser descompuesto. Los billetes a tener en cuenta son de 50000, 20000, 10000, 5000 y 2000. Las monedas posibles son de 1000, 500, 200, y 100.Diseñar un algoritmo que reciba una cantidad monetaria e imprima una serie de valores el valor del billete o moneda acompañadp de la cantidad que se requiere para completar el valor solicitado.\n",
        "- Pruebas:\n",
        "\n",
        "| Entrada | Salida\n",
        "| :---: |---\n",
        "| 41200 | 20000 2 1000 1 200 1\n",
        "| 188600 | 50000 3 20000 1 10000 1 5000 1 2000 1 1000 1 500 1 100 1\n",
        "| 400900 | 50000 8 500 1 200 2\n",
        "| 1300 | 1000 1 200 1 100 1\n",
        "| 350000 | 50000 7\n",
        "\n"
      ]
    },
    {
      "cell_type": "code",
      "source": [
        "# Celda de código para probar"
      ],
      "metadata": {
        "id": "LE4rQAP2ecgU"
      },
      "execution_count": null,
      "outputs": []
    },
    {
      "cell_type": "markdown",
      "source": [
        "### __Crecimiento de la población de conejos__\n",
        "\n",
        "Esta ecuación sirve para modelar, por ejemplo, el crecimiento de una población\n",
        "$$x_{n+1} = rx_n(1-x_n)$$\n",
        "\n",
        "Donde $x_n$ es un porcentaje de la población máxima actual y $X_{n+1}$ el porcentaje para el próximo año. El valor $r$ es la tasa de crecimiento que es fija.\n",
        "\n",
        "1. Haga una gráfica del porcentaje de población actual versus la población del año siguiente para cada punto porcentual recibiendo como parámetro un valor de $r$. (parábola invertida)\n",
        "\n",
        "2. Realiza una simulación de la población para varios periodos de tiempo, dejando una tasa fija. Analiza que pasa para valores de tasa $r = [2.5, 2.9, 3.3, 3.5, 3.56, 3.7]$ identifica a cuantos valores tiende cada valor de tasa dado.\n",
        "\n",
        "3. Genera un gráfico de la tasa versus el procentaje de población (no usar numpy). Ten en cuenta que par valores de tasa entre 3 y 4 pueden ocurrir más de un valor de población.\n",
        "\n",
        "video recomendado: [Esta ecuación cambiará tu forma de ver el mundo](https://www.youtube.com/watch?v=EOvLhZPevm0&t=912s)"
      ],
      "metadata": {
        "id": "PJ7oFtMshRrW"
      }
    },
    {
      "cell_type": "code",
      "source": [
        "# Celda de código para probar"
      ],
      "metadata": {
        "id": "s32MBc4med8J"
      },
      "execution_count": null,
      "outputs": []
    },
    {
      "cell_type": "markdown",
      "source": [
        "### __Acuerdo entre médicos__\n",
        "\n",
        "Un hospital está evaluando la precisión de dos radiólogos en la interpretación de radiografías de tórax para diagnosticar la presencia o ausencia de neumonía en pacientes. Cada radiólogo revisa las radiografías de N pacientes de forma independiente, y las clasifica en dos categorías: \"Neumonía\" o \"No Neumonía\".\n",
        "\n",
        "Los resultados de las clasificaciones de ambos radiólogos deben ser comparados para evaluar su nivel de acuerdo más allá de lo que podría esperarse por pura casualidad. Para ello, se te pide crear un algoritmo que calcule el coeficiente de kappa de Cohen, con el fin de determinar el grado de concordancia entre ambos profesionales.\n",
        "\n",
        "$$\\kappa = \\frac{p_0 - p_e}{1-p_e}$$\n",
        "\n",
        "Donde:\n",
        "\n",
        "$p_0$ es la proporción observada de acuerdo entre los radiólogos.\n",
        "\n",
        "$p_e$ es la proporción esperada de acuerdo por azar.\n",
        "\n",
        "El algoritmo debe imprimir el valor de kappa y determinar el nivel de acuerdo según la escala siguiente:\n",
        "\n",
        "- Kappa > 0.80: Excelente acuerdo.\n",
        "- Kappa entre 0.60 y 0.80: Buen acuerdo.\n",
        "- Kappa entre 0.40 y 0.60: Acuerdo moderado.\n",
        "- Kappa entre 0.20 y 0.40: Acuerdo pobre.\n",
        "- Kappa < 0.20: Acuerdo muy bajo."
      ],
      "metadata": {
        "id": "u_IpQgoim1RM"
      }
    },
    {
      "cell_type": "code",
      "source": [
        "# Celda de código para probar"
      ],
      "metadata": {
        "id": "5BccmpOueero"
      },
      "execution_count": null,
      "outputs": []
    },
    {
      "cell_type": "markdown",
      "metadata": {
        "id": "S7PspYofz6z4"
      },
      "source": [
        "## __Ejercicios de Algoritmos de listas__\n",
        "\n",
        "> - Para los siguientes ejercicios no se deben utilizar funciones externas o de python. La idea es crear funciones propias.\n",
        "- En los siguientes ejercicios, primero determine los pasos que solucionan el problema, luego codifique la solución, pruebe los pasos uno a uno hasta obtener la solución completa, y finalmente convierta el resultado en una función.\n",
        "    1. Hacer una función que busca un valor en una lista y devuelve la cantidad de veces que aparece el valor dado y una lista con las posiciones (índices) en donde se encuentra el valor. La función recibe la lista y el valor a buscar. Por ejemplo;\n",
        "    `entrada: ([1,8,2,8,8,4,7,8,8,2,8,3,8,7,6], 8) salida: (7, [1,3,4,7,8,10,12]`\n",
        "    2. Diseñe un algoritmo que recibe dos listas de valores numéricos y busca la secuencia completa de valores de la segunda lista dentro de la primera lista. El algoritmo devuelve el índice en donde se inicia la coincidencia completa. En este ejercicio no se pueden usar otras funciones ni librerias Por ejemplo:\n",
        "    `entrada: ([1,2,2,2,3,2,3,7,2,6,7], [2,3,7]) salida: (5)`\n",
        "    2. Se requiere un algoritmo que halle el valor máximo de una lista que se da como entrada. El algoritmo devuelve el valor máximo, las veces que se aparece y una lista con las posiciones (los índices) en donde se encuentra el máximo.\n",
        "    3. Hallar el valor promedio de una lista de valores.\n",
        "    3. Dada una lista de valores, halle la desviación estándar.\n",
        "    3. Dada una lista de valores, halle el valor de la Curtosis.\n",
        "    3. Diseñe un algoritmo que calcule la mediana de una lista de valores.\n",
        "    4. Diseñe una función que recibe una lista de valores y devuelve una lista en donde se eliminan los valores únicos. Por ejemplo:\n",
        "    `Entrada: ([8,7,3,9,4,12,6,4,3,7,0,8,5,6,21,11,6,1,2,5]) Salida: ([8,7,3,4,6,4,3,7,8,5,6,6,5])` <br>Observe que en este ejemplo se eliminaron los valores `[9,12,0,21,11,1,2]`\n",
        "    4. Dada la fórmula del sesgo positivo, diseñe un algoritmo que lo calcule a partir de una lista de valores.\n",
        "$$ sp = \\frac{1}{N-1}\\sum_{i=1}^N \\frac{1}{1+e^{-f\\cdot y_i}}$$\n",
        "donde $N$ es la cantidad de muestras, $f$ es el factor de multiplicación que puede ser 4, 8, o 16, y $y$ es:\n",
        "\n",
        "$$ y_i = \\frac{(x_i-\\mu)}{\\sigma}$$\n",
        "\n",
        "\n"
      ]
    },
    {
      "cell_type": "code",
      "metadata": {
        "id": "RYQ1NiOildcJ"
      },
      "source": [
        "# Celda de código para probar"
      ],
      "execution_count": null,
      "outputs": []
    }
  ]
}