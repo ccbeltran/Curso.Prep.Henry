{
  "nbformat": 4,
  "nbformat_minor": 0,
  "metadata": {
    "colab": {
      "provenance": [],
      "include_colab_link": true
    },
    "kernelspec": {
      "name": "python3",
      "display_name": "Python 3"
    }
  },
  "cells": [
    {
      "cell_type": "markdown",
      "metadata": {
        "id": "view-in-github",
        "colab_type": "text"
      },
      "source": [
        "<a href=\"https://colab.research.google.com/github/ccbeltran/Curso.Prep.Henry/blob/master/04_algoritmosCondicionales.ipynb\" target=\"_parent\"><img src=\"https://colab.research.google.com/assets/colab-badge.svg\" alt=\"Open In Colab\"/></a>"
      ]
    },
    {
      "cell_type": "markdown",
      "metadata": {
        "id": "au1giV3cJBF5"
      },
      "source": [
        "![Universidad Central](https://www.ucentral.edu.co/sites/default/files/inline-images/identificadores-Centrados_en_ti_logo-h.png)"
      ]
    },
    {
      "cell_type": "markdown",
      "metadata": {
        "id": "eWZAdQe4eb4P"
      },
      "source": [
        "# __CURSO DE PROGRAMACIÓN PARA ANALÍTICA DE DATOS__\n",
        "\n",
        "> ## __TALLER N° 4:  CONDICIONALES Y CICLOS__\n",
        ">\n",
        "> ## Profesor: Jorge Victorino [jvictorinog@ucentral.edu.co](jvictorinog@ucentral.edu.co)<br>\n",
        "> ### Facultad de Ingeniería y Ciencias Básicas <br>\n",
        "> ### Universidad Central <br>\n",
        "> <br>\n",
        ">\n",
        "> ## __Contenido__\n",
        ">> ### Estructura condicional\n",
        ">> - Concepto de decisión\n",
        ">\n",
        ">> ### Condicional simple\n",
        ">> ### Condicional doble\n",
        ">> ### Condicional anidado\n",
        ">> ### Condicional múltiple o selectivo\n",
        "---\n",
        "\n",
        "\n"
      ]
    },
    {
      "cell_type": "markdown",
      "metadata": {
        "id": "4UiQwKHI6QyR"
      },
      "source": [
        "# __Estructura condicional__\n",
        "\n",
        ">## __Concepto de decisión__\n",
        ">- La estructura condicional es la que permite dividir el flujo del programa en dos o en más flujos diferentes. De esta forma el programa puede responder de manera adecuada a diferentes estados que se presentan en tiempo real.\n",
        "- La condición es una expresión lógica, que al ser evaluada como verdadera activa el flujo que responde a esta condición y en caso de no cumplirse se puede activar un flujo alternativo.\n",
        "- El siguiente es un diagrama de flujo de la estructura condicional:\n",
        "\n",
        "\n"
      ]
    },
    {
      "cell_type": "markdown",
      "source": [
        "Inicio Programa: calcula numeros primos\n",
        "numero (entero): 1\n",
        "Si condición = Verdadero, entonces\n",
        "    numero = 10\n",
        "sino entonces:\n",
        "    numero = 100\n",
        "fin si\n",
        "imprimir numero"
      ],
      "metadata": {
        "id": "TYzpvw_g-uCG"
      }
    },
    {
      "cell_type": "code",
      "source": [
        "edad = int(input('Ingrese el valor de edad: '))\n",
        "genero = input('Ingrese el género {F:Femenino, M:Masculino}: ')\n",
        "genero = genero.upper()\n",
        "if genero == 'F' or genero == 'FEMENINO':\n",
        "    print('La persona es del género Femenino!', genero)\n",
        "elif genero == 'M' or genero == 'MASCULINO':\n",
        "    print('La persona es del género Masculino!', genero)\n",
        "else:\n",
        "    print('No entiendo su entrada, por favor siga las instrucciones!!')\n",
        "\n",
        "if edad < 18:\n",
        "    print('Es menor de edad', edad)\n",
        "else:\n",
        "    print('El sujeto es mayor de edad', edad)\n",
        "print('Fin del programa')"
      ],
      "metadata": {
        "colab": {
          "base_uri": "https://localhost:8080/"
        },
        "id": "e2HKeRZeA9so",
        "outputId": "da1b4e14-936a-4e06-ba5d-b63555334883"
      },
      "execution_count": null,
      "outputs": [
        {
          "output_type": "stream",
          "name": "stdout",
          "text": [
            "Ingrese el valor de edad: 22\n",
            "Ingrese el género {F:Femenino, M:Masculino}: femeNino\n",
            "La persona es del género Femenino! FEMENINO\n",
            "El sujeto es mayor de edad 22\n",
            "Fin del programa\n"
          ]
        }
      ]
    },
    {
      "cell_type": "code",
      "source": [
        "edad = int(input('Ingrese el valor de edad: '))\n",
        "genero = input('Ingrese el género {F:Femenino, M:Masculino}: ')\n",
        "genero = genero.upper()\n",
        "if genero == 'F' or genero == 'FEMENINO':\n",
        "    if edad >= 57:\n",
        "        print('La señora cumple edad de pensión!', genero, edad)\n",
        "    else:\n",
        "        print(f'Señora no cumple edad de pensión! le falta: esperar {57-edad} años')\n",
        "else:\n",
        "    if edad >= 62:\n",
        "        print('El señor cumple edad de pensión!', genero, edad)\n",
        "    else:\n",
        "        print(f'Señor no cumple edad de pensión! le falta: esperar {62-edad} años')\n"
      ],
      "metadata": {
        "colab": {
          "base_uri": "https://localhost:8080/"
        },
        "id": "mdUJJHXZHevS",
        "outputId": "5554394e-d4a7-40ef-c462-61dd9523dce0"
      },
      "execution_count": null,
      "outputs": [
        {
          "output_type": "stream",
          "name": "stdout",
          "text": [
            "Ingrese el valor de edad: 59\n",
            "Ingrese el género {F:Femenino, M:Masculino}: F\n",
            "La señora cumple edad de pensión! F 59\n"
          ]
        }
      ]
    },
    {
      "cell_type": "markdown",
      "metadata": {
        "id": "JJNtLNc-GQem"
      },
      "source": [
        "![Estr_condicional.png](data:image/png;base64,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)"
      ]
    },
    {
      "cell_type": "markdown",
      "metadata": {
        "id": "00zXUsHMPDJl"
      },
      "source": [
        "# __Condicional simple__\n",
        "\n",
        ">__Definición__:\n",
        ">> El condicional simple es una estructura algorítmica que permite determinar si alguna situación cumple con una determinada condición. Por ejemplo:\n",
        "- Saber **si** la variable año es mayor a 2001\n",
        "- Comporbar que la temperatura de una persona es normal: valor entre: `36.5 y 37.5`\n",
        "- Determinar si la persona es mayor de edad: valor mayor o igual a 18 años\n",
        "\n",
        ">__Estructura__:\n",
        ">>El condicional simple presenta la siguiente estructura:\n",
        "- Usa la palabra reservada __`if`__\n",
        "- Seguido de una _condición_, la cual, es una expresión aritmético lógica (Taller N° 2)\n",
        "- La condición se finaliza con dos puntos `:`\n",
        "- Luego vienen una serie de instrucciones, las cuales se realizan si la condición se cumple. Estas instrucciones deben estar con un nivel adicional de samgría con respecto a la definición del condicional.\n",
        "\n",
        "\n",
        "```python\n",
        "if condición :\n",
        "    instrucciones...\n",
        "```\n",
        "\n",
        "\n"
      ]
    },
    {
      "cell_type": "markdown",
      "metadata": {
        "id": "MRhk5nBbo_qF"
      },
      "source": [
        "# __Condicional doble__\n",
        "\n",
        "> __Definición__:\n",
        ">> El condicional doble es una estructura algorítmica que permite determinar si alguna situación cumple __o no__ con una determinada condición. A diferencia del condicional simple, con el condicional doble se tiene la capacidad de ejecutar un grupo de instrucciones cuando se cumple una condición y otro grupo cuando no se cumple la condición. Por ejemplo:\n",
        "- Saber **si** la variable año es mayor a 2010 o no\n",
        "- Comporbar que la temperatura de una persona es normal o no lo es\n",
        "- Determinar si la persona es mayor de edad o menor de edad: valor mayor o igual a 18 años\n",
        "\n",
        "> __Estructura__:\n",
        ">>El condicional doble presenta la siguiente estructura:\n",
        "- Se inicia con la palabra reservada __`if`__\n",
        "- Seguido de una _condición_, la cual, es una expresión aritmético lógica (Taller N° 2)\n",
        "- La condición se finaliza con dos puntos `:`\n",
        "- Luego vienen una serie de instrucciones, las cuales se realizan si la condición se cumple. Estas instrucciones deben estar con un nivel adicional de samgría con respecto a la definición del condicional.\n",
        "- Posteriormente, la palabra reservada `else :` seguida de dos puntos. La palabra debe estar al mismo nivel de sangría que el condicional.\n",
        "- Luego vienen un segundo grupo de instrucciones, las cuales se realizan si la condición NO se cumple. Estas instrucciones deben estar con un nivel adicional de samgría con respecto a la definición del condicional.\n",
        "\n",
        "\n",
        "\n",
        "```python\n",
        "if condición :\n",
        "    instrucciones 1...\n",
        "else :\n",
        "    instrucciones 2...\n",
        "```\n",
        "\n"
      ]
    },
    {
      "cell_type": "markdown",
      "metadata": {
        "id": "BtXrgLsoW-a7"
      },
      "source": [
        "# __Condicional anidado__\n",
        "\n",
        "> __Definición__:\n",
        ">> El condicional anidado es una estructura algorítmica que permite determinar si varias situaciones se cumplen __o no__ de forma jerárquica. AL inicio se determina una primera situación y dentro de esta se define una segunda situación. Para cada situación se tiene una condición diferente. La segunda situación debe tener un nivel de sangría más que la primera.\n",
        "Por ejemplo:\n",
        "- Poder discriminar en una persona el género y la mayoría de edad. En este caso se pueden contemplar 4 situaciones diferentes:\n",
        "    - Género Femenino y menor de edad\n",
        "    - Género Femenino y mayor de edad\n",
        "    - Género Masculino y menor de edad\n",
        "    - Género Masculino y mayor de edad\n",
        "\n",
        "> __Estructura__:\n",
        ">>El condicional anidado presenta una estructura como el caso del condicional doble, agregando a las instrucciones una estructura condicional:\n",
        "\n",
        "```python\n",
        "if condición 1 :\n",
        "    if condición 2 :\n",
        "        instrucciones 1...\n",
        "    else :\n",
        "        instrucciones 2...\n",
        "else :\n",
        "    if condición 2 :\n",
        "        instrucciones 3...\n",
        "    else :\n",
        "        instrucciones 4...\n",
        "```\n",
        "\n"
      ]
    },
    {
      "cell_type": "markdown",
      "metadata": {
        "id": "gJnj1k8SUJMo"
      },
      "source": [
        "## __Ejemplo 1. Pensión en Colombia__\n",
        "\n",
        "> - En Colombia para pensionarse en el régimen de prima media (pensión con el estado). Se requiere que los hombres hayan cumplido 62 años y en el caso de las mujeres 57 años, además de haber cotizado más de 1300 semanas. Diseñe un algoritmo que reciba la edad, género y número de semanas cotizadas, y determine si ya tiene las condicones para pensionarse o en su defecto determinar que le hace falta.\n",
        "\n",
        "> __Solución__\n",
        "1. Se debe analizar las condiciones para cumplir con los requisitos de pensión. Pero, antes se debe discriminar por el género.\n",
        "2. Conociendo el género, se puede aplicar una regla u otra.\n",
        "3. Si no se han coseguido las semanas o la edad no se puede pensionar y se debe calcular lo que le hace falta.\n",
        "4. Si no es el caso, quiere decir que ya esta listo para la pensión.\n",
        "\n",
        "## Solución incremental\n",
        "después de analizar el problema y plantear una solución se procede a codificar la solución en _python_.  A continuación se propone una solución incremental al problema. Para iniciar se definen las variables del ejercicio: género, edad y semanas cotizadas:\n",
        "\n",
        "```python\n",
        "# Ingreso de información\n",
        "genero  = 'Masculino'\n",
        "edad    = 45\n",
        "semanas = 1020\n",
        "```\n",
        "\n",
        "1. Condicional simple. Primero se resuelve para un caso, por ejemplo caso de género masculino.\n",
        "```python\n",
        "# Ingreso de información\n",
        "genero  = 'Masculino'\n",
        "edad    = 45\n",
        "semanas = 1020\n",
        "#\n",
        "if genero == 'Masculino':\n",
        "    print('Se requiere haber cumplido 62 años y tener 1300 semanas cotizadas')\n",
        "```\n",
        "\n",
        "2. Condicional doble. Se resulve para los dos géneros.\n",
        "```python\n",
        "# Ingreso de información\n",
        "genero  = 'Masculino'\n",
        "edad    = 45\n",
        "semanas = 1020\n",
        "#\n",
        "if genero == 'Masculino':\n",
        "    print('Se requiere haber cumplido 62 años y tener 1300 semanas cotizadas')\n",
        "else: # género == 'Femenino'\n",
        "    print('Se requiere haber cumplido 57 años y tener 1300 semanas cotizadas')\n",
        "```\n",
        "\n",
        "\n",
        "3. Condicional anidado: El asunto con la solución anterior es que no utiliza la información ingresada para darle mejor información. Para lo cual se agrega en cada caso un nuevo condicional.\n",
        "- Para el caso Masculino:\n",
        "\n",
        "```python\n",
        "    if edad >= 62 and semanas >= 1300:\n",
        "        print('En este momento se cumplen las condiciones de pensión!!')\n",
        "    else:\n",
        "        print('El usuario aún no cumple las condiciones de pensión')\n",
        "```\n",
        "\n",
        "> - Para el caso Femenino:\n",
        "\n",
        "```python\n",
        "    if edad >= 57 and semanas >= 1300:\n",
        "        print('En este momento se cumplen las condiciones de pensión!!')\n",
        "    else:\n",
        "        print('El usuario aún no cumple las condiciones de pensión')\n",
        "```\n",
        "> - Pero falta considerar lo que le hace falta para cumplir con los requisitos. Entonces para el caso masculino:\n",
        "\n",
        "```python\n",
        "        if edad < 62:\n",
        "            print('--> Le hacen falta:', 62-edad, 'años para pensionarse')\n",
        "        if semanas < 1300:\n",
        "            print('--> Le hacen falta:', 1300-semanas, 'semanas para pensionarse', f'({(1300-semanas)/52} años)')\n",
        "```\n",
        "\n",
        "> ## __Ejercicio__\n",
        "- Integre los fragmentos para generar una solución completa del ejercicio,\n",
        "- cambie los datos fijos por datos que ingresa el usuario con la función `input`, y\n",
        "- complete el programa para el caso femenino.\n",
        "\n",
        "\n",
        "\n",
        "\n"
      ]
    },
    {
      "cell_type": "code",
      "metadata": {
        "id": "NgbfB6-2swrJ"
      },
      "source": [
        "# Pruebe en esta celda de código\n"
      ],
      "execution_count": null,
      "outputs": []
    },
    {
      "cell_type": "markdown",
      "metadata": {
        "id": "7PVtHADT6SBG"
      },
      "source": [
        "# __Condicional múltiple o selectivo__\n",
        "\n",
        "> __Definición__:\n",
        ">> El condicional múltiple o selectivo es una estructura algorítmica que permite seleccionar entre varias situaciones y luego aplicar un conjunto de instrucciones espacíficas ante la situación. Por ejemplo:\n",
        "- Poder discriminar en una persona el rango de tempratura y manejar cada caso por aparte:\n",
        "    - situación de hipotermia, temperatura menor 35°C\n",
        "    - situación de baja temperatura entre 35°C y 36.5°C\n",
        "    - situación de temperatura normal entre 36.5°C y 37.5°C\n",
        "    - situación de fiebre entre 37.5°C y 39°C\n",
        "    - situación de hipertermia, temperatura mayor a 39°C\n",
        "\n",
        "> __Estructura__:\n",
        ">> El condicional múltiple define situaciones disyuntas para cada caso  particular que se quiere analizar. La primera condición utiliza la palabra reservada `if` seguido de la condición, dos puntos `:`, y las instrucciones respectivas con un nivel mayor de sangría del texto. Las siguientes situaciones se plantean con la palabra reservada `elif` y misma estrcutura anterior. Finalmente, el descarte se programa con la palabra reservada `else` y sus respectivas instrucciones. Como se muestra a continuación:\n",
        "\n",
        "```python\n",
        "if condición 1 :\n",
        "    instrucciones 1...\n",
        "elif condición 2 :\n",
        "    instrucciones 2...\n",
        "...\n",
        "elif condición n :\n",
        "    instrucciones n...\n",
        "else :\n",
        "    instrucciones n+1...\n",
        "```"
      ]
    },
    {
      "cell_type": "code",
      "source": [
        "ica = int(input('Ingrese el valor de ICA: '))\n",
        "if 0 <= ica <= 50:\n",
        "    print(f'ICA={ica} es Bueno (verde)')\n",
        "elif 0 <= ica <= 100:\n",
        "    print(f'ICA={ica} es Moderado (Amarillo)')\n",
        "elif 0 < ica <= 150:\n",
        "    print(f'ICA={ica} es Dañino (Anaranjado)')\n",
        "elif 0 < ica <= 200:\n",
        "    print(f'ICA={ica} es Dañino (Rojo)')\n",
        "elif 0<ica <= 300:\n",
        "    print(f'ICA={ica} es Muy dañino (Morado)')\n",
        "elif 0<ica <= 500:\n",
        "    print(f'ICA={ica} es Peligroso (Marrón)')\n",
        "else:\n",
        "    print('Ese valor no está catalogado')\n",
        "print('Terminamos!!')"
      ],
      "metadata": {
        "colab": {
          "base_uri": "https://localhost:8080/"
        },
        "id": "A8pakASnM9kr",
        "outputId": "f7a41d22-130e-4843-e112-8f278fa241a0"
      },
      "execution_count": null,
      "outputs": [
        {
          "output_type": "stream",
          "name": "stdout",
          "text": [
            "Ingrese el valor de ICA: -1\n",
            "Ese valor no está catalogado\n",
            "Terminamos!!\n"
          ]
        }
      ]
    },
    {
      "cell_type": "markdown",
      "metadata": {
        "id": "Sd-TztgtAAdl"
      },
      "source": [
        "## __Ejemplo 2: Categorías de calidad del aire__\n",
        "\n",
        "> - La gráfica de abajo muestra las categorías de calidad del aire y el riesgo que representan para la salud. La concetración de material particulado promediado diariamente y medido en micro-gramos por metro cúbico es el índice de calidad del aire (ICA). Hacer un algoritmo que dada el valor de ICA imprima la categoría y el color.\n",
        "\n",
        "<!--![ICA](https://slideplayer.es/slide/2310929/8/images/12/Indice+de+la+Calidad+del+Aire+%28ICA%29.jpg) -->"
      ]
    },
    {
      "cell_type": "markdown",
      "metadata": {
        "id": "UaZiOLI2Cevd"
      },
      "source": [
        "![ica.jpg](data:image/jpeg;base64,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)"
      ]
    },
    {
      "cell_type": "markdown",
      "metadata": {
        "id": "UpyHGYTSzv3S"
      },
      "source": [
        "#### __Solución__\n",
        "\n",
        "> - A continuación se muestra el esquema de estructura selectiva basado en condicionales para solucionar el problema.\n",
        "- Observe que cada condicional corresponde con cada una de las categorías del problema, lo cual permite producir mensajes para cada caso."
      ]
    },
    {
      "cell_type": "markdown",
      "metadata": {
        "id": "S6heW15ESZ-q"
      },
      "source": [
        "![Diag_CalidadAire.png](data:image/png;base64,iVBORw0KGgoAAAANSUhEUgAABbIAAANUCAMAAABR9isaAAADAFBMVEUAAAAAADMAAGYAAJkAAMwAAP8AMwAAMzMAM2YAM5kAM8wAM/8AZgAAZjMAZmYAZpkAZswAZv8AmQAAmTMAmWYAmZkAmcwAmf8AzAAAzDMAzGYAzJkAzMwAzP8A/wAA/zMA/2YA/5kA/8wA//8zAAAzADMzAGYzAJkzAMwzAP8zMwAzMzMzM2YzM5kzM8wzM/8zZgAzZjMzZmYzZpkzZswzZv8zmQAzmTMzmWYzmZkzmcwzmf8zzAAzzDMzzGYzzJkzzMwzzP8z/wAz/zMz/2Yz/5kz/8wz//9mAABmADNmAGZmAJlmAMxmAP9mMwBmMzNmM2ZmM5lmM8xmM/9mZgBmZjNmZmZmZplmZsxmZv9mmQBmmTNmmWZmmZlmmcxmmf9mzABmzDNmzGZmzJlmzMxmzP9m/wBm/zNm/2Zm/5lm/8xm//+ZAACZADOZAGaZAJmZAMyZAP+ZMwCZMzOZM2aZM5mZM8yZM/+ZZgCZZjOZZmaZZpmZZsyZZv+ZmQCZmTOZmWaZmZmZmcyZmf+ZzACZzDOZzGaZzJmZzMyZzP+Z/wCZ/zOZ/2aZ/5mZ/8yZ///MAADMADPMAGbMAJnMAMzMAP/MMwDMMzPMM2bMM5nMM8zMM//MZgDMZjPMZmbMZpnMZszMZv/MmQDMmTPMmWbMmZnMmczMmf/MzADMzDPMzGbMzJnMzMzMzP/M/wDM/zPM/2bM/5nM/8zM////AAD/ADP/AGb/AJn/AMz/AP//MwD/MzP/M2b/M5n/M8z/M///ZgD/ZjP/Zmb/Zpn/Zsz/Zv//mQD/mTP/mWb/mZn/mcz/mf//zAD/zDP/zGb/zJn/zMz/zP///wD//zP//2b//5n//8z///8AAAAAAAAAAAAAAAAAAAAAAAAAAAAAAAAAAAAAAAAAAAAAAAAAAAAAAAAAAAAAAAAAAAAAAAAAAAAAAAAAAAAAAAAAAAAAAAAAAAAAAAAAAAAAAAAAAAAAAAAAAAAAAAAAAAAAAAAAAAAAAAAAAAAAAAAAAAAAAABlenwdAAABAHRSTlP///////////////////////////////////////////////////////////////////////////////////////////////////////////////////////////////////////////////////////////////////////////////////////////////////////////////////////////////////////////////////////////////////////////////////////////////8AAAAAAAAAAAAAAAAAAAAAAAAAAAAAAAAAAAAAAAAAAAAAAAAAAAAAG8mZagAAAAlwSFlzAAAYmwAAGJsBSXWDlAAAACV0RVh0ZGF0ZTpjcmVhdGUAMjAyMS0wMi0xNVQyMDowMDozNSswMDowMK8m/n8AAAAldEVYdGRhdGU6bW9kaWZ5ADIwMjEtMDItMTVUMjA6MDA6MzUrMDA6MDDee0bDAAAgAElEQVR4nO2di5WkKhQANx/zIR/yIR/T2ZafqOj4QcFr1Xlvp6fbVrmDJV4B/3UAAPAS/tXeAQAA2AvKBgB4DSgbAOA1oGwAgNeAsgEAXgPKBgB4DSgbAOA1oGwAgNeAsgEAXgPKBgB4DSgbAOA1oGwAgNeAsgEAXgPKBgB4DSgbAOA1oGwAgNeAsgEAXgPKBgB4DSgbAOA1oGwAgNeAsuFFqKeoXVCAFVA2vAGltHkajbmhPVA2tI5Sj9s60Xbt0gNMQNnQNqmv9WOk2sba0BAoG1pGx9bu8+JU0dz68W0DrICyoV109exESKEjbWgElA2tomv72uGtjbShCVA2tIlqSJS6nV2Br4OyoUnasqRraddu7wOgbGiT5hSpmjqFwHdB2dAguowf591MLp0DCu0TwCVQNrSHPtPEVosblarXs99xNrwdlA3NccrYC0F3hVvZZ/cLoCQoG1pDnWvNZpRdmsHZd28DYBOUDa1xMv+QKPuvpvDpoZSa1AhUBmVDY6iTTVmn7L7vdN/3NoHhJZ78blVt+oFz1qaZDZVB2dAYZxPGQdmm1+pn5fjO77XWZnjplP3TtV3g1EZoZkNlUDa0xdlGdlT2IOufp5V/R/d2dcPbVtn+d//jMDSzoS4oG9pCn+2VEVvZdi2uVa29vF362io7NK+d2p/bPYAioGxoi8vKVvEX+0+iZq9s98tJZSuUDVVB2dAWpzMP8fZj/GVT2eZcMluRzIaqoGxoi6eUTZ8ReCUoG9qivLLVuMT1XDbKhrqgbGiL0srWoTO2cso215RNYgTqgrKhLS7ffhx/8f+4f41vZfvfzcnh7dx+hLqgbGiLi8o2c2UPgx+NG+3ohtIMv5v+ZLdsOvlBZVA2tMX5oTR28lWlx1/8dKxKu/Hqye/96SdKksqGuqBsaIymZzhlwDpUBmVDY5xuZj9By/sGnwBlQ2s0/PAXGtlQG5QNrXHyEQcPwCMOoDooG5qj1Qd2tbpf8CVQNrRHm27kcb3QACgbGqRFO7a4T/A9UDa0yODHphraQ4IdY0N9UDY0iW5Kkaq5Uwh8FZQNbWKbtY1Iu63zB3walA2top20a7dtlW7o5AGfB2VDuzhZ1rS2CrtQbQ8AJqBsaBlvzJ+1n9e20nHrj28bYAWUDW2jzIgeUHczbCTZKHcdoSVQNrSOSq39MNUz6QBTUDa8AaX0334trmt8Dc2BsuFFxMTFjdht1C4owAooG2TD3HsgCpQNskHZIAqUDbJB2SAKlA2yQdkgCpQNskHZIAqUDbJB2SAKlA2yQdkgCpQNskHZIAqUDbJB2SAKlA2yQdkgCpQNskHZIAqUDbJB2SAKlA2yQdkgCpQNskHZIAqUDbJB2SAKlA2yQdkgCpQNskHZIAqUDbJB2SAKlA2yQdkgCpQNskHZIAqUDbJB2SAKlA2yQdkgCpQNskHZIAqUDbJB2SAKlA2yQdkgCpQNskHZIAqUDbJB2SAKlA2yQdkgCpQNskHZIAqUDbJB2SAKlA2yQdkgCpQNskHZIAqUDbJB2SAKlA2yQdkgCpQNskHZIAqUDbJB2SAKlA2yQdkgCpQNskHZIAqUDbJB2SAKlA2yQdkgCpQNskHZIAqUDbJB2SAKlA2yQdkgCpQNskHZIAqUDbJB2SAKlA2yQdkgCpQNskHZIAqUDbJB2SAKlA2yQdkgCpQNskHZIAqUDbJB2SAKlA2yQdkgCpQNskHZIAqUDbJB2SAKlA2yQdkgCpQNskHZIAqUDbJB2SAKlA2yQdkgCpQNYlFmRNXeGYAioGyQS6Ls2rsCUAaUDXLR0di69q4AlAFlg1wUeRGQBsoGwZAXAWmgbBCMJi8CwkDZIBhFXgSEgbJBMuRFQBgoGyRDXgSEgbJBMoq8CMgCZYNoyIuALFA2iIa8CMgCZYNoFHkREAXKBtmQFwFRoGyQDXkREAXKBtlo8iIgCZQNslHkRUASKBuEQ14EJIGy4X7Ud6kdepAGyoabSR/n9UFo5ENRUDbci/7basKhpQ0FQdlwK7aNrb8LzoayoGy4FfP11MAg7dr7AIJA2XAn+uvGtictmtlQDJQNd0ITc0gNff2sBQVB2XAnKJsYQFFQNtwJuiIGUBSUDXeCrogBFAVlw52gK2IARUHZcCfoihhAUVA23Am6IgZQFJQNd4KuiAEUBWXDnaArYgBFQdlwJw3pat9EqDdMl9pQDOD9oGy4ky1dKf3oQO6+v7KUHndW6cmO/37dXiXKhoKgbLiTTWX3jw7kvqbsvneaVr0nWtv0f5QDZUNBUDbciTRl/4w9NLGVic5Wvem3lYyyoSAoG+5EmLJVNLUOC+r+5+/NDA/KhoKgbLiTv5Wte9tm9ROU/l793rU6/P1j7BLDe74hq+xrZ3ptl7Vfi4vapb0/7UqmC3UhsWGX/W1ZJ4a2exGUnWwnrE3Zt+N7etyM2m5mo2woCMqGO9mjbNObwax28Z8nhzecsrW15k+kWvnkw6Bf7byp3Nu9e3tMKAd/6uGnnixkP/2dHIw7A+hhA3H3hjfDpocVKtWnJnbKXrbBtdvFszEAOAjKhjvZo2zfflVBtyoo24pQO3FaNWrXgjbuY9WFd9K7gWM7WYXXetStz2/YD3X6LeXa+a7Z7U8QZrLWvLL9mrZSPCgbCoKy4U52tbLdLybmHXRoZXfdaMnhp15kIJzkJ+1h7/U05eEXso1sv4yerc1bV4WczPi9sHmVy777k8xmZgRlQ0FQNtzJHmX7rhgm7ZbRRW+myu5iztutQCmdtJ3jan3WY7HQaGnllJ0IOPzixB6WGrW/omwT2v0bNyBRNhQEZcOdHFC2XujZvw50/uahs7a7E9mni3bJt02fWyiIWblfEs8G6fq2eLLNsFKVa00PyfUfm/38UDYUBGXDnZRQtvK4L2l3p9HfHFQZZds1hk+nC+1W9mSbfjcWG7IpnIXcD8UA4CAoG+7kqLLXEyMj2vm2j6/ny/w8rfvxZmKy0NidRM+UPU2MLAW87OTn+h9qp3azcQMSZUNBUDbcyTFlz24/2qWmeWq30t9bMYmcUbbpfV6kny8UZGzWlB3OFovUdBxKE3f+90b663o5UTYUBGXDnRxTthtcqCcJah1635mYvRhTHDqXyx7HkPuFEq+b8LVupmzXQcX3L/TbTJvOo/2VW/PwM1kgY/k9MQA4CMqGOzmmbDue5Se/iYftGJc4lMZoN8BmeDksau06T2TEftqLhYY7i8YPbJwq29hljenjNjNDafywyDA0Mtnusv/hrhgAHARlw50cVPavRWy06qZN52Q8u7356HuMDCMbOzcr6lzZJryRWUjHPidTZQ+N8d+yug+/TPoTjq1oNY6B11Onn4kBwEFQNtzJOV39MTXey0DZUBCUDXdyUFc6SUGLAWVDQVA23MlRZQ/TMZn1HMMrQdlQEJQNd3JUV3oc3igGlA0FQdlwJyd0dcMDc+uCsqEgKBvuBF11yhhRqXmoC8qGO9H46nfWknbdABVB2XAr5uvO1lxoQElQNtyKMoO01UfRg7BpZENBUDbci5XWp8HYUBCUDTejaiuzLt9OC0FxUDbcj9IfRVyHRagOygbZcPMPRIGyQTaaXDJIAmWDbFA2iAJlg2xQNogCZYNsUDaIAmWDbFA2iAJlg2xQNogCZYNsUDaIAmWDbFA2iAJlg2xQNogCZYNsUDaIAmWDbFA2iAJlg2xQNogCZYNsUDaIAmWDbFA2iAJlg2xQNogCZYNsUDaIAmWDbFA2iAJlg2xQNogCZYNsUDaIAmWDbFA2iAJlg2xQNogCZYNsUDaIAmWDbFA2iAJlg2yMqb0HAAVB2SAahbJBFCgbRGPIi4AoUDYI5tfG1rX3AaAkDypbaQPwMBgbZPGcshE2PI4mKwLCeErZisMHAOAqTylbc4UKAHCVh5StMDYAwGUeUjZD0AAArvOQshnPAABwHZQNAPAaUDYAwGtA2QAArwFlAwC8BpQNAPAa7ld2On749o0BAEjmfmWr0dj0zQYAuMIDiREa2QAAZUDZAACv4QFlx1lXmWYEAOASDyhbkcoGACjCE538yIsAABThCWVr8iIAACV4QtmKvAgAQAkeGf1IXgQAoASPKFuTFwEAKMAjylbkRQAACvDMtFDkRQAACvCMsjV5EQCA6zyjbEVeBADgOsyXDQDwGh5StiYvAgBwmYeUrciLAABcBmUDALwG5hgBAHgN9ys7TpeNtAEArnG3sv2UUFozNRQAwFVuVnY6uwgzjQAAXONeZetJy1rhbACAK9yp7KWiNckRAIDz3KjsXCKE5AgAwHnuU3a+RU1yBADgNHcpe13NJEcAAE5yk7K3EiAkRwAAznGPsrdb0iRHAABOcYey/1YyyREAgBPcoOw9iQ+SIwAAxymv7H0taJIjAACHKa3s/SomOQIAcJDCyj6S8CA5AgBwjLLKPtZyJjkCAHCIkso+rmCSIwAAByio7DOJDpIjAAD7Kafscy1mkiMAALsppezz6iU5AgCwk0LKvpLgIDkCALCPMsq+1lImOQIAsIsSyr6uXJIjAAA7KKDsEokNkiMAAH9zXdllWsgkRwAA/uSqssupluQIAMAfXFR2yYQGyREAgG2uKbtsy5jkCADAJleUXV6xJEcAADa4oOw7EhkkRwAA1jmv7HtaxCRHAABWOavs+9RKcgQAYIWTyr4zgUFyBAAgzzll39sSJjkCAJDljLLvVyrJEQCADCeU/UTiguQIAMCS48p+pgVMcgQAYMFRZT+n0r9ODUrrYXdU2C+N4AFAOgeV/WTC4o9tqb5Xpu/7YQndW8h+A4Bsjin72duC2y16Neh6kPbv9SDu30vz1J4BAFThiLKfzy9vnSKUbWCrQdnaetu+BAAQzAFl1+jFsbFN5RIhw7++fU1mBACEs1/ZdfpKr7fsfaN68HSPsgHgE+xVdr1Od2unikTZMTGCsgFANDuVXXNoy8q2E2U7WRty2QAgnH3KrjuAPN/CT5Q92JpOfgAgnz3KzipTqeSlWvlkF8qz8fXcKSNVdqd0z5wkACCeHcrOJiZijzrlWrjjAqo/1j/aD4Px6zP55jJzjgAA7FF2PikSlK2H8SxKGzcKccAczFDoYQWhlW1+jWWVWwFzjgAA/KnsNVV6ZccRh2N3jZ90+6xbdV7kOrlpqNzqsuMYmZAVAD7PH8peTUio+YBD7Rf7NZq7TNeNIX/yt7KNXybb94PkCAB8nW1lr7dsnaz1sj1t7ADy2Xds4kS5eUH6We+OVM/htcnqneQIAHycLWVvKdIpe6lWm9pQk8SG0n3IdOeVrZTW09b1wvkekiMA8Gk2lL3ZqFV+Br35+07iqcp/DexNy6YO/0vZOBsAPs26stWmHdeU7d5JEibqrw7Trk+gts7+U9l/7BUAgGjWlb2dN15RtnYpkeS2pPqjkT355t/Kdg3tHesDAJDHqrLV9p2+lVx2Jlc99BWJq1JqNtYx/eo+ZQ/OppkNAJ9kVdl/iDH0GBkbvNq+a7Rl2rPa3n9UXf72YyBVttma4Gk4mdic9sOs9CsHAHiMa8pOpqi2kh5b3TMn26Z2l21l67E/d8yBb87JV0vZhtY9AFTmWmLE3zXsQns7GVmz6LG9luzwmrc/4sPBtjZdKzGiyMgAQGWu3X70OQ/t5xVJ8yT7J68e7k/6RrjtEai355WqePtRc+MTAKpyrZNfF2fys3bvJ92x97ZI7VCbsCU7r9+GGOt28tM0swGgJmeH0kyXLLU3f1J5KI1ivDwA1OTsgPU6VB/8SGYEAGpydlqoGjRwCkHZAFCTs5OvVqCFfUHZAFCTs484eJ4mWvwoGwBqcvZBYk/TyKkDZQNATc4+rvdhWtiHAZQNADXZoewGWrhttPQ7lA0Addmj7NrKrH/KiKBsAKjJPmVXTUy0khQZQNkAUJOdyq7Y0m0mKTKAsgGgJnuVXUudDSVFBlA2ANRkv7KrJChaSooMoGwAqMkBZVdo8TaVFBlA2QBQkyPKflqhjSVFBlA2ANTkmLIfTVS0lhQZQNkAUJODyn6w5dtcUmQAZQNATY4q+ymVNpgUGUDZAFCT48p+JGHRYFIkfdJ67X0BgI9yQtkPtIBbTIqo0diN7RkAfIYzyr5bqc0mRWhkA0Bdzin71sRFg0kRC8oGgNqcVPaNLeEWkyIWHYzd4OkEAL7BWWXfpdZGkyIDMZnd4vkEAD7BeWXfksBoNSliIS8CAJW5oOwbWsTNJkUsmrwIANTlirJLK7bhpIhFkRcBgLpcU3bRREbTSRELeREAqMtFZRdsGbedFLG0f1IBANlcVXYp1baeFLGo9s8qACCa68ou0vZ8SfuVvAgAVKWAsgu0kF+QFLHoN5xXAEAuJZR9VbmvSIpY1CtOLAAgljLKvpTYeElSxEJeBABqUkjZF1rKb0mKWPRLTi0AIJNSyj6r3vckRSzqLecWABBJOWWfSnC8KSkygLKJwRrEhRg8QUFln2gxvyopwhwjHTFYg7gQg4coqeyjCn5XUiROl/2ifS4NMchDXIjBY5RV9qFEx6uSIn5KKK0/PDUUMchDXIjBgxRW9oGW86uSImmxXnWqKYgmBlmIC8fHk5RW9l4VvzApEsv0rn0vBTHIQ1yIwaOUV/aus+yrzsTLKviqK4QiEIM8xIUYPMwNyt5xln3VnzRXnFedcgqQKy+NKeIykCvv12LwJHco+y8lv+vvmS/Lu8pwFWKQh7gQg8e5R9mbrdBXtVDXq96rrhQuQQzyEBdiUIGblC3lT7nVWHjVqecCW+X8cmOKuGyX8ysxeJq7lC3jgklSgucsxCAPcSEGVbhP2dlWyKtapsJuo56CGOQhLsSgEjcq++2df/Y0El51CjrBnvJ9sTFFXPaVT3oManCnst/dxV7ikKCjEIM8xIUYVONeZb93MK/QgfeHIAZ5iAsxqMjNyn7rdDFHGgevOhUd4Ei5vtSYIi7HyiU1BrW4W9nvnJRR8iSyeyEGeYgLMajK/cp+39Tn0h/VsAdikIe4EIPKPKHs7l2PuT3TKJCWHDlTni80pojLufJIi0FNHlK2Mc9spwCfeOzwHxCDPMSFGFQHZU85X7XkXPwRgzzEhRg0QEVla93eH/BKY0BKcuRKOSQ3pojLtXJIiUFtKiq775v7+11rCciok8QgD3EhBk1QUdlKNdbKvl6l3n/xRwzyEBdi0Ag1lN3o36xEI+DtyZESMZDYmCIuxKAVnle26XuXEmksMVKmBfDuOkkM8hAXYtAMjytb970x1tZNKbtcVXrvxR8xyENciEFDPK7sn7F9GrslZZc8+b81OVIyBpIaU8SFGLTE48pWP2e7c2xDyi575n9nnSQGeYgLMWiKSrns4ddmlF2+Cr3v4o8Y5CEuxKAxavQY0cY6uxVl33HSf1ty5I4YSGhMERdi0BrPK3s4ueq+b0bZ95zx31UniUEe4kIMmqPC7cdeKdNMK/u+qvOeiz9ikIe4EIMGqXH7caBrQ9l3nuzfkhwhBnmIy70xoKF9jgq5bKW0/1n9HHvvmf4ddZIY5CEuxKBJvjz56v1Vpv2LP2KQh7gQg0b5sLKfOMm3fgFMDPIQl2diQEP7ON9V9jNn+LbrJDHIQ1yIQbN8VdnPVZX1qm+f8RCfiqnN0498aCEG7uPKgZjRRlzqBqWBGDRWK5rho8p+8uS+egHc91r53jNuTGj/aJSaiIGlciBmNBKXqkF5MgZr22qrVrTDN5X97G2P9TrZG6X7Xg1V8rc72lXPh2gjBpa6gZjRSlxqBqWJGDRVKxrii8p+Pn+WPwRC93Q7rEh1j/ZUbyUGlpqBmNFOXOoFpZEYNFQrmuKDyq5xxyN7Aeyu9H7XfMP4ImVfPhWmZmJgqRiIGQ3FpVpQasQgt812akVbfE/ZdfqC5uvk8IZ2dXJ4wzx16ddODCz1AjGjpbjUCkozMWimVjTG15Rdr1PR8lAY62S88nskTC3FwFIrEDPaikudoDQUg0ZqRXN8TNk1u4EuLoCTOmmv+dQzybqmYmCpFIgZjcWlSlBqxmC+7TZqRXt8S9l1B8hu1Ek/WdYTUWorBpY6gZjRWlxqBKWpGDRRKxrkS8pOqkQ6JdVsdqrTk1WlX5y+jr9MD4mkTg471z8xVmB2WBQNQ/yK8oy/JktltFAjEDMeicvi9VZcng9KYzFooFY0yYeUndZI3ccX7vw9WvXs5Vdyc8R1/FfJ63EMV70Lz4H5URnDYGZhOHEVGgPg20Q+AtMAdPVjkOO+uGiTtA/XK0ZXPy43xqDfGwPGr//Nd5Q9OYMHZZveaKWGSjme20/dl1bJ94YGgYrDtszwRIdYLevWyXlLTq2GwRwNQxIANZQ/tLJDANKtNndc3heXQW9D+bX7sq0Yxq+6rbjcGYPfGvQbYvAKvqLsWVXQof6Y8Lt/8auous9dganNEvxqZTcay9fHYRPuzXTgVr184fJwUIswjGVYCcPK5ek0AOn1vZms2G+nas50zp1xMW5p+/1Y6WzFaCsuxOA1fETZ8xqpfZ4s7laoJb/qpTK3OdQffUKHpzaEJYz/6e6baL+9sRLWugDONGDc7qlsGLqVMKwoOwnApLD9uMKE2kmAlFvjokNTtUsqhmkuLs/EQO2KAQ3tbb6h7MWZ2ynbLOuY61I0/3ofb4UEMhvp++nPYTWhVqr6Cbtc60X5Yq2EYfb2X2HIKTusZL6Ndo7L++PS+SqVVpC24vJIDPq2Y/AavqDsTBXQSdZi8b5O/WpbDybUrSPKHmpisP9E2Tdf/GUvT/OHgdoKgzoahrHgv0a3Vip9bxaArsIFcLW4dD4FMKYYasUln7l4Jga6kRi8ng8oO1cj15Tt3kneT2rjX+SUvVYr76yTQ2nnq15puKwdlsaPNkvf+TsMY8H72BNg/bB8/LisFhcnqKQLxkbF6G6Ni11zjRiERvjeGCicvYp8ZWf/+r6pMK+P8c5h0udv954fUfadddI40pWvbW3lsFThvpCavbPNGIBhW6635MZh+fRxWS0uvoGwV1c3xsWHQD8eg9BJsIEYvB75ys42IVZa2b4jUuLpQTw7a84hZbvG1L4VH8REVPJWNje4clj6MCTHotrTmJytR/WbF78Dt8UgR7W4+K91o65qxWUMgX44BsrfwK8fg9cjXtkqWyNXlJ1JxKWZETWS2VL+9qP/ZqZW6nubUsmhmY9Bt3pYjmEYm1I7wjBfz9/Kvi0GOWrFJRg75nHrxWUZgqfqRufndqofg9cjXtn5P3zoMZL01LbvGm0xk0oUEnEHbz/2SY8Rnb/209rczzCMYaXyq6JhyClbr/QKeDgGFeMyZtnyFWP9jqCcGPgVmiZjsJtGRsx/WtlJMtukiddFltu2I/a2sv0xqtzsY8a/t1y+GWVPwhCfAZIWaV8YYkZId0kAdG5NT8egXlyS1ui0YvwVFzExCGlGe8w1GIMDNCFt8creSoy4Z8r5F5P83KLfqcpJd8p4nefvbboLSxNWv9iHVhIjnR7nfPgrDCstIsvsnBW6FqwGoGs8MVIiLunllXu4iurrxSXjn/tjoOJkM10LMTjPcHqrvQ/dB5S9dfvR9U/Sw8WcqzsHewIk69PDWoZrRr9S08fRuL3uc+PC2rn96GaNGK51fRj0+PneXZwFwAY1BMDkA9C1fvuxRFz6kEhQ3aJiPB+XXHvxgboxFDWUu3oMrqBbGOEjX9nrnfzsp2MX4kk2ZHt8+oJpBs8m9OKkJX2fuaPeUie/zl3WhnTkNAy7u8skAVA6KfNKADb26iZqxCVOaphketOa93Bcctf399eNaVFrx+ASuoF9kq/sv8e/3v1XyOXSb6yRuZzbnjHAT1fGhofSTJe5bY/yNDKUZrrMLbuzsb02jf3br/rN7A8ou8E5C1oZsF6Tlges16SVAes1aXfAegPJmi8ou7Uq0M7UP/VoRxPEhRjsB2U/RUu1oKEJNqvR+OSr1aButLUvC2qLrPuMshuqBy1NY18LWnV5qBut1Y051UX2HWW3UhXaelhUHdrRQ4C4EIN9NCCy7yi7idpQOyFADPIQlzZi0MI+bNKAyD6k7AbqQ/2WDDHIQ1yIwR4aENmXlF27StQ/JAaIQR7iQgz+pgGRfUvZVWtF7QvfADHIQ1zqxuANxm5BZB9TdsV60c5FHzHIQ1yIwV80ILKvKbtW1WirCUEM8hAXYrBNAyL7nrKr1I5WLnwDxCAPcakTg7cYuwWRfVDZFepHexd9xCAPcSEGWzQgsi8q++kq0mYTghjkIS7EYJ0GRPZNZT9aS1q78A0QgzzE5dkYvMnYLYjsfmUnj/Zr6O/yXD1p96KPGOQhLsQgw+ixutq+X9nJUzeb+sM8U1XabkIQgzzEhRgs+I6yu0ZKuuCJ2tLqhW+AGOQhLs/E4EXGTtqedXf4w8p+oL60f9FHDPIQF2Iwp5FswQPKVm2UNMe9VeYdTQhikIe4EIMp8a5c3d14osdIGyXNcmetaf3CN3BnDN52VKYQF2IwIbQ9K+/zx5V9Y715z0UfMchDXIjBhDayBU8oWzVR0jXuqTrvakIQgzzEhRgk6Caano8MpWmipKvcUXvekhQJ3BGDVx6VM4gLMRhRTYgMZd9Rf9530UcM8hAXYjDSQir7GWU33+YsW4Xe2YQgBnmICzEINHGqeUTZqoWSblKyFjV/glqhZAzee1QuIS7EwKNayBY8My1UCyXdplw9auJMfApikIe4EANPCyJ7Rtn6BafVMlXpxU2IjhisQVyIgUU3cLZ5RtmqgZL+SYna9NakSKDE/r/8qMxCXMrsv4AYVBfZR+fLznK9Pr36os9CDPIQF2Iw0IDIHlK2fseZ9VqVensTwkEM8hAXYtCEyB5StnrJqfVKrXp7UiRwpRwSjso1iMu1coiIQQMiyyhbvYYb4nG+Xr3/oi9ADPIQl8ZjUNtHpdgu5VzZyWO/3sANJ+1zVUtEEyJCDPIQl3Zj8DJzbbMVqZmyX1fuG25PeUoAACAASURBVGrBmdolJSkSOFMeWWbKQ1zOlQdjH2QjVlNluxr5Gv4o21mO1y85F74BYpCHuLQZg5eZa5vt+E6Urd9WudQ9zj5YxaQ1oxzEIA9xaTAGrzPXNptemyj7feUeynbXevfWMmlJkcCRcsk0Ux7icqxcT8TgfebaZstrc2XfvzdluWuX99czeRe+AWKQh7g0F4MXmmubncpWL2wQ3Dfof19Vk9qMchCDPMSlrRi80VzbbHjt7cq+cZ/31DapSZHAnvLJNlMe4rKvfA/F4I3m2majRCh7c91/rF3uhW+AGOQhLi3F4I3m2gZln2S7yklvRjmIQR7i0k4M3miubVD2hdWvbkB6UiSwVc5vmCkPcdku54MxeKO5tkHZV9a/sgX5F74BYpCHuLQSgzeaaxuUfYF81ftKM8pBDPIQlzZi8EZzbYOyL25isZGvJEUCufJ+y0x5iEu+vA/H4I3m2gZlX93GbCvfufANEIM8xKWFGNxlgbV5UOfvl58HGmVfZFoFv9aMchCDPMSlfgyOWEDp/X7t+/wq+unWTD+sdnzv9/qqw1F2gc3EDX0tKRLQxCALcal+fByxgO7379vKY8Nm1te9Gv4Z12v6HmWv8tQ+2zo5TO/ofn7qwjdADPIQl9oxuEvZ+zbeG7vasUneo+wNntvnZA7110WpFMQgD3GpG4Oqyja9X23wtO4Nyl7nyX3W+QrZl64DLbMSg89D3ahZN44r+9ckNr396/x+2IuCn3GVf+v3sekG7dqG8+8fPV3U5rJ/y+vhc5/Y/v3a+8n3fm3sQdnKe/u3UPxot8tRdilyya1PHZYdMViDuFSLwRllm17/FKzdj861jd1b/uNR2fNFvbJdLsRbWPe+uT18Old2vI+5cj/zUIlQ9iGkTct7hlwMvqamHNSNanXjlLKH77l9M8n9Qx003XVdl7xOF/XKdkr2FtZ9aG+bvlso22dj5l1NTpUIZR8irZLauBvH13v0vAvUlIe6Ua1unFG2y3D0SaLDude+FfIjTtm6S76hF8v71dp0Smf/XSjbL2X2NrJRdjHGKvn7a/d9+if9DOlhGbo7qfKDCV4HdaNa3TiVy+7iD69gt+/GKXv8eNKaTpXtlvc/dO/+tx8ule3SJ/3uMxrKLsVYJc0QfvvPhw9LaybTfS8GOagb1epGGWVr//lC2fNF0+XV5Gvaj6tZKNvegNT7O5Kg7FKkh2WI/3cPy19DQ6n+i2rKQd2oVjfqKFvFN8LXjM+O6IWyO3enskSJCil75U7o/LRyYJ93Ui+XbRsR9mrns4eliRd6X4tBDupGtbpRQtmhI15/TNljYsRZWrlbmSpphvfh8wOBOKfsI0N49ik7jOzsY5W+TD1l206cwx/hu4floCbj7818KwY5qBvV6kYZZU9uP44f/6XscPvRJatN30V/G/eB/745kBd5QNn7dsOP7NRKa11gHL5dZ81Ofsq4PpefPSzdfbYPqikHdaNa3SikbNfJz3TnlW3CSlT4RIWB7L/LjgPdaRpRtolXCO5niQ5B1ZStY0efDx+Wna2S5LIt1I1qdaOMsrUdQDPadp+y41Aa32tw/GUYLGn60MpWh+JwRdlahfeVn+1lGOGk/aJDRx6l/ain3z+zRW0/n+FtPeb34+WBOwn5nkB+2JTW/mrKrXmcX+bXaMl2ca15+9GYtA/nZ0g6s2n1UTXloG5UqxtllK2G/TXp+Jg9ylYTrYVkiNOfGVZ3eOTjHyX6U9m9HZdpx9z7TjtupGYYE6RNHJCZLGrCorbaqj65XzoWNY79jOUxfbiaGrZiQu9We3Vh+lyZ6yVGtOEWk1MTiRELdaNa3ShhAXU2qbCzT4U6lFW4pmyj3B8gWNadilR4x8QLiXFRFRe1ynYN5H6qbGP/khNl6zA01G1Fq3DZkf67u2h3wMi/SQzCXbbPqSkHdaNa3aiq7J0uPja73zVlu2mu+rjZdKSmSocG5RZ1yrZrjx0Yjb35OO3WmF6CjKnAEA+lx9e7i3YHHJbEYA3i8ooB66vrOH3rbkdPEKUPnriuKdt+lORodGJZtUz6xAy8jsr2wg3K7sf0x0TZQcl+pJAZ1+z3L5MZQdmPQwzyEJeXK/v0Kv7OUvs88oG9KaDsMcee9m5RqVgni6qkle1vqQZlhx4j81y26iPzPjQ+r42yG4AY5CEur1b2lWfu/t3KPrzGG5W9yGusKzuo2u+/jjdf48qM9syUPdzHUEqj7BYgBnmIy7uV3RSllZ1ado+yu+T9JPMzX8EkV50qW8epEo8U7Q44LInBGsQFZRejtLLHZMgeZZsVZSvX5cS41/1MyamyXeeSzqDsFiAGeYgLyi5GaWWPdyT3KFsHZSfzpwyYpE+78fkPl0Ixat7Kdv0BUXYLEIM8xAVlF6N4K7vXyo3uOqDssQufzViHkTHDACH72LXO9/JWehyF08WMyfAoTW3S6Vv+LNodcFgSgzWIC8ouRmllj93kjyg7DsafzuRnbAeYcZRjPxnzGcbY2H7cdpj+tHc2yn4cYpCHuLSp7NwjhFX4R5170ltuneusbkStrqbsfNnucTnHS7ra8XGyqpUVJ+9OdhJlPw4xyENc2lT2Mp1q579Qxs+4cWaDh+YLWd+IXl1NaWWfHoxfZGrAHmVXhRjkIS5vUbYecrGXJir9irIPPK1yAzUpJsp+HGKQh7i8RdkxLXKazyj7wpjQ1VWi7KchBnmIS3PKtknkoNeYUba5V5X84t7Q06/N1jR9Z7HOcblkybgN221CTd/UakulZZV9MmM/cCxrvweU/TjEIA9xaUzZ/nFu6bzOvmfDrP/Ez5xxamk7H8hsShC1ePKhW2cyV1K6xdBVI34p8xQb+6l+StlNgbIfhxjkIS6NKbt3fYPHeZ2V8XONDr2FtYlzHLk3xk/jknFFw4NcUov7derOr8bjeiGbOAWqCtNJZ2bgsA9UQNm3w2FJDNYgLm0pW6djpk0yIalO5hpVi4meTdpVuUtep/nrZJ06WTIMPVHTLy2UrWKfZpR9NxyWxGAN4tKWsuOM/HPV6jBJhhlb2eOn6ZIT0ob3ypTQZnGzzsQBh8vh3HEX95bIgbIPwWFJDNYgLq0p230Wfroh111mKtJ0orvh/mBcMq7fjdeeK3ux5DB8O97pG7+EslNQ9uMQgzzEpUllJ+Onzaqy5yOtzUTEdoD2UtnLJcOisy9llB1ev0HZ89GNFyYWt19H2U9DDPIQlyaVHSYJNfG9KEyTsakKzyFP0x2LR8/6JfVsSbcvvZu/dPxSk61slXbf2+zKt3jE2rXxNSj7cYhBHuLSmrLHXLYO3fsmytZZmyZLTlbUz5Rtlks67Afpl9Lsi2pF2Wk+Xm9KeKHsa+NrUPbjEIM8xKUtZaez7E96j2wq27elzUTZdhv9rGuICVKOS4YRK07Z/ktB2X46O5M8zKVuj5HkqmF78P7yQcaXph5B2Y9DDPIQl7aUbVMcvl+26x1ijJk8CTGn7MmSDhP6bo+Fi0tqYxLfuZEzxiVGXLfs8akCtqO27yZux9iEftm50e8PKHucElVtZzoyz56/khpB2Y9DDPIQl7aU7Qc8qjB2xRp8aCpvKrvrkyX92v2QxqTlnS6p50uGZHj8klO2TnbHf6prKntsW7vrkXEAqLL77cYVDcOR4oVHHBR6pZmNsh+HGOQhLo0pe7jDFmYQ8a+HOUCms324f5I30iXHFanx8z+WjHfyki/5BZLd+b3WYU9yk0M9oew4CMif1Ix9cI19w107KNfnxfgbqePnf7XLN0HZj0MM8hCX1pT9EnJBe6ST3/icsOS2q8vh+P41vkuMSj5fjjo6CMp+HGKQh7ig7FPkkgyPKDvealVjlsSnfFR87c09+RxlvwtikIe4oOxT5NLCjyhb+az78O9M2ePHPtUdPvezYBmU/SKIQR7igrKL8czox6TPYx/pRmW7dWun7IDPv5++/4iyH4cY5CEuKLsYzyjby3h42fdaOboVZSefo+x3QQzyEBeUXYyH5hixvRn9LLGLJzioXC7bQ2LkTRCDPMQFZRfjIWWb4Xk8/pVb0fS+o/+hF/PKcvvxTRCDPMQFZRfjIWWrOKZTuZGb2t+LtO8Z/8wHP97ePRONTn7vgxjkIS4ouxhPTb5qkiGQbtzM8HqcBLEfhB0GR8bPGUrzLohBHuKCsovxlLKTeQiV8VN9Jw+QN/auo5+DcPz8yt1HlP08xCAPcfmmsuc5gkvT3AVaesRBBqaFehXEIA9xebOy07lV9fZkpDMWad0Led5xd5pWNpOvvgtikIe4vFzZyTx9l5R9JdEb19GysnnEwcsgBnmIy9uVrRYv97D9LPazu9Oysq9dRqDsxyEGeYjLu5Wtx8mgw921oYeEHwGo/WSqSifb0v3vvTAfnh6frn69md20snlc78sgBnmIy7uVHQaVDM+W6V0fZNvHzU/B4ZLd2j1T3W5N28/9FNLGLet248LYwLA7LSv7Gij7cYhBHuLycmWrOOOR8prWtmubG1zimtDhmTJd8rl/QIAa71vqS8leuzsouxAclsRgDeLycmV34YG67mmH42z+Kk7672dF8o+QdN2Vk7nvxvdQ9ioo+3GIQR7i8nZla9eENkHZIcuh5rMiTZ/6248zKKnp7BwXdgdlF4LDkhisQVzeruwuPLtXpZZOZijtwkN3589xif36UPafoOzHIQZ5iMvrlT3svjOwGrWbKts+wFapxaO3pk++RdlboOzHIQZ5iMvrlW3vQerg7/joLJWo2MS3TKaVTWLkb1D24xCDPMTl9crueu3z2Ukuu58oW8Uf6e1HFW8/+luWV+OAskvBYUkM1iAu71e26f0TbFVsOU96hLgfOswg3bmvdNOHldNjZBOU/TjEIA9xeb+yVe9/eH9r5cfNjK1ope2wGtvyHhrlJnTVtp8Yv9jVEesouxQclsRgDeLyfmXHpx76NnN8onhITg9vGeWmmVbugeQmPCix72f9Rq7sDsouBIclMViDuLxZ2SsrXraW1fov4bcCU/mh7FJwWBKDNYiLPGWf4/oUIyi7GByWxGAN4oKyLddnGEHZ5eCwJAZrEBeUPVDiCQcouxgclsRgDeKCsgd0iV1B2aXgsCQGaxAXlF0MlF0KDktisAZxQdnFQNml4LAkBmsQF5RdDJRdCg5LYrAGcUHZxUDZpeCwJAZrEBeUXQyUXQoOS2KwBnFB2cUQrGxtzNUZWI7AYUkM1iAuKLsYO5X9C/jrat3Du/y+AJWHGOQhLii7GAeU/WSTtQAKZT8OMchDXFB2MfYqW7/N2YOxH/1bcVgSgzWIC8ouxl5lW2cPj6N8B25v7w9fAoclMVjj43ExI49vW56yN+7RTZXtnP0mHv5LffywtBCDPB+PS3JQVtn48xu9k40CzZT9Nmc/aGxdZattQQzyJDWy9q5UQ9WsGuZlGd2/2LpHN1f2sLh+Cc/+kcYqKat2HIEY5EHZXRKEClXjdXfhttm8R5dR9h1IqMoclsRghaotzFbQNavGu+7CbfPHPTqUvRt0RQzW4OJjPG/VOWu9LKP7FxtBRNm7iU0pDstPxyBH1RZmK9StGqKcvXXaQ9n7CfGsvR81IQZZ6rYwG0HXrhqvuQu3zR/nPJS9H3RFDNbwYfn0xYf6QNVooHgoez+Kw5IYrFC9hdkCH7jQaOBPjLIPwGFJDFb4QgvzT7T8s3kDf2KUfQAOS2KwxgdamH+i5FeNBsqHsg9QYVKT5iAGeT7QwvwblP0AKPsAisOSGKzwgRbm3zz8wJEKNPA3RtlH4LAkBmsQF3veQtl3g7KPoMkJEIMV5LcwdyDkOF+ngQKi7CPIb0X8DTHIQ1x+aOln8wZEhrIPIaUcVyAGeYjL77wl/azVwB8ZZR9CfCtiB8QgzzviUnuaulJUCl8DIkPZhxDfitgBMcjzgrh8Zuqk22hAZJKUXfvEX4oPFfU4VJDzMRBl7DrORtnlEFUdtyujqKIe5+SRKipqp2LgRkEJ4XQUroGyiyHqgNyujMKKepzzvpLDiRh86WFbt4GyS/GhBoSooh7ngq/ERO1cDGQZe/uRtreBsgvxoQaEsKIe51TrSljUTsWghuFuBWXfyc0llXVAbjYgpBX1OGdaV9KidiIGStyo1RrjTVF2sdXXj2RRNpX96J40yDll37En9UDZdUrUQD0SoWx5tXG1ASGvqMc53rqSFzVigLLvBWUfY7VE8op6nOMxkBc1YoCy7wVlHwNlb4CuiMEAyr4TlH0MlL0BuiIGAyj7TlD2MVD2BuiKGAyg7DtB2cdA2RugK2IwgLLvBGUfA2VvgK5aisHaLFXz98tPdIiy7wRlHwNlb9COrupxbwyU3u/Xvs+vop9uzfTDasf3fq+vOhxl3wnKPkYFZa+0gq40lm6aQRpl3x0D3e9f+cqTHWbW170a/hnXa/oeZZ8CZTdJIWUfeVDKSmtp9rbqzbDagbULYtMb1dm91JePypUtoOx2lL1v40O1GZQda1OPsk+CspukkLJXNJxlRe+zt+0ae092V4wxvT8ej1xfHwBlv07ZpverDZ7WvUHZ50DZTVJB2btwx5kX8k/NmT/rsHs3udqDsp9R9q/2DGdfbbMYdnz8z7jKv/X72Njq4E/itgmdLGpz2b/l9fC5T2z/fg015leFhkqkvLd/C8WPdrscZd8Jyj5Go8r2h1Vcrck5+3ZQ9lPKNr3+KVi7H51rG7u3/MejsueLemW7XIi3sO59c3v4dK7sWKt2V1qUfSco+xgllT0cHq7to2IDyTWKQstJhyMmWdSMi/r2lg7Xt8lBZXzzyTa9VLLq0KpyDajQ9JosGUvUx0/3gbIfU/bwPffHNMn9Qx003XWxgswX9cruVVzGKtu3t03fLZTtszHzriZlSlQKlF2GDx2Rp5T9awzr4f/hP3ts9fat3rec3Aun7Myi9h93sPZzZavQ+LKq7xarVuEN/6lf0kz20X73SEcUlP2Qsl2Go08SHaEC2D9sek7XXfINvVjer9amUzr770LZfimz+8oQZd8Jyj5GWWX7A9Dnoe0/tllr/GEVD73YTEoXdd+1G/cNoLmyw7HmvjS2vULPLpV8Oi7pcO10dSTDgrIfy2V38YdXsPszGX/5FD+etKZTZbvl/Q/du//th0tl+yqyuyag7DtB2ccorOzhtZ5cx/pr0H7aEsouOi6v0wOsm79UvlXuF9VR2Sa+4cl0SDiSdUfZ9ZSt/ecLZc8XTZdXk6/5BNtS2a4D6f7rLZR9Jyj7GIUTI8NrHbKIKjaKfArRxNd+UZUYOm1EbShbKaXTRVWibJWs0y85LcPvLZR9jLcoe/K3t78anx3RC2V37k7lLSUqBcouw4eOyHO3H+03E+2mN+fDYZh0xlos6pc3K8q2dxD7Pl00Vfb4hr0B2vd9quzkuztB2bWUreLp/ZCyx8SIs7SKp/LYDO/D5wd6hKPsO0HZx7hT2V1BZdtjWMX+At0fyvZLpq3sNMW+E5RdT9mT24/jx38pO9x+dMlqE290xCtA/31zZMAsyr6TNpW94ol5tdk/TksfEc9We+J2ZfsL1n56WK3ZfXLIpXELNzDdpyvKHi+OfV8RMxZdpf0OdlJB2YUnYFEHll1ZQy1l6y7k0s4q24SVxFO1ChdZv/px623o66DsMqR/uyNjbfcpe9LDdMCs+uU9yvZvmWvKNmn62vyt7NixIFaHmD1/Xtl3TMCi/5qApS80AUstZWs7gCa9MNqj7DiUxvcaHH8ZeuybXsdac2SkPMq+kzaVvY8wo00swnri9T3KHjr5KTO/A/SHsmed/LTvDOhCrnco24SRGJlk+J0XxNlvHDpL7Gpl+8bnMl8fMbaHev/eVrayR0I6PmaPstP72SGzHeqFnUUszdTdUqJSoOwy3Kps47UUb2UnL+ccysTVVfbQuPEp6N3KHo/MMC9U+OqwsiEwalvZyi45zE0RhzsaN0xH5eeYKhCD1W8c0sMeJhOwpOf4EXsLtkQFrZPPV2evDHb2AznUPR9l38rTyv5d9Cpt3/x95pTxu1bVYbnfa/t7sqiaLjocWHZG9rGLXFCsCcpWw4wKetwHFfVkB/mFVblDdOjZpsZlddTjsFOLA+H+249hpohDyjapsserf1ve4Qv6D2XbNlVY0qOdv/X+PMVdylYrr3MrzL03y8on+bNpom1rZcsVr7Tv36XsnS4+Nrsfyr6Tp5U9TBRme47ZLmS+l4LrTuZuWutkRpvloq770eqMNjrcbuvDZHZ2Fo2hBenzc+HC+FfHQ77A5gBdMNz3Qq+30NxdK9G+Dw5xtoF5rBV0FyWVbecnsrUizowSqoK7uJpOwLJc1P7Th/EhXRpbE3rC90kuIc6oEjopx8leJkvGHV+Z4/Zlyt5z/an0oUw2yr6X55XtDgh7APg+RX62I59vVGMHNj+s2i069hh1B0+88xZqnT2Ku3CrJK5Qx4ysu1MZEsVmHBru16BdqzIMI3fLbpRo3weHOJ0TuD7JcQHKKnto5NvsjI5/y+HiKcyS4s6nTtmZRe0/etHpzW01rEKlE7CE2VjC0ND4xmTJuI92iFKm7V1J2adX8XeV67OppK29Qdk38ryyfRM2tmcmM9QsZ7RRyZ205fIuSeC/ZFzGIPRU80dzF1cSe9CZuNqQHJl2jhoTm4sEfKvKPjADxH2UVXa4MIpv9UlPxHQqusMTsKRJpdClzc8EoKa1zJ/ekyUdJla5m2JwlAv3TP9uZR9eI8q+kQqJka6b3MEex2XPGkS5RVVcPqQCdO9b68MSad/mzl0p68XKU5eH/UwTw0nn5Bcp+0I7qxiFlT281olL907AMl6mpd0hFsr2e7A5AUsa1UyEM38uhhOh7Ht5Xtn2l+SACFbMTEI2vl67a+aUrXz2sZuMIDS9Sg5XNyl1HIMdjz+fSB+P/LBD/oNnlX2lsVQ/M1I4MWIXSLR7fAKWLr7RZZW9ewKW34LKTOtC/O4tMXg1KPtO2lH2jhlt1pRtV+dGn4zfswvOlK0949dtVj08VCnpUzFcKuvlPEl3K/vdFL79aBdIxnqkV0kXR/P7dvzOCVj0gQlYUDbKvpdayt6VGFkuuqJs7Z+lsS8xknxdxYT5uEGd5EpR9hHuVHY3b2VfUvaOCVjSZrdfctzV9QlYUDbKvpcWlL2i6W1lp7OzD5/63ifd9BDNnQ+6uL74uZ4e4jpJpKPs/Tyj7EITsJjMn/7ABCxqusrSMXg1KPtOmlC26matnV3KDgekK4a/gu2S1KZJ7ky5bLc7tO2Y8ImyXb+E2CFbB++rRfcmlL3B7cr2b5n4/illOwWbYN0/lb06AcsDuezcOCYV/lFrM6Zsc2QOl42NrA8WRdl30oKyQ6/a7ryyYx7Dlil5auHw2s6Y4zprhbx10vPLduW1IyBtj2/jhtIo1xVX+W5fY/sKZa9zu7L92Hp1SNnjn9pprk9yXsrsmIBFh779s/uXYU13xGCyoenidlSPmadqDnCsW9LqRtbn7UHZd9KCsu1RlDwia5+ydXKEdnFGG1eoOJrSv1Z+4XEU25gK7/3zbnv/i1Ghl6+/Z6nEKtveh00bUcfaXwtuV7aJw1ovTcAS3rbTqozDbdeUPU7AEg3tdkQvr8LuV7Y2Knuu2A/Kvgdxyl7Dzah+vAZujtFO16fWPsi8s/I9I1PZk96O4Y0LlJx8VY1zwXT+Ivy3d2HSlHimSc466aI6/tONUxvMZ1/VbgCsDpPadGESGzVfp+7jksmO28Xmu39/Kzv+cxaUfQ/fUvYZrs1rfIh+cqhmF3mjsgcaVPYaZ/fu0QlYysXAni5iD/JwtrCNCpX84t7Q06/N1jR9Z7HOcblkybgNe6Ghpm9qtXX8oew7ebGyjzxA9BpJewJlb62rTWU/eXIvFgP32M44bj4mdLSfG8vdKXd5HDOmeyapH7eidDZev8y4ZLJllYwd0+OXMk+xcdlElD0DZf+99grzalxRtm8gjS32acupmzZz1OTjyQdpU2ijoZRvmSVfUqHrTFgy0/5Si01sFLBRZV89FR2hVAx6PxWVu89pOj+dmb1brzsd52jwb4yfxiXjipTNJ6XvdGH0QdrqMf4uq5p+aalsEyZNRNkTPqPskz2VBlYfC3UfV5Q9bQ8lLSc7zayevNUlTR4/C63xadVxGT0fgeffmC842XDyJZ/Lnt/9Xe7GzkrSrLIfPLmXyue7P33ofWqXC09hip+n4xqU77noXid5klCHxnUn65w+n9ltWU2/tFC2ChtE2VM+o+x3cU3ZQycDHeadc+2hOKuo8p3ETRgvb1sy/rVtccVZj/xr5SeLHf+Evv+b74GmwiHvppHWYdbZ+CV/APYmPKpl/KYy486ovTO73qzsV0zAUqzXjO+xMldtOivabPTwbMkJ6Z8w+TRdv1ncZ/QVZqbsyYji/SW6GZRdBpSdEttD/dju873RfOvWNY9VcmAmQ0jSvm++oeR7QsR98L3dnOdVXGfaMguTXoUel+NAPhX3Zvxm0vK6EpyC32idkh0dR6UqrXUym3eX9PZJh+7bdFpYMq5f27fmyl4sqfp+fAzT+CWUvReU3STXlD1qejYZlk4/79JB92rq0PRzPb/cT65VwykhbYil40HjjoTfo6HHHus6jtXeCcourexxzE5vVpWt8kuGtQ/vLJW9XDIsOvtSRtlJ3SwUg+ug7DJ86IjcpeyxeTL0L3YNGZ0en0ZPD4dJU9dfK4+NJptoSbdgYtcAFddvljePwpdSZeuwI5M9m7S8/gRl39LKVumdhnSKnVyaeZzqyhFHAU+VPZkPLd2XkE+LX6KVvReU3SQXbz/an8YOtwskylax+1Z4R8+VPW00hbGb4ybCEwz1uIFsF63ogElzPA4BjTcdV59xeDIGl7/ROjfksidzl8W/pc7adDH3SZr3im/NJsVKMe7xbOOX0uyLQtkboOzzW1WTf2YfXFx3sVZ2snR6Hav7ZCaiZSt7mvZ2tfcinwAAFGhJREFUy0//hO4hhZM+EvOJkZQ2ye3H0PtETw776QrJZe+lUAzGJwrPeo9sKtvEeRniiuL9k2nXkMmkWG43wgWeSb4Ue4Em06dNHs5XKAbXQdllKPK3Ww4K/oOY5luMtb3e16tcLnveUTauKDmikpuCUdnzRtP82tYd7pN3l9OPqrjiTC57EaS9Ge2blH1w9qPVjv6HOgnON7q3n2ChGNgUh++X7e5BGDM+srpbUfZkSYeJU6/FdccltUnPxr2JyRDju2XH7EvoqOTvT5uxX3YuqCj7Tl6gbLOYtPoP4lNnFsf69QckFugxMjGlSqq9Di3rWc+tRNmTPrH+VDYen37YskqSLUp1s2vn5EvpjiwcbsfZ6LnrN3mdsmMKaPmNxUZ3DvkqFQM/tVm4/WANbrtqbim765MlQzlc8ixpeadL6vmSIRkev5Q+mCd9nI/WKHsKyg7r6I91Wwjfyil7chfm3N5cU7ZR4XAys/7RcefCjIdpv2z/9Vn7J8zvPZ/GOfQI0MG/y5tHKkmM9G7wXNwRt2dhiXSXTgfn2jfuVLa/07rnnLTvvFUsBsoOFFNqfG2HrU5m+4jDZrvMkuOK1Pj5H0vGC9rkS36BZHc6O7uW8rdTdpfoVlB2GUr87ezQvcOiXVH25dTIxVz2YvSjrfBjj5H4VtLkmShbp40mkwx2TNepk9fzVnb6vr9CNrMtJUuE5yOme3kiONe+caey/YvlMJLcbuypO1/L5+cEgrLvpH1l22uz2KtBmdBU9QeZCn0k7LFqcw/zXHbiycvN7Ks9RpSejFbwPfKWb2U+Dj+SRpPS8zH7m+v3zSs1eV+p8W5B3ERuLeuTbcaN36tstZigQKWToYz7qeZFns6KNxLfian/YS2zcMet7qo7X1N2LiYo+06aV7ZOE7NDQkDbh8gYHRuGdgy4v37vM8r2D6aJq7i0OyU6+b0U/WfkblW2Sq4gwvuLawq7n/O7dN1kVryUWX43dHDU842GFsOOuvM1ZeeqNMq+k+aV7W+Th26hLqk63vhIU7M6Gdk9Kjv2VV1OxXCCDyv779zBrcoOz4JLdigd7+EqgLtTNld278YT/dnKVuEOQujbNrmlsK/ufE3ZOVD2nbSubBUmQHK/+LZQmuLt4utpj4yg7D5N5KLs8/y983cq2ydvkhjGdJnqwpyO483WVNmTCVsmJGOY3FlBxxXnplzaM0E7ykbZ99K6suPgAHczzDeYdfKRventj9XxAEuV3cV3O5R9Jw/cfkxfLzt/9tHWU2WHa7T5mn2PkfHua9rFWc+6x+/7A6JslH0vrSt7SFUrpUySXwxHjvbXxTGLmc5ptlS22X/YbXBF2eK5V9lKm2ky201mG37RoZvLQtlmep2VEPplzxaIFWgyCBVl7wVl30njyp5MlbFQdjfPa88aSSj7WW7OZfdhsqrx2+PNQjuZVV7ZcyOPzK68xp9qWnf0pOJdL9HFb7QOyr6TxpVtXCNbqXFSsbmy4x3HP5RdPzEinjuVrdNRPcln2g/bHDMbqbLVX61s+2N+a5pW9jVQ9p20reyxW9V4S2ii7Ml9ybyyZwcsyr6PO5Udz83z5Y0boO0WnCs7farDxu3HOEnSIpcdUm0o+wAo+07aVnZyGRwvVuet7K4Lc83lle2enKXGo+/KDqHsLe5Vth+NGSusNr4hbcb70rEaqMTwmSlJPbHHSOiKlO8xMpk6q0SJLn6jIPOYXJ7RYQBl30nbyk4qlLbT0y2UbewQCT2dMWcxlGYYk31gOMQGKHuDexMjdma7yVTQ49Rzfp4UPT7Qwb0zPkgzTEO3fJriQOw36hZ8W7/sdG5VvXeqXMuiSBebNG53UPaNNK3s+QylGWUPk/rb+ZX0YPSssm0jPOxHzQHrt/P3kPJueUwW7Hp49+1Hd14eJy6cTz1nnxzhC+Qf5JB+apJb2I509KMa16jG5ZIH3Tc8+lH1aUkuKbvEw+hR9p00rewbqDkt1H70MmW772s7FlocpHsGiOzjLl2FqecWKkrmGElehe76evxFjdPQpRtMZ7GLU4r4F8HT44rbnWNEjZ5WF5VdIjWCsu/kY8quOvnqfvbNBnqOhddLtKv8mt6Qx925weX0gQ3P5Kf6eEE6ZIdcHbeT8bhX2p/RlE62pYdO7aHPjB6f8Xnjc0BuBGWXoTVl133Ewf6NDLNe3TVSctkUL7atNyhb7TwXznsT7r0aqaRsFfauNyrmeEwctaD8fVh7V8dnF4fPTZxu18T8z/WrLpR9J99Sdt0Hie3mdy0Qm3S2hRT1MTSTxkt99xQapcMYwPBUmulCJj5zxb7UmXZVoSb9G5S9D7W8zFk6PP/NSspWsR+iirdfu/jkCvenTu+/hs/dPXz/hOexY+S13UHZN/IpZVd+XO9u3OMLwms93gEzY8tJ2ecl2AX6kEfR/Wyh8FAF12vZfmBMulB42kKZZrYgZZtF4rzu8y//WMVw59U/UNfdhR9HB40DjfwDaGZzY3bJiCL/Hso+BcpukieUnY7/cN3M4uSgJvnX9XELE466f2cLuUeXdaGr29iu0pN21fWD1CFH2eeppuz4x1eJkkMXyPT8M33qbx/b3fHn5YsulH0nKPsYTyjbjNOmTEfk+2ZSuL71/SjcYs7QXbyUSKej9WNDkmEhswc+FMqMoOyKyvaTFir/S7gHmc7ZEKbsST7vxyHEpQYIo+x7QdnHeEDZKlzijn6e5i6Wk/3HEfvjO/04879bSTrPYVe6XeX3AmVXVPZwKDsDq9mEVuNf22g/XU+q7Ji8RtmXQNlN8oCyTbilv3hWr50EyTeTYjJDj8/Q0jFnPVvIHZg3tqscKLumsu09SB38nU5oFf/KY1vAZGoDiZFroOwmeUDZk/lmJ8rWSTNJxWTlMMhaj8o2biGv7LQthbIfoJ6yu+ERp+GX8ZoqVfY4+VV6+1HFOuavya46AWXfCco+xv3K1nbm5zg1dKrsdIpRFY853U0SI9OFlpe/bn6t2B8l/XEVlF1V2SYM3h9TYpM7F6FbkZ8srXNf6WaPfqLHyFlQdpPcr+x06HE3UbZKW0tqkj4ZW9njsbqhbHLZt1FR2Sp0//T+1sr009O+sdOL+xowNMpNuJVtPzF+satdPlH2naDsY9yu7GRYdJqH1OPr0EzSyeImUXbodz3LZccJRvvY7W+cD7pMLUDZVZXdhf5Bvs0cn5A2TgseZibs/AxYvvu/ivNrdSXO3yj7TlD2MW5XdjJFuNVxquzhGT1DU2k47kYbD40pY0dA+ly2XUhPF+r8k7iGETRqbFdNxlBcBmU3FYPMyDG1/ss4PyJzjJwDZTfJ7cqeT+ecKlv5AYtmnIjWvWc7cvW+X3Zmodjy/jW7dDLNaJxKiNGPpXh9DApM7Iiy7wRlH+OZmfw2tp95K74X+mWvCjjfriqVF3m/rgrw9hiUuOJC2XeCso9RW9mbnGwglWpkv15XJXh5DIrMxIuy7wRlH6NlZWeeR7vva6V2/OW6KsLLY6BL7ArKvhOUfYyGld2fe5RNsbTI63VVBGKAsu8FZR+jYWXrc3PL6uXzuc6CrojBAMq+E5R9jIaVXR90RQwGUPadoOxjoOwN0BUxGEDZd4Kyj4GyN0BXxGAAZd8Jyj4Gyt4AXRGDAZR9Jyj7GCh7A3RFDAZQ9p2g7GOg7A3QFTEYQNl3grKPoY3J94mTV9TjrAZnFXlRIwYo+15uLqlpIJJFWS+QuKIe50QIxEXteIFQdgkaqEdilF1soEYLqE1liyrqcTaCs4q0qJ2IgTxlH7/SuA7KLoSWdUgOB+Ta4SWsqMfZCs4qwqJ2KgZcaRTZ5uObnCND2faQHJ4eKwFXlk8U9Th/BOcTUTsZA1lnrXNXW5dB2cWw1VgOWweksKIe59T1vbConTxrCXL2qSuNy6Dscog6JLeroqiiHufkcSoqaufPWt++0rgMyi6K0iLY0xISUtTjXGomCona6RiIOmvVuZuKst+GlHJcgRhs0HZwRDm7Sv+XBv6+KPsQUspxBWKwQfPB+fqVxkUa+Pui7ENIKccViMEGBEd2DBooG8o+hJRyXIEYbEBwZMeggbKh7ENIKccViMEGBEd2DBooG8o+hJRyXIEYbEBwZMeggbKh7ENIKccViMEGBEd2DBooG8o+hJRyXIEYbEBwZMeggbKh7ENIKccViMEGBEd2DBooG8o+hJRyXIEYbEBwZMeggbKh7ENIKccViMEGBEd2DBooG8o+hJRyXIEYbEBwZMeggbKh7ENIKccViMEGBEd2DBooG8o+hJRyXIEYbEBwZMeggbKh7ENIKccViMEGBEd2DBooG8o+hJRyXIEYbEBwZMeggbKh7ENIKccViMEGBEd2DBooG8o+hJRyXIEYbEBwZMeggbKh7ENIKccViMEGBEd2DBooG8o+hJRyXIEYbEBwZMeggbKh7ENIKccViMEGBEd2DBooG8o+hJRyXIEYbEBwZMeggbKh7ENIKccViMEGBEd2DBooG8o+hJRyXIEYbEBwZMeggbKh7ENIKccViMEGBEd2DBooG8o+hJRyXIEYbEBwZMeggbKh7ENIKccViMEGBEd2DBooG8o+hJRyXIEYbEBwZMeggbKh7ENIKccViMEGBEd2DBooG8o+hJRyXIEYbEBwZMeggbKh7ENIKccViMEGBEd2DBooG8o+hJRyXIEYbEBwZMeggbKh7ENIKccViMEGBEd2DBooG8o+hJRyXIEYbEBwZMeggbKh7ENIKccViMEGBEd2DBooG8o+hJRyXIEYbEBwZMeggbKh7ENIKccViMEGBEd2DBooG8o+hJRyXIEYbEBwZMeggbKh7ENIKccViMEGBEd2DBooG8o+hJRyXIEYbEBwZMeggbKh7ENIKccViMEGBEd2DBooG8o+hJRyXIEYbEBwZMeggbKh7ENIKccViMEGBEd2DBooG8o+hJRyXIEYbEBwZMeggbKh7ENIKccViMEGBEd2DBooG8o+hJRyXIEYbEBwZMeggbKh7ENIKccViMEGBEd2DBooG8o+hJRyXIEYbEBwZMeggbKh7ENIKccViMEGBEd2DBooG8o+hJRyXIEYbEBwZMeggbKh7ENIKccViMEGBEd2DBooG8o+hJRyXIEYbEBwZMeggbKh7ENIKccViMEGBEd2DBoo20PK1kY9s6GbkVKOKxCDdZTRtXehPg1o7S5a+Ps+pOwWiloCKeW4AjFYh9OZ7PrRwt/3IWX/zrwy/o5SynEFYrCGJjJtaO0mmvj7PqVs9TvOJfwlpZTjCsQgj9KCUwK7aUJrt9DI3/cpZQ/HOcDTuFPLcLABXKWJlspjyua4gSp0QyYH4DJNCPtRZYMo1BsYjjSM/SCNaE0yKBsk46/sEAlIAWWDaKyza+8EQDFQNsiGNjaIAmWDbGhkgyhQNsgGZYMoUDbIBmWDKFA2yAZlgyhQNsgGZYMoUDbIBmWDKFA2yAZlgyhQNsgGZYMoUDbIBmWDKFA2yAZlgyhQNsgGZYMoUDbIBmWDKFA2yAZlgyhQNsgGZYMoUDbIBmWDKFA2yAZlgyhQNsgGZYMoUDbIBmWDKFA2yAZlgyhQNsgGZYMoUDbIBmWDKFA2yAZlgyhQNsgGZYMoUDbIBmWDKFA2yAZlgyhQNsgGZYMoUDbIBmWDKFA2yAZlgyhQNsgGZYMoUDbIBmWDKFA2yAZlgyhQNsgGZYMoUDbIBmWDKFA2yAZlgyhQNsgGZYMoUDaIxSTo2jsDUASUDWLRibJr7wtAGVA2yAVlgzhQNsiFvAiIA2WDXMbMiKq9KwBlQNkgGPIiIA2UDYJB2SANlA2C0eRFQBgoGyRDIxuEgbJBMigbhIGyQTKavAjIAmWDaGhkgyxQNogGZYMsUDaIRpMXAVGgbJANjWwQBcoG2aBsEAXKBtlo8iIgCZQNwqGRDZJA2fAi1An0mS/VLijACigb3sDPvOZpNOaG9kDZ0DpKPW7rRNu1Sw8wAWVD26S+1o+RahtrQ0OgbGgZHVu7z4tTRXPzGDJoBpQN7aKrZydCCh1pQyOgbGgVXdvXDm9tpA1NgLKhTVRDotTt7Ap8HZQNTdKWJV1Lu3Z7HwBlQ5s0p0jV1CkEvgvKhgbRBf1Yqq9JyX0COAvKhva4Osn12L/6t5a+L7hXOBsqg7KhOS4/lqCP6HKtbB6XAC2AsqE11OXWbLGG9YzB2fesGWAnKBta43r+YUXZ11vImtQIVAZlQ2Oo603ZibLtL79/TN/3l9vINLOhMigbGqNAwjinbNNrbS47m2Y2VAZlQ1sUaGTnlb344BQ0s6EuKBvaQhfoldH3ydNlvLLtSk1/dd0ldg/gPCgb2qKMsgNqzGXblV9WtkLZUBWUDW1RIvOQa2XbD4oom2Q2VARlQ1uUUfb8l2LKJpkNdUHZ0BYoG2ADlA1t0biySYxAXVA2tEWZ24/zX7j9CEJA2dAWjSubTn5QF5QNbVFiKI3W81/8O+rykyRJZUNdUDY0RtMznDJgHSqDsqExSjSzb6PlfYNPgLKhNRp++AuNbKgNyobWuP6Ig7vgEQdQHZQNzdHqA7ta3S/4Eigb2qNNN/K4XmgAlA0N0qIdW9wn+B4oG1pk8GNTDe0hwY6xoT4oG5pEN6VI1dwpBL4KyoY2sc3aRqTd1vkDPg3KhlbRTtq127ZKN3TygM+DsqFdnCxrWluFXai2BwATUDa0jDfmz9rPa1vpuPXHtw2wAsqGtlFmRA+ouxk2kmyUu47QEigbWkel1n6Y6pl0gCkoG96AUvpvvxbXNb6G5kDZ8CJi4uJG7DZqFxRgBZQNAPAaUDYAwGtA2QAArwFlAwC8BpQNAPAaUDYAwGtA2QAArwFlAwC8BpQNAPAaUDYAwGtA2QAArwFlAwC8BpQNAPAaUDYAwGtA2QAArwFlAwC8BpQNAPAaUDYAwGtA2QAArwFlAwC8BpQNAPAaUDYAwGtA2QAArwFlAwC8BpQNAPAaUDYAwGtA2QAAr+E/oagF2SmPIiUAAAAASUVORK5CYII=)"
      ]
    },
    {
      "cell_type": "markdown",
      "metadata": {
        "id": "9YF0s3T5zjnx"
      },
      "source": [
        "> - Conservando el diseño mostrado en el diagrama de flujo anterior se realiza el programa en python:\n",
        "\n",
        "\n",
        "```python\n",
        "# Esto tiene formato de código\n",
        "```\n",
        "\n",
        "\n",
        "\n"
      ]
    },
    {
      "cell_type": "code",
      "metadata": {
        "id": "0qwG87P3DN9R"
      },
      "source": [
        "# Celda de código para probar"
      ],
      "execution_count": null,
      "outputs": []
    },
    {
      "cell_type": "markdown",
      "metadata": {
        "id": "1KjmKrzeWEzi"
      },
      "source": [
        "## __Ejemplo 3: Orden entre 3 valores__\n",
        "\n",
        "> - Suponga que se ingresan 3 valores numéricos cualesquiera y se desea imprimirlos de mayor a menor. Diseñe un algoritmo (sin utilizar funciones de ordenamiento) para organizar los valores\n",
        "\n",
        "__Solución__\n",
        "\n",
        "> - Para este ejemplo se consideran 3 soluciones soluciones diferentes\n",
        "    1. Estructurar condicionales de pares de valores\n",
        "    2. Obtener primero el mayor y luego el segundo\n",
        "    3. Considerar cada caso y usar una estrcutura selectiva\n",
        "\n",
        "> - A continuación se muestran los diagramas de flujo para las diferentes  soluciones:<br><br>\n",
        "izquierda __1__, derecha __2__"
      ]
    },
    {
      "cell_type": "markdown",
      "metadata": {
        "id": "IvYpHHq3VwnT"
      },
      "source": [
        "![Diag_orden3.png](data:image/png;base64,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)"
      ]
    },
    {
      "cell_type": "markdown",
      "metadata": {
        "id": "Ve1X36_DZ82F"
      },
      "source": [
        "__3__![Diag_Orden3-2.png](data:image/png;base64,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)"
      ]
    },
    {
      "cell_type": "markdown",
      "metadata": {
        "id": "hw7lQG4A1nTW"
      },
      "source": [
        "> - De acuerdo con los diagramas de flujo se presentan a continuación los programas de python para las tres soluciones:\n",
        "\n",
        "> - __Solución 1__\n",
        "\n",
        "```python\n",
        "# Solución número 1\n",
        "A = float(input('Ingrese el valor 1: '))\n",
        "B = float(input('Ingrese el valor 2: '))\n",
        "C = float(input('Ingrese el valor 3: '))\n",
        "\n",
        "if A > B:\n",
        "    if A > C:\n",
        "        if B > C:\n",
        "            print('1.El orden es:', A, B, C)\n",
        "        else:\n",
        "            print('2.El orden es:', A, C, B)\n",
        "    else:\n",
        "        print('3.El orden es:', C, A, B)\n",
        "else:\n",
        "    if B > C:\n",
        "        if A > C:\n",
        "            print('4.El orden es:', B, A, C)\n",
        "        else:\n",
        "            print('5.El orden es:', B, C, A)\n",
        "    else:\n",
        "        print('6.El orden es:', C, B, A)\n",
        "```\n",
        "> - __Solución 2__\n",
        "\n",
        "```python\n",
        "# Solución número 2\n",
        "A = float(input('Ingrese el valor 1: '))\n",
        "B = float(input('Ingrese el valor 2: '))\n",
        "C = float(input('Ingrese el valor 3: '))\n",
        "\n",
        "if A > B > C:\n",
        "    print('El orden es:', A, B, C)\n",
        "elif A > C > B:\n",
        "    print('El orden es:', A, C, B)\n",
        "elif B > A > C:\n",
        "    print('El orden es:', B, A, C)\n",
        "elif B > C > A:\n",
        "    print('El orden es:', B, C, A)\n",
        "elif C > A > B:\n",
        "    print('El orden es:', C, A, B)\n",
        "else:\n",
        "    print('El orden es:', C, B, A)\n",
        "```\n",
        "> - __Solución 3__\n",
        "\n",
        "```python\n",
        "# Solución número 3\n",
        "A = float(input('Ingrese el valor 1: '))\n",
        "B = float(input('Ingrese el valor 2: '))\n",
        "C = float(input('Ingrese el valor 3: '))\n",
        "\n",
        "if C < A > B :\n",
        "    if B > C:\n",
        "        print('1.El orden es:', A, B, C)\n",
        "    else:\n",
        "        print('2.El orden es:', A, C, B)\n",
        "\n",
        "if C < B > A :\n",
        "    if A > C:\n",
        "        print('3.El orden es:', B, A, C)\n",
        "    else:\n",
        "        print('4.El orden es:', B, C, A)\n",
        "        \n",
        "if A < C > B :\n",
        "    if A > B:\n",
        "        print('5.El orden es:', C, A, B)\n",
        "    else:\n",
        "        print('6.El orden es:', C, B, A)\n",
        "```\n",
        "\n",
        "> __Ejercicio:__\n",
        "- Compare y pruebe las 3 soluciones e indique ventajas y desventajas que provee cada una de estas según su criterio.\n",
        "\n"
      ]
    },
    {
      "cell_type": "code",
      "metadata": {
        "id": "8piKLmsHg6R3",
        "colab": {
          "base_uri": "https://localhost:8080/"
        },
        "outputId": "b49c686d-2185-459d-987a-3dcfbf873732"
      },
      "source": [
        "# Celda de código para probar\n",
        "partes = 1\n",
        "cortes = 6\n",
        "for var in range(cortes):\n",
        "    partes = partes + var + 1\n",
        "    print(partes, cortes, var)"
      ],
      "execution_count": 10,
      "outputs": [
        {
          "output_type": "stream",
          "name": "stdout",
          "text": [
            "2 6 0\n",
            "4 6 1\n",
            "7 6 2\n",
            "11 6 3\n",
            "16 6 4\n",
            "22 6 5\n"
          ]
        }
      ]
    },
    {
      "cell_type": "code",
      "source": [
        "X = int(input('Ingrese el valor para '))\n",
        "for i in range(1, X+1):\n",
        "        if X%i==0:\n",
        "            print(\"es divisor\", i)\n",
        ""
      ],
      "metadata": {
        "colab": {
          "base_uri": "https://localhost:8080/"
        },
        "id": "Y5jIacNRfcmy",
        "outputId": "80514c92-0d5f-4b85-ca11-027ccac65879"
      },
      "execution_count": 11,
      "outputs": [
        {
          "output_type": "stream",
          "name": "stdout",
          "text": [
            "Ingrese el valor para 1\n",
            "es divisor 1\n"
          ]
        }
      ]
    },
    {
      "cell_type": "code",
      "source": [
        "c = 0\n",
        "X = int(input('Ingrese el valor para '))\n",
        "for i in range(1, X+1):\n",
        "        if X%i==0:\n",
        "            c = c + 1\n",
        "            print(\"es divisor\", i)\n",
        "print(\"la cantidad de divisores es:\", c)"
      ],
      "metadata": {
        "colab": {
          "base_uri": "https://localhost:8080/"
        },
        "id": "JCb8lMQbjvLZ",
        "outputId": "4688bfa1-7644-42f6-e5d9-32f49f6d3528"
      },
      "execution_count": 12,
      "outputs": [
        {
          "output_type": "stream",
          "name": "stdout",
          "text": [
            "Ingrese el valor para 23\n",
            "es divisor 1\n",
            "es divisor 23\n",
            "la cantidad de divisores es: 2\n"
          ]
        }
      ]
    },
    {
      "cell_type": "code",
      "source": [
        "c = 0\n",
        "X = int(input('Ingrese el valor para '))\n",
        "for i in range(1, X+1):\n",
        "        if X%i==0:\n",
        "            c = c + 1\n",
        "            print(\"es divisor\", i)\n",
        "print(\"la cantidad de divisores es:\", c)\n",
        "if c == 2:\n",
        "    print(\"El numero es primo\")\n"
      ],
      "metadata": {
        "colab": {
          "base_uri": "https://localhost:8080/"
        },
        "id": "pM8_fmLelxgP",
        "outputId": "3f4d0eb3-17b4-4199-cdea-cdd270cdfc3d"
      },
      "execution_count": 13,
      "outputs": [
        {
          "output_type": "stream",
          "name": "stdout",
          "text": [
            "Ingrese el valor para 78\n",
            "es divisor 1\n",
            "es divisor 2\n",
            "es divisor 3\n",
            "es divisor 6\n",
            "es divisor 13\n",
            "es divisor 26\n",
            "es divisor 39\n",
            "es divisor 78\n",
            "la cantidad de divisores es: 8\n"
          ]
        }
      ]
    },
    {
      "cell_type": "code",
      "source": [
        "# la función\n",
        "def divisores(X):\n",
        "    c = 0\n",
        "    # X = int(input('Ingrese el valor para '))\n",
        "    for i in range(1, X+1):\n",
        "            if X%i==0:\n",
        "                c = c + 1\n",
        "                # print(\"es divisor\", i)\n",
        "    # print(\"la cantidad de divisores es:\", c)\n",
        "    if c == 2:\n",
        "        # print(\"El numero es primo\")\n",
        "        valor_primo = True\n",
        "    else:\n",
        "        valor_primo = False\n",
        "    return (c, valor_primo)\n",
        "divisores(7)"
      ],
      "metadata": {
        "colab": {
          "base_uri": "https://localhost:8080/"
        },
        "id": "WR8UzdqnmlEw",
        "outputId": "35f487a2-9188-4d98-8ab6-49e074e5246e"
      },
      "execution_count": 20,
      "outputs": [
        {
          "output_type": "execute_result",
          "data": {
            "text/plain": [
              "(2, True)"
            ]
          },
          "metadata": {},
          "execution_count": 20
        }
      ]
    },
    {
      "cell_type": "code",
      "source": [
        "# la función\n",
        "def divisores(X):\n",
        "    c = 0\n",
        "    # X = int(input('Ingrese el valor para '))\n",
        "    for i in range(1, X+1):\n",
        "            if X%i==0:\n",
        "                c = c + 1\n",
        "                # print(\"es divisor\", i)\n",
        "    # print(\"la cantidad de divisores es:\", c)\n",
        "    if c == 2:\n",
        "        # print(\"El numero es primo\")\n",
        "        valor_primo = True\n",
        "    else:\n",
        "        valor_primo = False\n",
        "    return (c, valor_primo)\n",
        "\n",
        "for l in range(1, 201):\n",
        "    m,n = divisores(l)\n",
        "    if n == True:\n",
        "        print(l)\n",
        "\n",
        "\n",
        "\n"
      ],
      "metadata": {
        "colab": {
          "base_uri": "https://localhost:8080/"
        },
        "id": "3OjC2FcPpVs2",
        "outputId": "603efa4d-19ac-48e8-f25f-e63a3f3744b3"
      },
      "execution_count": 25,
      "outputs": [
        {
          "output_type": "stream",
          "name": "stdout",
          "text": [
            "2\n",
            "3\n",
            "5\n",
            "7\n",
            "11\n",
            "13\n",
            "17\n",
            "19\n",
            "23\n",
            "29\n",
            "31\n",
            "37\n",
            "41\n",
            "43\n",
            "47\n",
            "53\n",
            "59\n",
            "61\n",
            "67\n",
            "71\n",
            "73\n",
            "79\n",
            "83\n",
            "89\n",
            "97\n",
            "101\n",
            "103\n",
            "107\n",
            "109\n",
            "113\n",
            "127\n",
            "131\n",
            "137\n",
            "139\n",
            "149\n",
            "151\n",
            "157\n",
            "163\n",
            "167\n",
            "173\n",
            "179\n",
            "181\n",
            "191\n",
            "193\n",
            "197\n",
            "199\n"
          ]
        }
      ]
    },
    {
      "cell_type": "code",
      "source": [
        "def divisores(X):\n",
        "    c = 0\n",
        "    lista = []\n",
        "    for i in range(1, X+1):\n",
        "            if X%i==0:\n",
        "                lista.append(i)\n",
        "                c = c + 1\n",
        "    if c == 2:\n",
        "        valor_primo = True\n",
        "    else:\n",
        "        valor_primo = False\n",
        "    return (c, valor_primo, lista)\n",
        "\n",
        "for l in range(1, 201):\n",
        "    cuantos,esprimo, divs = divisores(l)\n",
        "    print(l,'\\t',cuantos, esprimo, '\\t', divs)"
      ],
      "metadata": {
        "colab": {
          "base_uri": "https://localhost:8080/"
        },
        "id": "0bOBWWHhsUFV",
        "outputId": "c82a0d61-44da-4cdc-ff95-155babd8b47b"
      },
      "execution_count": 27,
      "outputs": [
        {
          "output_type": "stream",
          "name": "stdout",
          "text": [
            "1 \t 1 False \t [1]\n",
            "2 \t 2 True \t [1, 2]\n",
            "3 \t 2 True \t [1, 3]\n",
            "4 \t 3 False \t [1, 2, 4]\n",
            "5 \t 2 True \t [1, 5]\n",
            "6 \t 4 False \t [1, 2, 3, 6]\n",
            "7 \t 2 True \t [1, 7]\n",
            "8 \t 4 False \t [1, 2, 4, 8]\n",
            "9 \t 3 False \t [1, 3, 9]\n",
            "10 \t 4 False \t [1, 2, 5, 10]\n",
            "11 \t 2 True \t [1, 11]\n",
            "12 \t 6 False \t [1, 2, 3, 4, 6, 12]\n",
            "13 \t 2 True \t [1, 13]\n",
            "14 \t 4 False \t [1, 2, 7, 14]\n",
            "15 \t 4 False \t [1, 3, 5, 15]\n",
            "16 \t 5 False \t [1, 2, 4, 8, 16]\n",
            "17 \t 2 True \t [1, 17]\n",
            "18 \t 6 False \t [1, 2, 3, 6, 9, 18]\n",
            "19 \t 2 True \t [1, 19]\n",
            "20 \t 6 False \t [1, 2, 4, 5, 10, 20]\n",
            "21 \t 4 False \t [1, 3, 7, 21]\n",
            "22 \t 4 False \t [1, 2, 11, 22]\n",
            "23 \t 2 True \t [1, 23]\n",
            "24 \t 8 False \t [1, 2, 3, 4, 6, 8, 12, 24]\n",
            "25 \t 3 False \t [1, 5, 25]\n",
            "26 \t 4 False \t [1, 2, 13, 26]\n",
            "27 \t 4 False \t [1, 3, 9, 27]\n",
            "28 \t 6 False \t [1, 2, 4, 7, 14, 28]\n",
            "29 \t 2 True \t [1, 29]\n",
            "30 \t 8 False \t [1, 2, 3, 5, 6, 10, 15, 30]\n",
            "31 \t 2 True \t [1, 31]\n",
            "32 \t 6 False \t [1, 2, 4, 8, 16, 32]\n",
            "33 \t 4 False \t [1, 3, 11, 33]\n",
            "34 \t 4 False \t [1, 2, 17, 34]\n",
            "35 \t 4 False \t [1, 5, 7, 35]\n",
            "36 \t 9 False \t [1, 2, 3, 4, 6, 9, 12, 18, 36]\n",
            "37 \t 2 True \t [1, 37]\n",
            "38 \t 4 False \t [1, 2, 19, 38]\n",
            "39 \t 4 False \t [1, 3, 13, 39]\n",
            "40 \t 8 False \t [1, 2, 4, 5, 8, 10, 20, 40]\n",
            "41 \t 2 True \t [1, 41]\n",
            "42 \t 8 False \t [1, 2, 3, 6, 7, 14, 21, 42]\n",
            "43 \t 2 True \t [1, 43]\n",
            "44 \t 6 False \t [1, 2, 4, 11, 22, 44]\n",
            "45 \t 6 False \t [1, 3, 5, 9, 15, 45]\n",
            "46 \t 4 False \t [1, 2, 23, 46]\n",
            "47 \t 2 True \t [1, 47]\n",
            "48 \t 10 False \t [1, 2, 3, 4, 6, 8, 12, 16, 24, 48]\n",
            "49 \t 3 False \t [1, 7, 49]\n",
            "50 \t 6 False \t [1, 2, 5, 10, 25, 50]\n",
            "51 \t 4 False \t [1, 3, 17, 51]\n",
            "52 \t 6 False \t [1, 2, 4, 13, 26, 52]\n",
            "53 \t 2 True \t [1, 53]\n",
            "54 \t 8 False \t [1, 2, 3, 6, 9, 18, 27, 54]\n",
            "55 \t 4 False \t [1, 5, 11, 55]\n",
            "56 \t 8 False \t [1, 2, 4, 7, 8, 14, 28, 56]\n",
            "57 \t 4 False \t [1, 3, 19, 57]\n",
            "58 \t 4 False \t [1, 2, 29, 58]\n",
            "59 \t 2 True \t [1, 59]\n",
            "60 \t 12 False \t [1, 2, 3, 4, 5, 6, 10, 12, 15, 20, 30, 60]\n",
            "61 \t 2 True \t [1, 61]\n",
            "62 \t 4 False \t [1, 2, 31, 62]\n",
            "63 \t 6 False \t [1, 3, 7, 9, 21, 63]\n",
            "64 \t 7 False \t [1, 2, 4, 8, 16, 32, 64]\n",
            "65 \t 4 False \t [1, 5, 13, 65]\n",
            "66 \t 8 False \t [1, 2, 3, 6, 11, 22, 33, 66]\n",
            "67 \t 2 True \t [1, 67]\n",
            "68 \t 6 False \t [1, 2, 4, 17, 34, 68]\n",
            "69 \t 4 False \t [1, 3, 23, 69]\n",
            "70 \t 8 False \t [1, 2, 5, 7, 10, 14, 35, 70]\n",
            "71 \t 2 True \t [1, 71]\n",
            "72 \t 12 False \t [1, 2, 3, 4, 6, 8, 9, 12, 18, 24, 36, 72]\n",
            "73 \t 2 True \t [1, 73]\n",
            "74 \t 4 False \t [1, 2, 37, 74]\n",
            "75 \t 6 False \t [1, 3, 5, 15, 25, 75]\n",
            "76 \t 6 False \t [1, 2, 4, 19, 38, 76]\n",
            "77 \t 4 False \t [1, 7, 11, 77]\n",
            "78 \t 8 False \t [1, 2, 3, 6, 13, 26, 39, 78]\n",
            "79 \t 2 True \t [1, 79]\n",
            "80 \t 10 False \t [1, 2, 4, 5, 8, 10, 16, 20, 40, 80]\n",
            "81 \t 5 False \t [1, 3, 9, 27, 81]\n",
            "82 \t 4 False \t [1, 2, 41, 82]\n",
            "83 \t 2 True \t [1, 83]\n",
            "84 \t 12 False \t [1, 2, 3, 4, 6, 7, 12, 14, 21, 28, 42, 84]\n",
            "85 \t 4 False \t [1, 5, 17, 85]\n",
            "86 \t 4 False \t [1, 2, 43, 86]\n",
            "87 \t 4 False \t [1, 3, 29, 87]\n",
            "88 \t 8 False \t [1, 2, 4, 8, 11, 22, 44, 88]\n",
            "89 \t 2 True \t [1, 89]\n",
            "90 \t 12 False \t [1, 2, 3, 5, 6, 9, 10, 15, 18, 30, 45, 90]\n",
            "91 \t 4 False \t [1, 7, 13, 91]\n",
            "92 \t 6 False \t [1, 2, 4, 23, 46, 92]\n",
            "93 \t 4 False \t [1, 3, 31, 93]\n",
            "94 \t 4 False \t [1, 2, 47, 94]\n",
            "95 \t 4 False \t [1, 5, 19, 95]\n",
            "96 \t 12 False \t [1, 2, 3, 4, 6, 8, 12, 16, 24, 32, 48, 96]\n",
            "97 \t 2 True \t [1, 97]\n",
            "98 \t 6 False \t [1, 2, 7, 14, 49, 98]\n",
            "99 \t 6 False \t [1, 3, 9, 11, 33, 99]\n",
            "100 \t 9 False \t [1, 2, 4, 5, 10, 20, 25, 50, 100]\n",
            "101 \t 2 True \t [1, 101]\n",
            "102 \t 8 False \t [1, 2, 3, 6, 17, 34, 51, 102]\n",
            "103 \t 2 True \t [1, 103]\n",
            "104 \t 8 False \t [1, 2, 4, 8, 13, 26, 52, 104]\n",
            "105 \t 8 False \t [1, 3, 5, 7, 15, 21, 35, 105]\n",
            "106 \t 4 False \t [1, 2, 53, 106]\n",
            "107 \t 2 True \t [1, 107]\n",
            "108 \t 12 False \t [1, 2, 3, 4, 6, 9, 12, 18, 27, 36, 54, 108]\n",
            "109 \t 2 True \t [1, 109]\n",
            "110 \t 8 False \t [1, 2, 5, 10, 11, 22, 55, 110]\n",
            "111 \t 4 False \t [1, 3, 37, 111]\n",
            "112 \t 10 False \t [1, 2, 4, 7, 8, 14, 16, 28, 56, 112]\n",
            "113 \t 2 True \t [1, 113]\n",
            "114 \t 8 False \t [1, 2, 3, 6, 19, 38, 57, 114]\n",
            "115 \t 4 False \t [1, 5, 23, 115]\n",
            "116 \t 6 False \t [1, 2, 4, 29, 58, 116]\n",
            "117 \t 6 False \t [1, 3, 9, 13, 39, 117]\n",
            "118 \t 4 False \t [1, 2, 59, 118]\n",
            "119 \t 4 False \t [1, 7, 17, 119]\n",
            "120 \t 16 False \t [1, 2, 3, 4, 5, 6, 8, 10, 12, 15, 20, 24, 30, 40, 60, 120]\n",
            "121 \t 3 False \t [1, 11, 121]\n",
            "122 \t 4 False \t [1, 2, 61, 122]\n",
            "123 \t 4 False \t [1, 3, 41, 123]\n",
            "124 \t 6 False \t [1, 2, 4, 31, 62, 124]\n",
            "125 \t 4 False \t [1, 5, 25, 125]\n",
            "126 \t 12 False \t [1, 2, 3, 6, 7, 9, 14, 18, 21, 42, 63, 126]\n",
            "127 \t 2 True \t [1, 127]\n",
            "128 \t 8 False \t [1, 2, 4, 8, 16, 32, 64, 128]\n",
            "129 \t 4 False \t [1, 3, 43, 129]\n",
            "130 \t 8 False \t [1, 2, 5, 10, 13, 26, 65, 130]\n",
            "131 \t 2 True \t [1, 131]\n",
            "132 \t 12 False \t [1, 2, 3, 4, 6, 11, 12, 22, 33, 44, 66, 132]\n",
            "133 \t 4 False \t [1, 7, 19, 133]\n",
            "134 \t 4 False \t [1, 2, 67, 134]\n",
            "135 \t 8 False \t [1, 3, 5, 9, 15, 27, 45, 135]\n",
            "136 \t 8 False \t [1, 2, 4, 8, 17, 34, 68, 136]\n",
            "137 \t 2 True \t [1, 137]\n",
            "138 \t 8 False \t [1, 2, 3, 6, 23, 46, 69, 138]\n",
            "139 \t 2 True \t [1, 139]\n",
            "140 \t 12 False \t [1, 2, 4, 5, 7, 10, 14, 20, 28, 35, 70, 140]\n",
            "141 \t 4 False \t [1, 3, 47, 141]\n",
            "142 \t 4 False \t [1, 2, 71, 142]\n",
            "143 \t 4 False \t [1, 11, 13, 143]\n",
            "144 \t 15 False \t [1, 2, 3, 4, 6, 8, 9, 12, 16, 18, 24, 36, 48, 72, 144]\n",
            "145 \t 4 False \t [1, 5, 29, 145]\n",
            "146 \t 4 False \t [1, 2, 73, 146]\n",
            "147 \t 6 False \t [1, 3, 7, 21, 49, 147]\n",
            "148 \t 6 False \t [1, 2, 4, 37, 74, 148]\n",
            "149 \t 2 True \t [1, 149]\n",
            "150 \t 12 False \t [1, 2, 3, 5, 6, 10, 15, 25, 30, 50, 75, 150]\n",
            "151 \t 2 True \t [1, 151]\n",
            "152 \t 8 False \t [1, 2, 4, 8, 19, 38, 76, 152]\n",
            "153 \t 6 False \t [1, 3, 9, 17, 51, 153]\n",
            "154 \t 8 False \t [1, 2, 7, 11, 14, 22, 77, 154]\n",
            "155 \t 4 False \t [1, 5, 31, 155]\n",
            "156 \t 12 False \t [1, 2, 3, 4, 6, 12, 13, 26, 39, 52, 78, 156]\n",
            "157 \t 2 True \t [1, 157]\n",
            "158 \t 4 False \t [1, 2, 79, 158]\n",
            "159 \t 4 False \t [1, 3, 53, 159]\n",
            "160 \t 12 False \t [1, 2, 4, 5, 8, 10, 16, 20, 32, 40, 80, 160]\n",
            "161 \t 4 False \t [1, 7, 23, 161]\n",
            "162 \t 10 False \t [1, 2, 3, 6, 9, 18, 27, 54, 81, 162]\n",
            "163 \t 2 True \t [1, 163]\n",
            "164 \t 6 False \t [1, 2, 4, 41, 82, 164]\n",
            "165 \t 8 False \t [1, 3, 5, 11, 15, 33, 55, 165]\n",
            "166 \t 4 False \t [1, 2, 83, 166]\n",
            "167 \t 2 True \t [1, 167]\n",
            "168 \t 16 False \t [1, 2, 3, 4, 6, 7, 8, 12, 14, 21, 24, 28, 42, 56, 84, 168]\n",
            "169 \t 3 False \t [1, 13, 169]\n",
            "170 \t 8 False \t [1, 2, 5, 10, 17, 34, 85, 170]\n",
            "171 \t 6 False \t [1, 3, 9, 19, 57, 171]\n",
            "172 \t 6 False \t [1, 2, 4, 43, 86, 172]\n",
            "173 \t 2 True \t [1, 173]\n",
            "174 \t 8 False \t [1, 2, 3, 6, 29, 58, 87, 174]\n",
            "175 \t 6 False \t [1, 5, 7, 25, 35, 175]\n",
            "176 \t 10 False \t [1, 2, 4, 8, 11, 16, 22, 44, 88, 176]\n",
            "177 \t 4 False \t [1, 3, 59, 177]\n",
            "178 \t 4 False \t [1, 2, 89, 178]\n",
            "179 \t 2 True \t [1, 179]\n",
            "180 \t 18 False \t [1, 2, 3, 4, 5, 6, 9, 10, 12, 15, 18, 20, 30, 36, 45, 60, 90, 180]\n",
            "181 \t 2 True \t [1, 181]\n",
            "182 \t 8 False \t [1, 2, 7, 13, 14, 26, 91, 182]\n",
            "183 \t 4 False \t [1, 3, 61, 183]\n",
            "184 \t 8 False \t [1, 2, 4, 8, 23, 46, 92, 184]\n",
            "185 \t 4 False \t [1, 5, 37, 185]\n",
            "186 \t 8 False \t [1, 2, 3, 6, 31, 62, 93, 186]\n",
            "187 \t 4 False \t [1, 11, 17, 187]\n",
            "188 \t 6 False \t [1, 2, 4, 47, 94, 188]\n",
            "189 \t 8 False \t [1, 3, 7, 9, 21, 27, 63, 189]\n",
            "190 \t 8 False \t [1, 2, 5, 10, 19, 38, 95, 190]\n",
            "191 \t 2 True \t [1, 191]\n",
            "192 \t 14 False \t [1, 2, 3, 4, 6, 8, 12, 16, 24, 32, 48, 64, 96, 192]\n",
            "193 \t 2 True \t [1, 193]\n",
            "194 \t 4 False \t [1, 2, 97, 194]\n",
            "195 \t 8 False \t [1, 3, 5, 13, 15, 39, 65, 195]\n",
            "196 \t 9 False \t [1, 2, 4, 7, 14, 28, 49, 98, 196]\n",
            "197 \t 2 True \t [1, 197]\n",
            "198 \t 12 False \t [1, 2, 3, 6, 9, 11, 18, 22, 33, 66, 99, 198]\n",
            "199 \t 2 True \t [1, 199]\n",
            "200 \t 12 False \t [1, 2, 4, 5, 8, 10, 20, 25, 40, 50, 100, 200]\n"
          ]
        }
      ]
    },
    {
      "cell_type": "code",
      "source": [
        "#@title rango de numeros primos\n",
        "inicio = 100 # @param = {type: \"integer\"}\n",
        "final = 500  # @param = {type: \"integer\"}\n",
        "columnas = 8 # @param = {type: \"slider\", \"min\":5, \"max\":12, \"step\":1}\n",
        "cnt = 0\n",
        "for k in range(inicio,final+1):\n",
        "    rta = divisores(k)\n",
        "    if rta[1]:\n",
        "        print(k, end= '\\t')\n",
        "        cnt = cnt + 1\n",
        "        if cnt % columnas == 0:\n",
        "            print()\n",
        "print('\\ntotal', cnt)"
      ],
      "metadata": {
        "colab": {
          "base_uri": "https://localhost:8080/"
        },
        "id": "r4rFJ9Cu0suA",
        "outputId": "3384efa4-70ff-4c9e-f3ff-0bf13c2fd54d"
      },
      "execution_count": 42,
      "outputs": [
        {
          "output_type": "stream",
          "name": "stdout",
          "text": [
            "101\t103\t107\t109\t113\t127\t131\t137\t\n",
            "139\t149\t151\t157\t163\t167\t173\t179\t\n",
            "181\t191\t193\t197\t199\t211\t223\t227\t\n",
            "229\t233\t239\t241\t251\t257\t263\t269\t\n",
            "271\t277\t281\t283\t293\t307\t311\t313\t\n",
            "317\t331\t337\t347\t349\t353\t359\t367\t\n",
            "373\t379\t383\t389\t397\t401\t409\t419\t\n",
            "421\t431\t433\t439\t443\t449\t457\t461\t\n",
            "463\t467\t479\t487\t491\t499\t\n",
            "total 70\n"
          ]
        }
      ]
    },
    {
      "cell_type": "code",
      "source": [
        "import matplotlib.pyplot as plt\n",
        "x = list(range(10))\n",
        "y = []\n",
        "for i in x:\n",
        "    y.append(i**0.5)\n",
        "plt.plot(x,y, 'o-.', color='red')\n",
        "plt.title(\"Mi Grafica $y=\\sqrt{x}$\")\n",
        "plt.xlabel(\"Eje X\")\n",
        "plt.ylabel(\"Eje Y\")\n",
        "\n",
        "\n"
      ],
      "metadata": {
        "colab": {
          "base_uri": "https://localhost:8080/",
          "height": 492
        },
        "id": "2ThABYfh5q8P",
        "outputId": "edf3d63d-22e0-43e6-ba20-53db218129ef"
      },
      "execution_count": 72,
      "outputs": [
        {
          "output_type": "execute_result",
          "data": {
            "text/plain": [
              "Text(0, 0.5, 'Eje Y')"
            ]
          },
          "metadata": {},
          "execution_count": 72
        },
        {
          "output_type": "display_data",
          "data": {
            "text/plain": [
              "<Figure size 640x480 with 1 Axes>"
            ],
            "image/png": "[encoded data removed]"
          },
          "metadata": {}
        }
      ]
    },
    {
      "cell_type": "code",
      "source": [
        "import matplotlib.pyplot as plt\n",
        "x = list(range(20))\n",
        "y = []\n",
        "y1 = []\n",
        "for i in x:\n",
        "    y.append(i**0.5)\n",
        "    y1.append(i**0.25)\n",
        "# for i in x:\n",
        "#     y.append(i**0.5)\n",
        "#plt.stem(x,y)\n",
        "plt.bar(x,y)\n",
        "#plt.step(x,y, 'o-.', color='red')\n",
        "plt.plot(x,y1, 'o-.','s-')\n",
        "plt.title(\"Mi Grafica $y=\\sqrt{x}$\")\n",
        "plt.xlabel(\"Eje X\")\n",
        "plt.ylabel(\"Eje Y\")\n",
        "plt.axis('equal')"
      ],
      "metadata": {
        "colab": {
          "base_uri": "https://localhost:8080/",
          "height": 492
        },
        "id": "BtLQVH1k-q1k",
        "outputId": "d66f0b51-b131-4e06-b119-c8d0f4000b62"
      },
      "execution_count": 79,
      "outputs": [
        {
          "output_type": "execute_result",
          "data": {
            "text/plain": [
              "(-1.3900000000000001, 20.39, 0.0, 4.576843890717708)"
            ]
          },
          "metadata": {},
          "execution_count": 79
        },
        {
          "output_type": "display_data",
          "data": {
            "text/plain": [
              "<Figure size 640x480 with 1 Axes>"
            ],
            "image/png": "[encoded data removed]"
          },
          "metadata": {}
        }
      ]
    },
    {
      "cell_type": "code",
      "source": [
        "# y = x 2 -3x + 10\n",
        "a = 1\n",
        "b = -3\n",
        "c = -10\n",
        "x = list(range(-10,10))\n",
        "y = []\n",
        "for i in x:\n",
        "    y.append(a*i**2 + b*i + c)\n",
        "x1 = (-b + (b**2-4*a*c)**(0.5))/(2*a)\n",
        "x2 = (-b - (b**2-4*a*c)**(0.5))/(2*a)\n",
        "xv = -b/(2*a)\n",
        "yv = a*xv**2 + b*xv + c\n",
        "plt.plot(x,y, 'r.-')\n",
        "plt.plot([x1, x2],[0,0])\n",
        "plt.plot([xv],[yv], 'o')\n",
        "\n",
        "print(\"Las raíces son\",x1, x2, xv,yv)\n"
      ],
      "metadata": {
        "colab": {
          "base_uri": "https://localhost:8080/",
          "height": 447
        },
        "id": "nvlwBSMKAuz0",
        "outputId": "242473fd-20a7-4f61-f313-fc65ceffe59c"
      },
      "execution_count": 94,
      "outputs": [
        {
          "output_type": "stream",
          "name": "stdout",
          "text": [
            "Las raíces son 5.0 -2.0 1.5 -12.25\n"
          ]
        },
        {
          "output_type": "display_data",
          "data": {
            "text/plain": [
              "<Figure size 640x480 with 1 Axes>"
            ],
            "image/png": "[encoded data removed]"
          },
          "metadata": {}
        }
      ]
    },
    {
      "cell_type": "code",
      "source": [
        "# y = x 2 -3x + 10\n",
        "a = 1\n",
        "b = -3\n",
        "c = -10\n",
        "x = list(range(-5,6))\n",
        "y = []\n",
        "for i in x:\n",
        "    y.append(a*i**2 + b*i + c)\n",
        "x1 = (-b + (b**2-4*a*c)**(0.5))/(2*a)\n",
        "x2 = (-b - (b**2-4*a*c)**(0.5))/(2*a)\n",
        "xv = -b/(2*a)\n",
        "yv = a*xv**2 + b*xv + c\n",
        "plt.plot(x,y, 'r.-')\n",
        "plt.plot([x1, x2],[0,0])\n",
        "plt.plot([0,3,4,5,1,2,-1,0],[0,2,1,5,5,4,2,0])\n",
        "plt.plot([xv],[yv], 'o')\n",
        "plt.axis('equal')\n",
        "\n",
        "print(\"Las raíces son\",x1, x2, xv,yv)"
      ],
      "metadata": {
        "colab": {
          "base_uri": "https://localhost:8080/",
          "height": 447
        },
        "id": "6_1w4dG4GKoJ",
        "outputId": "f4d42fad-ab08-414b-ef5f-1b8cbfeedcef"
      },
      "execution_count": 97,
      "outputs": [
        {
          "output_type": "stream",
          "name": "stdout",
          "text": [
            "Las raíces son 5.0 -2.0 1.5 -12.25\n"
          ]
        },
        {
          "output_type": "display_data",
          "data": {
            "text/plain": [
              "<Figure size 640x480 with 1 Axes>"
            ],
            "image/png": "[encoded data removed]"
          },
          "metadata": {}
        }
      ]
    },
    {
      "cell_type": "markdown",
      "metadata": {
        "id": "QKqOns-CHYnL"
      },
      "source": [
        "# __Algoritmos Cíclicos__\n",
        "\n",
        "> __Programación en python__ <br>\n",
        "Por: _Jorge Victorino_\n",
        "\n",
        "---\n",
        "\n",
        "## __Diagrama de la estrcutura cíclica__\n",
        "\n",
        "> Como se muestra en el siguiente diagrama de flujo, debe haber una variable  y una condición que controlan el ciclo. Además de un conjunto de instrucciones que son las que se repiten cada vez que se cumple la condición. La parte clave en el diseño del ciclo es la __condición__, puesto que debe garantizar el incio y la terminación del mismo. Cada vez que se evalúa la condición como verdadera las instrucciones dentro del ciclo se repiten."
      ]
    },
    {
      "cell_type": "markdown",
      "metadata": {
        "id": "PUqivzkjJdo-"
      },
      "source": [
        "![estructura-ciclica.png](data:image/png;base64,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)"
      ]
    },
    {
      "cell_type": "markdown",
      "metadata": {
        "id": "GSJ5QYle-VjH"
      },
      "source": [
        "## __Variable del ciclo__\n",
        "> - La variable del ciclo controla su inicio, cuántas veces se repite y por tanto, cuando se termina. Se identifican al menos 3 estados en esta variable:\n",
        "    - __Inicialización__. La variable antes del ciclo toma un valor incial\n",
        "    - __Evaluación__. con el valor actual de la variable del ciclo se evalúa la condición, si esta es verdadera se continua y si no se termina.\n",
        "    - __Actualización__. una vez dentro del ciclo, la variable debe cambiar su valor, para que cambie la condición y que así se pueda ver que el ciclo terminará en algún momento. De lo contrario el programa quedaría atrapado en el ciclo.\n",
        "\n",
        "## Sintaxis `while`\n",
        "\n",
        "```python\n",
        "<instrucciones antes...>\n",
        "variable_ciclo = valor_inicial\n",
        "while CONDICIÓN(variable_ciclo) :\n",
        "    <instrucciones ciclo ...>\n",
        "    vaiable_ciclo = otro_valor\n",
        "<instrucciones después...>\n",
        "```\n",
        "\n",
        "## Sintaxis `for`\n",
        "\n",
        "- El ciclo `for` se repite para cada uno de los valores del conjunto especificado. Este conjunto puede ser un rango o una lista. La palabra reservada `in` significa cada uno de los elementos del rango o la lista\n",
        "\n",
        "```python\n",
        "<instrucciones antes...>\n",
        "for variable_ciclo in Conjuto_valores :\n",
        "    <instrucciones ciclo ...>\n",
        "<instrucciones después...>\n",
        "```\n",
        "\n",
        "- Se puede ver que la sintaxis del `for` es más sencilla que la sintaxis del `while`. Aunque con `while` se tiene mayor control.\n",
        "\n"
      ]
    },
    {
      "cell_type": "markdown",
      "metadata": {
        "id": "j3rYfqk2PrUW"
      },
      "source": [
        "## __Variables en ciclos__\n",
        "\n",
        "> Son variables que inicializan antes del ciclo con un determinado valor, luego dentro del ciclo se modifican usando su propio valor y al final del ciclo se utiliza su resultado. Por ejemplo:\n",
        "> - __Contador:__ variable entera que se incrementa en uno en cada iteración del ciclo. El contador lleva la cuenta de veces que se repite un ciclo\n",
        "- __Acumulador:__ variable numérica que acumula una determinada operación en un ciclo. Se inicializa con 0 para la suma, y uno para la multiplicación.\n",
        "- __Bandera:__ variable boolena que se inicia con un valor de verdad y luego dentro del ciclo una o varias condiciones pueden cambiar su estado.\n",
        "\n"
      ]
    },
    {
      "cell_type": "markdown",
      "metadata": {
        "id": "oK-8JwpLZy5J"
      },
      "source": [
        "## Ciclos sobre N valores\n",
        "\n",
        "> - En muchas ocasiones se requiere hacer un ciclo sobre N valores, para cual se recomienda un ciclo for usando la función range.\n",
        "\n",
        "### __Ejemplo__\n",
        "> - Hacer un ciclo para sumar N cantidades que ingresa un usuario\n",
        "\n",
        "> - Calcular El factorial. Consiste en multiplicar todos los números hasta N.\n",
        "\n",
        "\n",
        "```python\n",
        "N = int(input('Ingrese valor para calcular el factorial: '))\n",
        "acum = 1\n",
        "for i in range(1, N+1):\n",
        "    acum = acum * i\n",
        "    print('Valor parcial:', acum)\n",
        "print('Valor del factorial: ', acum)\n",
        "```\n",
        "\n",
        "- Observe esta alternativa llamando a la función de manera recursiva (cuando la función se llama así misma). Observe el funcionamiento de este código en el python tutor\n",
        "\n",
        "\n",
        "```python\n",
        "def factorial(n):\n",
        "    print('calcular factorial de ', n)\n",
        "    if n <= 1:\n",
        "        return 1\n",
        "    else:\n",
        "        return n * factorial(n-1)\n",
        "\n",
        "resultado = factorial(6)\n",
        "print(resultado)\n",
        "\n",
        "```\n",
        "\n",
        "> - Observe que se hace un ciclo pero no se utiliza ni un while ni un for. Cómo se explica el ciclo?\n",
        "\n",
        "> - Revise en detalle el funcionamiento del programa con [python tutor](https://pythontutor.com/visualize.html#mode=edit)\n"
      ]
    },
    {
      "cell_type": "markdown",
      "metadata": {
        "id": "ELV_eZiTbybM"
      },
      "source": [
        "## __Ejemplo: imprimir tablas de multiplicar__\n",
        "\n",
        "> - Un ejemplo claro para ver el funcionamiento de un ciclo son las tablas de multiplicar. Puesto que se deben controlar las variables del ciclo para tener un visualización de las tablas tal como se quiere.\n",
        "\n",
        "\n",
        "\n",
        "```python\n",
        "n = int(input('Ingrese el valor para ver su tabla de multiplicar: '))\n",
        "\n",
        "print('Tabla del número:', n)\n",
        "print('--'*10)\n",
        "for i in range (1, n+1):\n",
        "    print(f'{n} x {i} = {n*i}')\n",
        "print('--'*10)\n",
        "\n",
        "```\n",
        "\n",
        "> - Esto imprime la tabla del número que se le dijo. El reto es imprimir las tablas del 1 a l 10 usando cinco columnas. Primero las tablas del 1 al 5 y debajo del 6 al 10\n"
      ]
    },
    {
      "cell_type": "code",
      "metadata": {
        "id": "LSBD2atKcQ1b"
      },
      "source": [
        "# Celda de código para probar\n",
        "n = int(input('Ingrese el valor para ver su tabla de multiplicar: '))\n",
        "\n",
        "print('Tabla del número:', n)\n",
        "print('--'*10)\n",
        "for i in range (1, n+1):\n",
        "    print(f'{n} x {i} = {n*i}')\n",
        "print('--'*10)\n"
      ],
      "execution_count": null,
      "outputs": []
    },
    {
      "cell_type": "markdown",
      "metadata": {
        "id": "Qm2qsGO6d-TZ"
      },
      "source": [
        "## __Ciclos con selección__\n",
        "\n",
        "> - Es usual que se requiera hacer un ciclo sobre N valores y que luego se haga un filtro o selección de esos valores mediante una condición. En este caso es recomendado un ciclo for hasta el valor N y filtrar los valores usando una condición.\n",
        "\n",
        "### __Ejemplo: divisiones de un número__\n",
        "\n",
        "> - Hacer un algoritmo que dado un número muestre todos los divisores de este.\n",
        "\n",
        "```python\n",
        "n = int(input('Ingrese un valor para calcular los divisores: '))\n",
        "cont = 0\n",
        "for i in range(1, n+1):\n",
        "    if n % i == 0:  \n",
        "        cont = cont + 1\n",
        "        print(f'divisor({cont}): {i}')\n",
        "print('El número', n, 'tiene', cont, 'divisores')\n",
        "```\n",
        "\n",
        "### __Ejercicio:__\n",
        "> - Reutilizando el algortimo anterior, haga un ciclo que muestre en un intervalo de 1 hasta N, cuáles son números primos.\n",
        "\n"
      ]
    },
    {
      "cell_type": "markdown",
      "metadata": {
        "id": "MDBQZtohgFKw"
      },
      "source": [
        "## __Ciclos anidados__\n",
        "\n",
        "> - Una forma de calcular las probabiliades es hallar todos los escenarios posibles y contar aquellos que cumplen una condición particular. Al final la cuenta se divide por el total de ejemplos que cumplen.\n",
        "\n",
        "### __Ejemplo: Eventos con dados__\n",
        "\n",
        "> - Al lanzar dos dados se quiere saber cuantas posibilidades hay de obtener un 6 con alguno de los dos dados o sumando los valores que salieron en cada dado.\n",
        "    - Para esto se generan todos los posibles escenarios que son 6x6=36, luego se mira de todos los escenarios posibles cuántos cumplen la condición dada y luego se calcula la probabilidad.\n",
        "\n",
        "1. Primero se generan todas las posibilidades que hay con dos dados\n",
        "\n",
        "```python\n",
        "for i in range(1, 6+1):\n",
        "    for j in range(1, 6+1):\n",
        "        print(f'Escenario: dado_1: {i} y dado_2: {j}: suma: {i+j}')\n",
        "```\n",
        "\n",
        "2. Segundo, se utiliza un condicional para contar solo los eventos que interesan, en este caso en donde se obtiene 6.\n",
        "\n",
        "```python\n",
        "cont = 0\n",
        "for i in range(1, 6+1):\n",
        "    for j in range(1, 6+1):\n",
        "        if i == 6 or j == 6 or i+j == 6:\n",
        "            cont = cont + 1\n",
        "            print(f'resultado [{i}], [{j}]: suma: [{i+j}]')\n",
        "print('La probabilidad de Obtener 6 es:', cont/36)\n",
        "```\n",
        "\n",
        "### __Ejercicio__\n",
        "\n",
        "> - Convierta el ejericio anterior en una función y luego muestre la probabilidad de todos los valores desde uno hasta doce.\n",
        "\n"
      ]
    },
    {
      "cell_type": "code",
      "metadata": {
        "id": "Tm6vdLpyhWRs"
      },
      "source": [
        "# Celda de código para probar"
      ],
      "execution_count": null,
      "outputs": []
    },
    {
      "cell_type": "markdown",
      "source": [
        "## __Ejemplo en clase__\n",
        "> - Se quiere generar una matriz de valores para una función de dos variables $z = f(x,y)$. Los valores de $x$ y de $y$ deben estar en el rango de $[0, 1]$ en pasos de $0.1$. La función es: $z = x^2 - y^2 +1$"
      ],
      "metadata": {
        "id": "r8gHHlrke0Tv"
      }
    },
    {
      "cell_type": "markdown",
      "metadata": {
        "id": "pwo2ANVIp_IW"
      },
      "source": [
        "## Problema de los divisores cruzados\n",
        "\n",
        "> - Diseñe un algoritmo para determinar si dos números enteros $a$ y $b$ cumplen con el siguiente enunciado:\n",
        "    - la suma de los divisores de $a$ es igual al número $b$, y la suma de los divisores de $b$ es igual al número $a$.\n",
        "        - Ejemplo: Para $a=220$ y $b=284$\n",
        "            - los divisores de $220$ son: {1, 2, 4, 5, 10, 11, 20, 22, 44, 55, 110 }, que suman $284$\n",
        "            - los divisores de $284$ son: {1, 2, 4, 71 y 142}, que suman $220$\n",
        "        - Por tanto, 220 y 284 cumplen\n"
      ]
    },
    {
      "cell_type": "markdown",
      "metadata": {
        "id": "LnaG-mvWMNaT"
      },
      "source": [
        "##  Pasos para resolver el problema de divisores cruzados\n",
        "\n",
        "> __Análisis inicial__\n",
        "1. pedir los 2 valores enteros positivos\n",
        "2. obtener la suma de los divisores\n",
        "    -\n",
        "3. comparación cruzada la suma de los divisores del primer número es igual al segundo y viceversa\n",
        "4. concluir si se cumple la condición de tener divisores cruzados\n",
        "\n",
        "> __Análisis punto 2__\n",
        "1. ciclo por los valores desde 1 hasta el número\n",
        "2. probar cada valor para saber si es divisor\n",
        "2. si es divisor entonces acumular\n",
        "2. al final devolver la suma"
      ]
    },
    {
      "cell_type": "code",
      "metadata": {
        "id": "3LI4KT8sEn0m"
      },
      "source": [
        "# Celda de código para probar"
      ],
      "execution_count": null,
      "outputs": []
    },
    {
      "cell_type": "markdown",
      "metadata": {
        "id": "WtKMAWpeFJIF"
      },
      "source": [
        "## Problema de minar diamantes\n",
        "\n",
        "> - Juan esta trabajando en una mina de diamantes, el objetivo es extraer la mayor cantidad de diamantes `<>`. El debe evitar todas las partículas de arena encontrada `.` en este proceso y luego el diamante se puede extraer y nuevos diamantes se pueden formar.\n",
        "- Ejemplo: si tiene como entrada. `<...<<..>>....>.... >>>` tres diamantes se han formado. El primero se toma de `<..>` resultando. `<...<>....>.... >>>.` El segundo diamante es entonces retirado, dejando. `<.......>....>>>.` El tercer diamante es entonces retirado, dejando al final `..... >>>.` con la posibilidad de extraer nuevos diamantes.\n",
        "- Pruebas:\n",
        "\n",
        "| Entrada | Salida |\n",
        "| --- | :---:\n",
        "| `<..><.<..>>` |3\n",
        "| `<<<..<......<<<<....>` |1\n",
        "| `<.<<>.<<>.<..><.<>.><<<` |5\n",
        "| `>>..>..<..<...<<..<..>.<.<` |1\n",
        "\n",
        "## Análisis del problema"
      ]
    },
    {
      "cell_type": "markdown",
      "source": [
        "## __Ejemplo de procesar dígitos decimales__\n",
        "\n",
        "> - Hacer un ciclo para extraer digito por digito de un número\n",
        "- Dividir dos número decimales en parte izquierda y derecha\n"
      ],
      "metadata": {
        "id": "KLkAvhS_cRzK"
      }
    },
    {
      "cell_type": "code",
      "source": [],
      "metadata": {
        "id": "5iYnvU3vM3_x"
      },
      "execution_count": null,
      "outputs": []
    },
    {
      "cell_type": "markdown",
      "source": [
        "# __Gráficas de matplotlib__\n",
        "\n",
        "- Gráfica de la función cuadrática\n",
        "- Pintar una figura\n",
        "- Ecuación logistica $x_{n+1} = r x_n(1-x_n)$"
      ],
      "metadata": {
        "id": "sAsbYW7OM4sv"
      }
    },
    {
      "cell_type": "markdown",
      "source": [
        "## __Ejercicio en clase__\n",
        "\n",
        "- Suma de símbolos alienigena: &@# + &$ = @#&\n",
        "- La raíz entera aproximada\n",
        "- La ecuación logística\n"
      ],
      "metadata": {
        "id": "zBLmaucgNZTg"
      }
    },
    {
      "cell_type": "markdown",
      "source": [
        "# __<font color=#0f0>EJERCICIOS</font>__\n",
        "## __Ejercicios condicionales__\n",
        "\n",
        "> __1. Introducir el bloque__\n",
        "- Existe un bloque en forma de paralelepípedo (todas sus seis caras son rectangulares), el cual mide $a$ unidades de ancho, $b$ de largo y $c$ de profundidad. También, hay un orificio circular de radio $r$. Diseñe un algoritmo que determine de cuántas formas distintas se puede introducir de manera perpendicular el bloque en el orificio. Es decir al momento de probar con cada cara del bloque con cuántas si se puede?\n",
        "\n",
        "\n",
        "\n",
        "![image.png](data:image/png;base64,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)"
      ],
      "metadata": {
        "id": "Y2u3-qkghZ3N"
      }
    },
    {
      "cell_type": "markdown",
      "source": [
        "> __2. Clasificar estudiantes__\n",
        "\n",
        "> - En la clase de cálculo se va aplicar el examen final que tiene un porcentaje del 16% del total de la asignatura. Con respecto a las calificaciones:\n",
        "    - Son definidas en el intervalo de cero a cinco con precisión de una décima,\n",
        "    - se dividen en 3 cortes (30%, 30% y 40%), y\n",
        "    - se aprueba con 3.5 o más.\n",
        "- De cada estudiante de cálculo se cuenta con tres calificaciones: nota del primer corte (30%), nota del segundo corte (30%) y la califiación que lleva del tercer corte sin contar el examen final. Antes de presentar el examen final se requiere de un algoritmo que reciba las tres calificaciones y que clasifique al estudiante en aprobado, reprobado o que requiere sumar con el examen para aprobar, para este último caso se debe calcular cuánto necesita como mínimo en el examen el estudiante para aprobar.\n",
        "- Datos de prueba: probar con las siguientes entradas y comprobar si el resultado es correcto:\n",
        "\n",
        "| Entrada | Salida\n",
        "| --- | ---\n",
        "| 5.0,  4.5,  4.5 | Aprobado\n",
        "| 3.1,  1.8,  1.4 | Reprobado\n",
        "| 4.0,  4.0,  4.5 | Requiere 0.2\n",
        "| 4.5,  4.0,  4.0 | Aprobado\n",
        "| 1.0,  0.0,  0.0 | Reprobado\n",
        "| 4.0,  3.5,  3.5 | Requiere 2.6\n",
        "| 4.2,  3.3,  2.5 | Requiere 4.1\n",
        "| 3.8,  4,2,  1.3 | Requiere 5.0\n",
        "| 3.5,  4.2,  1.6 | Reprobado\n",
        "\n",
        "> __3. Validar la fecha__\n",
        "- Para un determinado sistema se considera una fecha válida entre el 1 de Enero del año 1000 y 31 de diciembre del año 9999. Hacer un algoritmo tal que el usuario ingresa tres valores enteros por aparte, en el siguiente orden: Año, Mes y Día (3 valores y No la fecha completa). El algoritmo debe verificar que la fecha que se ingresa es válida o no. Tener en cuenta rango de años, años biciestos y la duración de cada mes. (No se deben usar librerías de fecha y hora para este ejercicio)\n",
        "- Pruebas del algoritmo: la siguiente tabla muestra el resultado correcto cuando el usuario ingresa los valores de año, mes y día:\n",
        "\n",
        "| año | mes | día | Resultado\n",
        "| :---: | :---: | :---: | :---:\n",
        "|  836 |  3 | 21 | Falso\n",
        "| 1836 |  5 | 31 | Verdadero\n",
        "| 1525 |  6 | 31 | Falso\n",
        "| 1525 |  6 | 15 | Verdadero\n",
        "| 2022 |  2 | 29 | Falso\n",
        "| 2020 |  2 | 29 | Verdadero\n",
        "| 2525 | 24 | 11 | Falso\n",
        "| 2525 | 11 | 24 | Verdadero\n",
        "| 8842 | 10 | 32 | Falso\n",
        "| 8842 | 10 | 12 | Verdadero\n",
        "| 1000 |  1 |  1 | Verdadero\n",
        "\n",
        "\n"
      ],
      "metadata": {
        "id": "VdJ5xCXzh05f"
      }
    },
    {
      "cell_type": "markdown",
      "metadata": {
        "id": "CecgPT_UNApC"
      },
      "source": [
        "# __Ejercicios de algoritmos ciclicos__\n",
        "\n",
        "> - En los siguientes ejercicios no utilizar librerías y no utilizar listas o arreglos  "
      ]
    },
    {
      "cell_type": "markdown",
      "metadata": {
        "id": "a4XMVYvEx5X3"
      },
      "source": [
        "## Problema del digito de verificación\n",
        "\n",
        "> - Dígito de verificación, se usa para detectar errores en la lectura de una cadena por algún dispositivo de sensado. El dígito de verificación es un número que es el resultado de sumar los demás dígitos y hacer el módulo 10. Suponga que recibe una cadena que contiene N digitos en donde el último digito (de izquierda a derecha) es el de verificación. Hacer un algoritmo para detectar errores en una lectura.\n",
        "- Ejemplos:\n",
        "    - Entrada: (4251) --> Salida: (Correcto)\n",
        "    - Entrada: (4252) --> Salida: (Detección de falla)\n",
        "    - Entrada: (201860403010091286431354618) --> Salida: (Correcto)\n",
        "    - Entrada: (201860403010091286431354614) --> Salida: (Detección de falla)\n",
        "    - Entrada: (6786976469) --> Salida: (Correcto)\n",
        "    - Entrada: (6786976460) --> Salida: (Detección de falla)\n"
      ]
    },
    {
      "cell_type": "code",
      "metadata": {
        "id": "sinDLgNvo88F"
      },
      "source": [
        "# Celda de código para probar"
      ],
      "execution_count": null,
      "outputs": []
    },
    {
      "cell_type": "markdown",
      "metadata": {
        "id": "vb1PDIf2bAur"
      },
      "source": [
        "## Probelma de reciclar vasos de plástico\n",
        "\n",
        "> - Cierta compañía se dedica a la producción vasos de plástico reciclando vasos usados.\n",
        "Diseñe una función que calcule la cantidad total acumulada de vasos que se pueden prodicir a partir de $n$ vasos y sabiendo que es posible fabricar un vaso nuevo reciclando repetidamente un número $x$ de vasos usados, hasta que ya no haya vasos para reciclar.\n",
        "- __Ejemplo__: Si n = 70, x = 4, la respuesta entregada por la función es 23 siguiendo el siguiente proceso:\n",
        "    - Primer reciclaje: Con 70 se fabrican 70/4 =17 vasos y sobran 2\n",
        "    - Segundo reciclaje: n= 17+2 =19 se fabrican 19/4 = 4 vasos\ty sobran 3\n",
        "    - Tercer reciclaje: n=4+3 =7 se fabrican 7/4 = 1 y sobran 3\n",
        "    - Cuarto reciclaje: n=1+3 =4 se fabrican 4/4 =1 vasos y no quedan suficientes\n",
        "    - vasos para reciclar. Total de vasos fabricados:  17 + 4 + 1 +1= 23\n",
        "- __Otros ejemplos:__\n",
        "    - Entrada: (580, 3) --> Salida: (289)\n",
        "    - Entrada: (580, 5) --> Salida: (144)\n",
        "    - Entrada: (580, 6) --> Salida: (115)\n",
        "    - Entrada: (580, 7) --> Salida: (96)\n",
        "    - Entrada: (110, 5) --> Salida: (27)\n",
        "    - Entrada: (150, 10) --> Salida: (16)\n",
        "    - Entrada: (990, 2) --> Salida: (989)\n",
        "\n",
        "\n",
        "\n",
        "\n"
      ]
    },
    {
      "cell_type": "markdown",
      "metadata": {
        "id": "8q5TBDiPi6uL"
      },
      "source": [
        "## Problema del dígito característico\n",
        "\n",
        "> - Diseñe un algoritmo que lea un número natural N y sume sus dígitos, si el resultado es mayor que 9 nuevamente sume sus dígitos hasta obtener un número de un solo dígito.\n",
        "    - Ejemplos:\n",
        "        - Entrada: (4398) ==>  4398 --> 24 --> 6, Salida:(6)\n",
        "        - Entrada: (7986982) ==> 7986982 --> 49 --> 13 --> 4, Salida: (4)\n"
      ]
    },
    {
      "cell_type": "code",
      "source": [
        "# Celda de código para probar"
      ],
      "metadata": {
        "id": "pcU0UB0OiKyc"
      },
      "execution_count": null,
      "outputs": []
    },
    {
      "cell_type": "markdown",
      "metadata": {
        "id": "MIY477LyxI9W"
      },
      "source": [
        "## Problema de combinación de primos\n",
        "> - Escriba un programa que reciba un número impar mayor a 5 y encuentre tres números primos cuya suma es igual al número impar dado. La llamada “Conjetura débil de Goldbach” propuesta en el año 1742 afirma que todo número impar mayor a 5 se puede expresar como la suma de tres números primos.\n"
      ]
    },
    {
      "cell_type": "code",
      "metadata": {
        "id": "e229o4JQq_Zd"
      },
      "source": [
        "# Celda de código para probar"
      ],
      "execution_count": null,
      "outputs": []
    },
    {
      "cell_type": "markdown",
      "metadata": {
        "id": "yMvUUrFgTXv_"
      },
      "source": [
        "# Imprimir tablas de multiplicar\n",
        "\n",
        "> - A partir de la utilización de ciclos, generar las siguientes impresiones de tablas de multiplicar:\n",
        "\n",
        "> - Visualización 1: tenemos tablas del 1 hasta el 9, cada tabla va hasta el 9. Los valores están alineados\n",
        "```\n",
        "1 x 1 = 1       2 x 1 = 2       3 x 1 = 3\n",
        "1 x 2 = 2       2 x 2 = 4       3 x 2 = 6\n",
        "1 x 3 = 3       2 x 3 = 6       3 x 3 = 9\n",
        "1 x 4 = 4       2 x 4 = 8       3 x 4 = 12\n",
        "1 x 5 = 5       2 x 5 = 10      3 x 5 = 15\n",
        "1 x 6 = 6       2 x 6 = 12      3 x 6 = 18\n",
        "1 x 7 = 7       2 x 7 = 14      3 x 7 = 21\n",
        "1 x 8 = 8       2 x 8 = 16      3 x 8 = 24\n",
        "1 x 9 = 9       2 x 9 = 18      3 x 9 = 27\n",
        "_\n",
        "4 x 1 = 4       5 x 1 = 5       6 x 1 = 6\n",
        "4 x 2 = 8       5 x 2 = 10      6 x 2 = 12\n",
        "4 x 3 = 12      5 x 3 = 15      6 x 3 = 18\n",
        "4 x 4 = 16      5 x 4 = 20      6 x 4 = 24\n",
        "4 x 5 = 20      5 x 5 = 25      6 x 5 = 30\n",
        "4 x 6 = 24      5 x 6 = 30      6 x 6 = 36\n",
        "4 x 7 = 28      5 x 7 = 35      6 x 7 = 42\n",
        "4 x 8 = 32      5 x 8 = 40      6 x 8 = 48\n",
        "4 x 9 = 36      5 x 9 = 45      6 x 9 = 54\n",
        "_\n",
        "7 x 1 = 7       8 x 1 = 8       9 x 1 = 9\n",
        "7 x 2 = 14      8 x 2 = 16      9 x 2 = 18\n",
        "7 x 3 = 21      8 x 3 = 24      9 x 3 = 27\n",
        "7 x 4 = 28      8 x 4 = 32      9 x 4 = 36\n",
        "7 x 5 = 35      8 x 5 = 40      9 x 5 = 45\n",
        "7 x 6 = 42      8 x 6 = 48      9 x 6 = 54\n",
        "7 x 7 = 49      8 x 7 = 56      9 x 7 = 63\n",
        "7 x 8 = 56      8 x 8 = 64      9 x 8 = 72\n",
        "7 x 9 = 63      8 x 9 = 72      9 x 9 = 81\n",
        "```\n",
        "\n",
        "> - Visualización 2: observe que tenmos tablas del 1 al 10, cada tabla va hasta el 10. Los valores están alineados de manera diferente\n",
        "```\n",
        "1 x  1 =  1 \t2 x  1 =  2 \t3 x  1 =  3 \t4 x  1 =  4 \t5 x  1 =  5\n",
        "1 x  2 =  2 \t2 x  2 =  4 \t3 x  2 =  6 \t4 x  2 =  8 \t5 x  2 = 10\n",
        "1 x  3 =  3 \t2 x  3 =  6 \t3 x  3 =  9 \t4 x  3 = 12 \t5 x  3 = 15\n",
        "1 x  4 =  4 \t2 x  4 =  8 \t3 x  4 = 12 \t4 x  4 = 16 \t5 x  4 = 20\n",
        "1 x  5 =  5 \t2 x  5 = 10 \t3 x  5 = 15 \t4 x  5 = 20 \t5 x  5 = 25\n",
        "1 x  6 =  6 \t2 x  6 = 12 \t3 x  6 = 18 \t4 x  6 = 24 \t5 x  6 = 30\n",
        "1 x  7 =  7 \t2 x  7 = 14 \t3 x  7 = 21 \t4 x  7 = 28 \t5 x  7 = 35\n",
        "1 x  8 =  8 \t2 x  8 = 16 \t3 x  8 = 24 \t4 x  8 = 32 \t5 x  8 = 40\n",
        "1 x  9 =  9 \t2 x  9 = 18 \t3 x  9 = 27 \t4 x  9 = 36 \t5 x  9 = 45\n",
        "1 x 10 = 10 \t2 x 10 = 20 \t3 x 10 = 30 \t4 x 10 = 40 \t5 x 10 = 50\n",
        "_\n",
        "6 x  1 =  6 \t7 x  1 =  7 \t8 x  1 =  8 \t9 x  1 =  9 \t10 x  1 = 10\n",
        "6 x  2 = 12 \t7 x  2 = 14 \t8 x  2 = 16 \t9 x  2 = 18 \t10 x  2 = 20\n",
        "6 x  3 = 18 \t7 x  3 = 21 \t8 x  3 = 24 \t9 x  3 = 27 \t10 x  3 = 30\n",
        "6 x  4 = 24 \t7 x  4 = 28 \t8 x  4 = 32 \t9 x  4 = 36 \t10 x  4 = 40\n",
        "6 x  5 = 30 \t7 x  5 = 35 \t8 x  5 = 40 \t9 x  5 = 45 \t10 x  5 = 50\n",
        "6 x  6 = 36 \t7 x  6 = 42 \t8 x  6 = 48 \t9 x  6 = 54 \t10 x  6 = 60\n",
        "6 x  7 = 42 \t7 x  7 = 49 \t8 x  7 = 56 \t9 x  7 = 63 \t10 x  7 = 70\n",
        "6 x  8 = 48 \t7 x  8 = 56 \t8 x  8 = 64 \t9 x  8 = 72 \t10 x  8 = 80\n",
        "6 x  9 = 54 \t7 x  9 = 63 \t8 x  9 = 72 \t9 x  9 = 81 \t10 x  9 = 90\n",
        "6 x 10 = 60 \t7 x 10 = 70 \t8 x 10 = 80 \t9 x 10 = 90 \t10 x 10 = 100\n",
        "```\n",
        "\n",
        "\n",
        "\n"
      ]
    }
  ]
}