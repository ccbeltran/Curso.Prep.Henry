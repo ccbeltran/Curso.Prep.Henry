{
  "nbformat": 4,
  "nbformat_minor": 0,
  "metadata": {
    "colab": {
      "provenance": [],
      "include_colab_link": true
    },
    "kernelspec": {
      "name": "python3",
      "display_name": "Python 3"
    }
  },
  "cells": [
    {
      "cell_type": "markdown",
      "metadata": {
        "id": "view-in-github",
        "colab_type": "text"
      },
      "source": [
        "<a href=\"https://colab.research.google.com/github/ccbeltran/Curso.Prep.Henry/blob/master/ejercicio_tiempo_y_digito_de_verificacion.ipynb\" target=\"_parent\"><img src=\"https://colab.research.google.com/assets/colab-badge.svg\" alt=\"Open In Colab\"/></a>"
      ]
    },
    {
      "cell_type": "markdown",
      "source": [
        "# __<font color=#0f0>EJERCICIOS</font>__\n",
        "## __Ejercicios condicionales__\n",
        "\n",
        "> __1. Introducir el bloque__\n",
        "- Existe un bloque en forma de paralelepípedo (todas sus seis caras son rectangulares), el cual mide $a$ unidades de ancho, $b$ de largo y $c$ de profundidad. También, hay un orificio circular de radio $r$. Diseñe un algoritmo que determine de cuántas formas distintas se puede introducir de manera perpendicular el bloque en el orificio. Es decir al momento de probar con cada cara del bloque con cuántas si se puede?\n",
        "\n",
        "\n",
        "\n",
        "![image.png](data:image/png;base64,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)"
      ],
      "metadata": {
        "id": "Y2u3-qkghZ3N"
      }
    },
    {
      "cell_type": "markdown",
      "source": [
        "> __2. Clasificar estudiantes__\n",
        "\n",
        "> - En la clase de cálculo se va aplicar el examen final que tiene un porcentaje del 16% del total de la asignatura. Con respecto a las calificaciones:\n",
        "    - Son definidas en el intervalo de cero a cinco con precisión de una décima,\n",
        "    - se dividen en 3 cortes (30%, 30% y 40%), y\n",
        "    - se aprueba con 3.5 o más.\n",
        "- De cada estudiante de cálculo se cuenta con tres calificaciones: nota del primer corte (30%), nota del segundo corte (30%) y la califiación que lleva del tercer corte sin contar el examen final. Antes de presentar el examen final se requiere de un algoritmo que reciba las tres calificaciones y que clasifique al estudiante en aprobado, reprobado o que requiere sumar con el examen para aprobar, para este último caso se debe calcular cuánto necesita como mínimo en el examen el estudiante para aprobar.\n",
        "- Datos de prueba: probar con las siguientes entradas y comprobar si el resultado es correcto:\n",
        "\n",
        "| Entrada | Salida\n",
        "| --- | ---\n",
        "| 5.0,  4.5,  4.5 | Aprobado\n",
        "| 3.1,  1.8,  1.4 | Reprobado\n",
        "| 4.0,  4.0,  4.5 | Requiere 0.2\n",
        "| 4.5,  4.0,  4.0 | Aprobado\n",
        "| 1.0,  0.0,  0.0 | Reprobado\n",
        "| 4.0,  3.5,  3.5 | Requiere 2.6\n",
        "| 4.2,  3.3,  2.5 | Requiere 4.1\n",
        "| 3.8,  4,2,  1.3 | Requiere 5.0\n",
        "| 3.5,  4.2,  1.6 | Reprobado\n",
        "\n",
        "> __3. Validar la fecha__\n",
        "- Para un determinado sistema se considera una fecha válida entre el 1 de Enero del año 1000 y 31 de diciembre del año 9999. Hacer un algoritmo tal que el usuario ingresa tres valores enteros por aparte, en el siguiente orden: Año, Mes y Día (3 valores y No la fecha completa). El algoritmo debe verificar que la fecha que se ingresa es válida o no. Tener en cuenta rango de años, años biciestos y la duración de cada mes. (No se deben usar librerías de fecha y hora para este ejercicio)\n",
        "- Pruebas del algoritmo: la siguiente tabla muestra el resultado correcto cuando el usuario ingresa los valores de año, mes y día:\n",
        "\n",
        "| año | mes | día | Resultado\n",
        "| :---: | :---: | :---: | :---:\n",
        "|  836 |  3 | 21 | Falso\n",
        "| 1836 |  5 | 31 | Verdadero\n",
        "| 1525 |  6 | 31 | Falso\n",
        "| 1525 |  6 | 15 | Verdadero\n",
        "| 2022 |  2 | 29 | Falso\n",
        "| 2020 |  2 | 29 | Verdadero\n",
        "| 2525 | 24 | 11 | Falso\n",
        "| 2525 | 11 | 24 | Verdadero\n",
        "| 8842 | 10 | 32 | Falso\n",
        "| 8842 | 10 | 12 | Verdadero\n",
        "| 1000 |  1 |  1 | Verdadero\n",
        "\n",
        "\n"
      ],
      "metadata": {
        "id": "VdJ5xCXzh05f"
      }
    },
    {
      "cell_type": "code",
      "source": [
        "def es_bisiesto(año):\n",
        "#año = 2400\n",
        "    if (año%4 ==0 and año%100 != 0) or año%400 == 0:\n",
        "        return True\n",
        "        #print(\"multiplo de 4, año bisiesto\")\n",
        "    else:\n",
        "        return False\n",
        "        #print(\"no es año bisiesto\")\n",
        "\n",
        "es_bisiesto(2400)\n"
      ],
      "metadata": {
        "colab": {
          "base_uri": "https://localhost:8080/"
        },
        "id": "XTH3B54QvpZy",
        "outputId": "ebb0f4c5-8d07-49cf-e093-986bc308c0b4"
      },
      "execution_count": 39,
      "outputs": [
        {
          "output_type": "execute_result",
          "data": {
            "text/plain": [
              "True"
            ]
          },
          "metadata": {},
          "execution_count": 39
        }
      ]
    },
    {
      "cell_type": "code",
      "source": [
        "año = 2400\n",
        "mes = 2\n",
        "dia = 30\n",
        "# if año >=1000 and año < 10000:\n",
        "#     pass\n",
        "\n",
        "if año < 1000 or año >=10000:\n",
        "    print(\"Año no válido\")\n",
        "if mes < 1 or mes > 12:\n",
        "    print(\"Mes no válido\")\n",
        "if dia < 1 or dia > 31:\n",
        "    print(\"Día no válido\")\n",
        "if dia ==31 or mes in [2,4,6,9,11]:\n",
        "    print(\"Día no válido\")\n",
        "if dia == 30 and mes == 2:\n",
        "    print(\"Día no válido\")\n",
        "if dia == 29 and not es_bisiesto(año):\n",
        "    print(\"Día no válido\")\n",
        "print(\"Fecha valida\")"
      ],
      "metadata": {
        "colab": {
          "base_uri": "https://localhost:8080/"
        },
        "id": "WdxWj1jZx9yU",
        "outputId": "5af47795-499f-46e4-dc41-d394f45c54cf"
      },
      "execution_count": 42,
      "outputs": [
        {
          "output_type": "stream",
          "name": "stdout",
          "text": [
            "Día no válido\n",
            "Día no válido\n",
            "Fecha valida\n"
          ]
        }
      ]
    },
    {
      "cell_type": "code",
      "metadata": {
        "id": "sinDLgNvo88F",
        "colab": {
          "base_uri": "https://localhost:8080/"
        },
        "outputId": "6e310bc6-9173-42ba-b41b-4c2d7be108a0"
      },
      "source": [
        "def contar_digitos(num):\n",
        "#num = 47427\n",
        "    cont = 0\n",
        "    while num > 0:#programar una condición de parada\n",
        "        num = num // 10\n",
        "        cont = cont + 1\n",
        "        #print(cont,num)\n",
        "    return cont\n",
        "\n",
        "contar_digitos(5524854555555)\n",
        "\n"
      ],
      "execution_count": 44,
      "outputs": [
        {
          "output_type": "execute_result",
          "data": {
            "text/plain": [
              "13"
            ]
          },
          "metadata": {},
          "execution_count": 44
        }
      ]
    },
    {
      "cell_type": "code",
      "source": [
        "def suma_digitos(num):\n",
        "    #num = 8102304\n",
        "    acum = 0\n",
        "    while num > 0:\n",
        "        acum += num % 10\n",
        "        num = num // 10\n",
        "        #print(num, acum, num%10)\n",
        "    return acum\n",
        "suma_digitos(8102304)\n"
      ],
      "metadata": {
        "colab": {
          "base_uri": "https://localhost:8080/"
        },
        "id": "0Nt9eBrVmmBQ",
        "outputId": "52c1d193-aefb-4382-d0dc-c1071de8ac6b"
      },
      "execution_count": 20,
      "outputs": [
        {
          "output_type": "execute_result",
          "data": {
            "text/plain": [
              "18"
            ]
          },
          "metadata": {},
          "execution_count": 20
        }
      ]
    },
    {
      "cell_type": "code",
      "source": [
        "valor = 9947956212\n",
        "#valor = 47427\n",
        "q = contar_digitos(valor)\n",
        "if q==8:\n",
        "    suma = suma_digitos(valor//10)\n",
        "    if suma%8 == valor%10:\n",
        "        print (\"Es valido y tipo 1\")\n",
        "    else:\n",
        "        print (\"Tiene 8, pero no es valido\")\n",
        "    #print (\"tiene 8\", valor//10, suma, suma%8)\n",
        "elif q==10:\n",
        "    suma = suma_digitos(valor//10)\n",
        "    if suma%10 == valor%10:\n",
        "        print (\"Es valido y tipo 2\")\n",
        "    else:\n",
        "        print (\"Tiene 10, pero no es valido\")\n",
        "    print (\"tiene 10\", valor//10, suma, suma%10)\n",
        "else:\n",
        "    print(\"No valido\")"
      ],
      "metadata": {
        "colab": {
          "base_uri": "https://localhost:8080/"
        },
        "id": "lXNbCP2GpXRw",
        "outputId": "4ea0c87c-9d16-4f82-fb0d-8b57bc1ea93a"
      },
      "execution_count": 30,
      "outputs": [
        {
          "output_type": "stream",
          "name": "stdout",
          "text": [
            "Es valido y tipo 2\n",
            "tiene 10 994795621 52 2\n"
          ]
        }
      ]
    },
    {
      "cell_type": "markdown",
      "metadata": {
        "id": "vb1PDIf2bAur"
      },
      "source": [
        "## Probelma de reciclar vasos de plástico\n",
        "\n",
        "> - Cierta compañía se dedica a la producción vasos de plástico reciclando vasos usados.\n",
        "Diseñe una función que calcule la cantidad total acumulada de vasos que se pueden prodicir a partir de $n$ vasos y sabiendo que es posible fabricar un vaso nuevo reciclando repetidamente un número $x$ de vasos usados, hasta que ya no haya vasos para reciclar.\n",
        "- __Ejemplo__: Si n = 70, x = 4, la respuesta entregada por la función es 23 siguiendo el siguiente proceso:\n",
        "    - Primer reciclaje: Con 70 se fabrican 70/4 =17 vasos y sobran 2\n",
        "    - Segundo reciclaje: n= 17+2 =19 se fabrican 19/4 = 4 vasos\ty sobran 3\n",
        "    - Tercer reciclaje: n=4+3 =7 se fabrican 7/4 = 1 y sobran 3\n",
        "    - Cuarto reciclaje: n=1+3 =4 se fabrican 4/4 =1 vasos y no quedan suficientes\n",
        "    - vasos para reciclar. Total de vasos fabricados:  17 + 4 + 1 +1= 23\n",
        "- __Otros ejemplos:__\n",
        "    - Entrada: (580, 3) --> Salida: (289)\n",
        "    - Entrada: (580, 5) --> Salida: (144)\n",
        "    - Entrada: (580, 6) --> Salida: (115)\n",
        "    - Entrada: (580, 7) --> Salida: (96)\n",
        "    - Entrada: (110, 5) --> Salida: (27)\n",
        "    - Entrada: (150, 10) --> Salida: (16)\n",
        "    - Entrada: (990, 2) --> Salida: (989)\n",
        "\n",
        "\n",
        "\n",
        "\n"
      ]
    },
    {
      "cell_type": "markdown",
      "metadata": {
        "id": "8q5TBDiPi6uL"
      },
      "source": [
        "## Problema del dígito característico\n",
        "\n",
        "> - Diseñe un algoritmo que lea un número natural N y sume sus dígitos, si el resultado es mayor que 9 nuevamente sume sus dígitos hasta obtener un número de un solo dígito.\n",
        "    - Ejemplos:\n",
        "        - Entrada: (4398) ==>  4398 --> 24 --> 6, Salida:(6)\n",
        "        - Entrada: (7986982) ==> 7986982 --> 49 --> 13 --> 4, Salida: (4)\n"
      ]
    },
    {
      "cell_type": "code",
      "source": [
        "# Celda de código para probar"
      ],
      "metadata": {
        "id": "pcU0UB0OiKyc"
      },
      "execution_count": null,
      "outputs": []
    },
    {
      "cell_type": "markdown",
      "metadata": {
        "id": "MIY477LyxI9W"
      },
      "source": [
        "## Problema de combinación de primos\n",
        "> - Escriba un programa que reciba un número impar mayor a 5 y encuentre tres números primos cuya suma es igual al número impar dado. La llamada “Conjetura débil de Goldbach” propuesta en el año 1742 afirma que todo número impar mayor a 5 se puede expresar como la suma de tres números primos.\n"
      ]
    },
    {
      "cell_type": "code",
      "metadata": {
        "id": "e229o4JQq_Zd"
      },
      "source": [
        "# Celda de código para probar"
      ],
      "execution_count": null,
      "outputs": []
    },
    {
      "cell_type": "markdown",
      "metadata": {
        "id": "l1YIkXSorDyG"
      },
      "source": [
        "## Problema del número Kaprekar\n",
        "\n",
        "> - Se requiere implementar la función Kaprekar (un número), que recibe como parámetro un número entero no negativo y determina si el número es Krapekar o no. Un número Krapekar es todo entero no negativo n que cuando se eleva al cuadrado, el número resultante puede ser dividido en 2 partes a y b donde a + b = n.\n",
        "- Por ejemplo, 9 y 297 son números Krapekar:\n",
        "    - 9^2 = 81\n",
        "        - 8 + 1 = 9 (SI es!) <br><br>\n",
        "    - 297^2 = 88209\n",
        "        - 8820 + 9 = 8829\n",
        "        - 882 + 09 = 891\n",
        "        - 88 + 209 = 297 (SI es!) <br><br>\n",
        "    - 143^2 = 20449\n",
        "        - 2 + 0449 = 551\n",
        "        - 20 + 449 = 469\n",
        "        - 204 + 49 = 253\n",
        "        - 2044 + 9 = 2053  (NO es!)\n"
      ]
    },
    {
      "cell_type": "code",
      "metadata": {
        "id": "LhEcfZ8OlXwP"
      },
      "source": [
        "# Celda de código para probar"
      ],
      "execution_count": null,
      "outputs": []
    },
    {
      "cell_type": "markdown",
      "metadata": {
        "id": "yMvUUrFgTXv_"
      },
      "source": [
        "# Imprimir tablas de multiplicar\n",
        "\n",
        "> - A partir de la utilización de ciclos, generar las siguientes impresiones de tablas de multiplicar:\n",
        "\n",
        "> - Visualización 1: tenemos tablas del 1 hasta el 9, cada tabla va hasta el 9. Los valores están alineados\n",
        "```\n",
        "1 x 1 = 1       2 x 1 = 2       3 x 1 = 3\n",
        "1 x 2 = 2       2 x 2 = 4       3 x 2 = 6\n",
        "1 x 3 = 3       2 x 3 = 6       3 x 3 = 9\n",
        "1 x 4 = 4       2 x 4 = 8       3 x 4 = 12\n",
        "1 x 5 = 5       2 x 5 = 10      3 x 5 = 15\n",
        "1 x 6 = 6       2 x 6 = 12      3 x 6 = 18\n",
        "1 x 7 = 7       2 x 7 = 14      3 x 7 = 21\n",
        "1 x 8 = 8       2 x 8 = 16      3 x 8 = 24\n",
        "1 x 9 = 9       2 x 9 = 18      3 x 9 = 27\n",
        "_\n",
        "4 x 1 = 4       5 x 1 = 5       6 x 1 = 6\n",
        "4 x 2 = 8       5 x 2 = 10      6 x 2 = 12\n",
        "4 x 3 = 12      5 x 3 = 15      6 x 3 = 18\n",
        "4 x 4 = 16      5 x 4 = 20      6 x 4 = 24\n",
        "4 x 5 = 20      5 x 5 = 25      6 x 5 = 30\n",
        "4 x 6 = 24      5 x 6 = 30      6 x 6 = 36\n",
        "4 x 7 = 28      5 x 7 = 35      6 x 7 = 42\n",
        "4 x 8 = 32      5 x 8 = 40      6 x 8 = 48\n",
        "4 x 9 = 36      5 x 9 = 45      6 x 9 = 54\n",
        "_\n",
        "7 x 1 = 7       8 x 1 = 8       9 x 1 = 9\n",
        "7 x 2 = 14      8 x 2 = 16      9 x 2 = 18\n",
        "7 x 3 = 21      8 x 3 = 24      9 x 3 = 27\n",
        "7 x 4 = 28      8 x 4 = 32      9 x 4 = 36\n",
        "7 x 5 = 35      8 x 5 = 40      9 x 5 = 45\n",
        "7 x 6 = 42      8 x 6 = 48      9 x 6 = 54\n",
        "7 x 7 = 49      8 x 7 = 56      9 x 7 = 63\n",
        "7 x 8 = 56      8 x 8 = 64      9 x 8 = 72\n",
        "7 x 9 = 63      8 x 9 = 72      9 x 9 = 81\n",
        "```\n",
        "\n",
        "> - Visualización 2: observe que tenmos tablas del 1 al 10, cada tabla va hasta el 10. Los valores están alineados de manera diferente\n",
        "```\n",
        "1 x  1 =  1 \t2 x  1 =  2 \t3 x  1 =  3 \t4 x  1 =  4 \t5 x  1 =  5\n",
        "1 x  2 =  2 \t2 x  2 =  4 \t3 x  2 =  6 \t4 x  2 =  8 \t5 x  2 = 10\n",
        "1 x  3 =  3 \t2 x  3 =  6 \t3 x  3 =  9 \t4 x  3 = 12 \t5 x  3 = 15\n",
        "1 x  4 =  4 \t2 x  4 =  8 \t3 x  4 = 12 \t4 x  4 = 16 \t5 x  4 = 20\n",
        "1 x  5 =  5 \t2 x  5 = 10 \t3 x  5 = 15 \t4 x  5 = 20 \t5 x  5 = 25\n",
        "1 x  6 =  6 \t2 x  6 = 12 \t3 x  6 = 18 \t4 x  6 = 24 \t5 x  6 = 30\n",
        "1 x  7 =  7 \t2 x  7 = 14 \t3 x  7 = 21 \t4 x  7 = 28 \t5 x  7 = 35\n",
        "1 x  8 =  8 \t2 x  8 = 16 \t3 x  8 = 24 \t4 x  8 = 32 \t5 x  8 = 40\n",
        "1 x  9 =  9 \t2 x  9 = 18 \t3 x  9 = 27 \t4 x  9 = 36 \t5 x  9 = 45\n",
        "1 x 10 = 10 \t2 x 10 = 20 \t3 x 10 = 30 \t4 x 10 = 40 \t5 x 10 = 50\n",
        "_\n",
        "6 x  1 =  6 \t7 x  1 =  7 \t8 x  1 =  8 \t9 x  1 =  9 \t10 x  1 = 10\n",
        "6 x  2 = 12 \t7 x  2 = 14 \t8 x  2 = 16 \t9 x  2 = 18 \t10 x  2 = 20\n",
        "6 x  3 = 18 \t7 x  3 = 21 \t8 x  3 = 24 \t9 x  3 = 27 \t10 x  3 = 30\n",
        "6 x  4 = 24 \t7 x  4 = 28 \t8 x  4 = 32 \t9 x  4 = 36 \t10 x  4 = 40\n",
        "6 x  5 = 30 \t7 x  5 = 35 \t8 x  5 = 40 \t9 x  5 = 45 \t10 x  5 = 50\n",
        "6 x  6 = 36 \t7 x  6 = 42 \t8 x  6 = 48 \t9 x  6 = 54 \t10 x  6 = 60\n",
        "6 x  7 = 42 \t7 x  7 = 49 \t8 x  7 = 56 \t9 x  7 = 63 \t10 x  7 = 70\n",
        "6 x  8 = 48 \t7 x  8 = 56 \t8 x  8 = 64 \t9 x  8 = 72 \t10 x  8 = 80\n",
        "6 x  9 = 54 \t7 x  9 = 63 \t8 x  9 = 72 \t9 x  9 = 81 \t10 x  9 = 90\n",
        "6 x 10 = 60 \t7 x 10 = 70 \t8 x 10 = 80 \t9 x 10 = 90 \t10 x 10 = 100\n",
        "```\n",
        "\n",
        "\n",
        "\n"
      ]
    }
  ]
}