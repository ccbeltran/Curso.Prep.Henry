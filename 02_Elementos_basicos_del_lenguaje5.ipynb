{
  "nbformat": 4,
  "nbformat_minor": 0,
  "metadata": {
    "colab": {
      "provenance": [],
      "include_colab_link": true
    },
    "kernelspec": {
      "name": "python3",
      "display_name": "Python 3"
    }
  },
  "cells": [
    {
      "cell_type": "markdown",
      "metadata": {
        "id": "view-in-github",
        "colab_type": "text"
      },
      "source": [
        "<a href=\"https://colab.research.google.com/github/ccbeltran/Curso.Prep.Henry/blob/master/02_Elementos_basicos_del_lenguaje5.ipynb\" target=\"_parent\"><img src=\"https://colab.research.google.com/assets/colab-badge.svg\" alt=\"Open In Colab\"/></a>"
      ]
    },
    {
      "cell_type": "markdown",
      "metadata": {
        "id": "6EBd6oA5g4-g"
      },
      "source": [
        "<table><tr><td><img src=\"https://www.ucentral.edu.co/sites/default/files/inline-images/logosimbolo-ucentral-vigilada_1.png\" alt=\"Imagen 2\" width=\"600\"> </td>\n",
        "<td><img src=\"https://www.ucentral.edu.co/sites/default/files/inline-images/sello-acreditacion-2023-2029.png\" alt=\"Imagen 2\" width=\"600\"></td></tr></table>\n",
        "\n"
      ]
    },
    {
      "cell_type": "markdown",
      "metadata": {
        "id": "cIvb64jEg65F"
      },
      "source": [
        "# __CURSO DE PROGRAMACIÓN PARA ANALÍTICA DE DATOS__ <br><br>\n",
        "\n",
        "> ## __TALLER N° 2:  ELEMENTOS BÁSICOS DEL LENGUAJE__ <br><br>\n",
        ">\n",
        "> ## Profesor: Jorge Victorino [jvictorinog@ucentral.edu.co](jvictorinog@ucentral.edu.co)<br>\n",
        "> ### Facultad de Ingeniería y Ciencias Básicas <br>\n",
        "> ### Universidad Central <br>\n",
        "> <br>\n",
        "\n",
        "***"
      ]
    },
    {
      "cell_type": "markdown",
      "metadata": {
        "id": "JtkkPzMDVvwh"
      },
      "source": [
        "\n",
        "## __Contenido general__\n",
        "1. Operadores aritméticos\n",
        "2. Varibles y expresiones airtméticas\n",
        "2. Comentarios\n",
        "2. Entrada y salida básica\n",
        "2. Tipos de datos\n",
        "2. Ejercicios de lógica\n",
        "---\n",
        "\n"
      ]
    },
    {
      "cell_type": "markdown",
      "metadata": {
        "id": "Amg-P_DAfsDN"
      },
      "source": [
        "## __Contenido detallado__\n",
        "\n",
        "1. Operadores aritméticos\n",
        "    - Básicos\n",
        "    - potenciación\n",
        "    - división entera\n",
        "    - módulo\n",
        "2. Variables y expresiones aritméticas\n",
        "     - Concepto de variable\n",
        "     - Asignación (simple y múltiple)\n",
        "     - Reglas de nombramiento de variables\n",
        "     - Expresiones aritméticas simples\n",
        "     - Precedencia de operadores y uso de paréntesis\n",
        "     - Identificadores `%who, %whos`\n",
        "     - Función `del`\n",
        "2. Comentarios\n",
        "    - Comentarios de línea\n",
        "    - Comentarios multilínea\n",
        "2. Entrada y salida básica\n",
        "    - Salida por consola `print`\n",
        "    - Entrada por consola `input`\n",
        "2. Tipos de datos\n",
        "    - Numérico - enteros decimales\n",
        "    - Numérico - valores reales\n",
        "    - Cadenas de texto\n",
        "    - Valores lógicos\n",
        "    - Objetos\n",
        "    - Funciones `type, int, float, str`\n",
        "    - Cadenas de texto con marcadores\n",
        "2. Ejercicios de lógica\n",
        "---"
      ]
    },
    {
      "cell_type": "markdown",
      "source": [
        "Recursoso adicionales:\n",
        "\n",
        "1. pautas de curos [intro ciencias de la computación](https://drive.google.com/drive/folders/1bw4yeLb0mfbNuWbBNq8AJijnzRPZVEFL) google site: [fagomezj](https://sites.google.com/site/fagomezj/introducci%C3%B3n-a-las-ciencias-de-la-computaci%C3%B3n-y-la-programaci%C3%B3n)\n",
        "2.\n"
      ],
      "metadata": {
        "id": "haAlizXpeCfb"
      }
    },
    {
      "cell_type": "markdown",
      "metadata": {
        "id": "lvx1tIe66Uee"
      },
      "source": [
        "# __Introducción__\n",
        "\n",
        ">Este tutorial está escrito en un **Cuaderno** o Notebook de *Python*. El cuaderno es proporcionado por el software Anaconda usando un módulo llamado *Jupyter* o por *Google Drive* mediante una aplicación llamada **Colaboratory**. El  **Cuaderno** tiene tres componentes CODE, TEXT y OUTPUT.\n",
        "* TEXT0: espacio para escribir texto con formato, es posible agregar fórmulas, imágenes, tablas, entre otros muchos elementos. Ideal para documentar los trabajos y reportar resultados.\n",
        "* CÓDIGO: espacio para escribir un programa usando el lenguaje de python\n",
        "* RESULTADO: este espacio se genera debajo de un componente de código, cuando este último se ejecuta. Muestra los resultados del programa o los errores en dado caso. Los resultados de la ejecución pueden ser numéricos, texto, gráficas, imágenes, etc.\n",
        "\n",
        "## Antes de comenzar\n",
        ">- Configure el entorno de programación\n",
        "    - El tema\n",
        "    - Cantidad de espacios de tabulación\n",
        "- Familiaricese con el entorno de programación\n",
        "    - Elementos del entorno (esquema, archivos, panel, menú)\n",
        "    - Abreviaciones de teclado\n",
        "\n",
        ">Para información de referencia en elementos básicos del lenguaje visite: [Covantec cap3](https://entrenamiento-python-basico.readthedocs.io/es/latest/leccion3/) o más información de otros elementos: [Aquí](https://entrenamiento-python-basico.readthedocs.io/es/latest/)\n",
        "\n",
        "\n",
        "\n"
      ]
    },
    {
      "cell_type": "markdown",
      "source": [
        "## El clásico primer programa, *en python*\n",
        "![holamundo.jpg](data:image/jpeg;base64,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)\n"
      ],
      "metadata": {
        "id": "K4omGvPQ5IFi"
      }
    },
    {
      "cell_type": "code",
      "source": [
        "print(\"Hola mundo\")"
      ],
      "metadata": {
        "id": "DSGMutmO5eoY"
      },
      "execution_count": null,
      "outputs": []
    },
    {
      "cell_type": "markdown",
      "metadata": {
        "id": "we41uF91_Gkv"
      },
      "source": [
        "# __1. Operadores aritméticos__\n",
        "> __Uso de python como calculadora__\n",
        "\n",
        ">Para escribir las instrucciones en Python, genere un espacio de código y escriba la operación. Tenga en cuenta que los operadores requieren un orden y en general deben tener dos valores a cada lado. Por ejemplo:\n",
        "\n",
        ">Operación | Siginificado | Resultado\n",
        ">--- | --- | ---\n",
        ">5032 + 7624 + 365  | sumar valores | 13021\n",
        ">18213 - 9567.5  | restar valores | 8645.5\n",
        ">13.3 * 8.52  | multiplicación |  113.316\n",
        ">35698.7 / 798.23 | división |  44.72232314\n",
        ">23 / 8 | División | 2.875\n",
        ">23 // 8 | División entera | 2\n",
        ">23 % 8 | Módulo de la división | 7\n",
        ">13\\*\\*2 | Potenciación | 169\n",
        "\n",
        "\n",
        "> ## __Ejercicio__\n",
        "En un bloque de código pruebe una a una las operaciones de la tabla y verifique el resultado\n",
        "\n",
        "\n"
      ]
    },
    {
      "cell_type": "code",
      "metadata": {
        "id": "xeje7k8tAbk7",
        "colab": {
          "base_uri": "https://localhost:8080/"
        },
        "outputId": "5c20b8c2-9e52-4802-988e-d8dc643da5bd"
      },
      "source": [
        "# Escriba las operaciones de la tabla aquí\n",
        "print(5032 + 7624 + 365)\n",
        "print(18213 - 9567.5)\n",
        "round(35698.7 / 798.23, 3)"
      ],
      "execution_count": null,
      "outputs": [
        {
          "output_type": "stream",
          "name": "stdout",
          "text": [
            "13021\n",
            "8645.5\n"
          ]
        },
        {
          "output_type": "execute_result",
          "data": {
            "text/plain": [
              "44.722"
            ]
          },
          "metadata": {},
          "execution_count": 8
        }
      ]
    },
    {
      "cell_type": "code",
      "source": [
        "63 % 2"
      ],
      "metadata": {
        "colab": {
          "base_uri": "https://localhost:8080/"
        },
        "id": "Neua-xbmczx7",
        "outputId": "9a5d7791-d4ac-40b4-a9d0-d95d7b0bb94d"
      },
      "execution_count": null,
      "outputs": [
        {
          "output_type": "execute_result",
          "data": {
            "text/plain": [
              "31"
            ]
          },
          "metadata": {},
          "execution_count": 10
        }
      ]
    },
    {
      "cell_type": "markdown",
      "metadata": {
        "id": "iSGRl4zIAp-U"
      },
      "source": [
        "## Operadores módulo `%` y división entera `//`\n",
        ">Estos son dos operadores diferentes a los tradicionales, lo cuales, son ampliamente utilizados en programación:\n",
        "![hola](https://www.esploradores.com/wp-content/uploads/2019/07/division_5.jpg)\n",
        "\n",
        "\n",
        "> A la izquieda se observa la división normal `(/)` y a la derecha la división entera \"cociente\" `(//)`, y aquí, también se puede apreciar el módulo de la división \"resto\" `(%)`. Esto quiere decir que:\n",
        "- 63 división entera 2 es igual a 31\n",
        "- 63 módulo 2 es igual a 1\n",
        "\n",
        "## __Ejercicio__\n",
        "\n",
        "Pruebe las siguientes operaciones:\n",
        "- Hallar el módulo y la división entera de 7 con los valores: `{2, 3, 5, 7, 10, 11, 14}`\n",
        "- Observe los resultados del módulo y concluya algunas propiedades de esta operación\n",
        "- Hallar el módulo y la división entera de -4.5 con los valores: `{2, 1.5, 5, 10}`\n",
        "- que más se puede concluir de estas operaciones?\n",
        "\n",
        "![cerebro.jpeg](data:image/jpeg;base64,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)"
      ]
    },
    {
      "cell_type": "code",
      "source": [
        "num = int(input('escriba un número:'))\n",
        "print('modulo   ', num%100)\n",
        "print('diventera', num//100)"
      ],
      "metadata": {
        "colab": {
          "base_uri": "https://localhost:8080/"
        },
        "id": "DN9BQfMCe1wo",
        "outputId": "f4844ee2-49e4-4837-cdb6-d14af8d0dc77"
      },
      "execution_count": null,
      "outputs": [
        {
          "output_type": "stream",
          "name": "stdout",
          "text": [
            "escriba un número:8946527\n",
            "modulo    27\n",
            "diventera 89465\n"
          ]
        }
      ]
    },
    {
      "cell_type": "code",
      "metadata": {
        "id": "NCEO3PoQ2bO3",
        "colab": {
          "base_uri": "https://localhost:8080/"
        },
        "outputId": "e6697764-e20a-45c7-c4fe-1637bee99d54"
      },
      "source": [
        "# pruebe aquí las operaciones\n",
        "for x in range(21):\n",
        "    print(x, '-->', x%8)"
      ],
      "execution_count": null,
      "outputs": [
        {
          "output_type": "stream",
          "name": "stdout",
          "text": [
            "0 --> 0\n",
            "1 --> 1\n",
            "2 --> 2\n",
            "3 --> 3\n",
            "4 --> 4\n",
            "5 --> 5\n",
            "6 --> 6\n",
            "7 --> 7\n",
            "8 --> 0\n",
            "9 --> 1\n",
            "10 --> 2\n",
            "11 --> 3\n",
            "12 --> 4\n",
            "13 --> 5\n",
            "14 --> 6\n",
            "15 --> 7\n",
            "16 --> 0\n",
            "17 --> 1\n",
            "18 --> 2\n",
            "19 --> 3\n",
            "20 --> 4\n"
          ]
        }
      ]
    },
    {
      "cell_type": "code",
      "metadata": {
        "id": "i-4Na_RJEefZ",
        "colab": {
          "base_uri": "https://localhost:8080/",
          "height": 542
        },
        "outputId": "744fbf3d-0758-4766-cf0e-859f1dd4bda2",
        "cellView": "form"
      },
      "source": [
        "# @title Gráfica ejemplo: División entera y módulo de 5\n",
        "import plotly.graph_objects as go\n",
        "X = [i/10 for i in range(-200, 150)]\n",
        "Y = [i%5 for i in X]\n",
        "Z = [i//5 for i in X]\n",
        "fig = go.Figure()\n",
        "fig.add_trace(go.Scatter(x=X, y=Y, mode='lines+markers', name='modulo'))\n",
        "fig.add_trace(go.Scatter(x=X, y=Z, mode='lines+markers', name='division'))\n",
        "fig.update_layout(title=\"Comparación Módulo y División entera\", template=\"plotly_white\")\n",
        "fig.show()"
      ],
      "execution_count": null,
      "outputs": [
        {
          "output_type": "display_data",
          "data": {
            "text/html": [
              "<html>\n",
              "<head><meta charset=\"utf-8\" /></head>\n",
              "<body>\n",
              "    <div>\n",
              "            <script src=\"https://cdnjs.cloudflare.com/ajax/libs/mathjax/2.7.5/MathJax.js?config=TeX-AMS-MML_SVG\"></script><script type=\"text/javascript\">if (window.MathJax) {MathJax.Hub.Config({SVG: {font: \"STIX-Web\"}});}</script>\n",
              "                <script type=\"text/javascript\">window.PlotlyConfig = {MathJaxConfig: 'local'};</script>\n",
              "        <script src=\"https://cdn.plot.ly/plotly-latest.min.js\"></script>    \n",
              "            <div id=\"fb17bf48-0db9-4059-92ee-f62493d699a5\" class=\"plotly-graph-div\" style=\"height:525px; width:100%;\"></div>\n",
              "            <script type=\"text/javascript\">\n",
              "                \n",
              "                    window.PLOTLYENV=window.PLOTLYENV || {};\n",
              "                    \n",
              "                if (document.getElementById(\"fb17bf48-0db9-4059-92ee-f62493d699a5\")) {\n",
              "                    Plotly.newPlot(\n",
              "                        'fb17bf48-0db9-4059-92ee-f62493d699a5',\n",
              "                        [{\"mode\": \"lines+markers\", \"name\": \"modulo\", \"type\": \"scatter\", \"x\": [-20.0, -19.9, -19.8, -19.7, -19.6, -19.5, -19.4, -19.3, -19.2, -19.1, -19.0, -18.9, -18.8, -18.7, -18.6, -18.5, -18.4, -18.3, -18.2, -18.1, -18.0, -17.9, -17.8, -17.7, -17.6, -17.5, -17.4, -17.3, -17.2, -17.1, -17.0, -16.9, -16.8, -16.7, -16.6, -16.5, -16.4, -16.3, -16.2, -16.1, -16.0, -15.9, -15.8, -15.7, -15.6, -15.5, -15.4, -15.3, -15.2, -15.1, -15.0, -14.9, -14.8, -14.7, -14.6, -14.5, -14.4, -14.3, -14.2, -14.1, -14.0, -13.9, -13.8, -13.7, -13.6, -13.5, -13.4, -13.3, -13.2, -13.1, -13.0, -12.9, -12.8, -12.7, -12.6, -12.5, -12.4, -12.3, -12.2, -12.1, -12.0, -11.9, -11.8, -11.7, -11.6, -11.5, -11.4, -11.3, -11.2, -11.1, -11.0, -10.9, -10.8, -10.7, -10.6, -10.5, -10.4, -10.3, -10.2, -10.1, -10.0, -9.9, -9.8, -9.7, -9.6, -9.5, -9.4, -9.3, -9.2, -9.1, -9.0, -8.9, -8.8, -8.7, -8.6, -8.5, -8.4, -8.3, -8.2, -8.1, -8.0, -7.9, -7.8, -7.7, -7.6, -7.5, -7.4, -7.3, -7.2, -7.1, -7.0, -6.9, -6.8, -6.7, -6.6, -6.5, -6.4, -6.3, -6.2, -6.1, -6.0, -5.9, -5.8, -5.7, -5.6, -5.5, -5.4, -5.3, -5.2, -5.1, -5.0, -4.9, -4.8, -4.7, -4.6, -4.5, -4.4, -4.3, -4.2, -4.1, -4.0, -3.9, -3.8, -3.7, -3.6, -3.5, -3.4, -3.3, -3.2, -3.1, -3.0, -2.9, -2.8, -2.7, -2.6, -2.5, -2.4, -2.3, -2.2, -2.1, -2.0, -1.9, -1.8, -1.7, -1.6, -1.5, -1.4, -1.3, -1.2, -1.1, -1.0, -0.9, -0.8, -0.7, -0.6, -0.5, -0.4, -0.3, -0.2, -0.1, 0.0, 0.1, 0.2, 0.3, 0.4, 0.5, 0.6, 0.7, 0.8, 0.9, 1.0, 1.1, 1.2, 1.3, 1.4, 1.5, 1.6, 1.7, 1.8, 1.9, 2.0, 2.1, 2.2, 2.3, 2.4, 2.5, 2.6, 2.7, 2.8, 2.9, 3.0, 3.1, 3.2, 3.3, 3.4, 3.5, 3.6, 3.7, 3.8, 3.9, 4.0, 4.1, 4.2, 4.3, 4.4, 4.5, 4.6, 4.7, 4.8, 4.9, 5.0, 5.1, 5.2, 5.3, 5.4, 5.5, 5.6, 5.7, 5.8, 5.9, 6.0, 6.1, 6.2, 6.3, 6.4, 6.5, 6.6, 6.7, 6.8, 6.9, 7.0, 7.1, 7.2, 7.3, 7.4, 7.5, 7.6, 7.7, 7.8, 7.9, 8.0, 8.1, 8.2, 8.3, 8.4, 8.5, 8.6, 8.7, 8.8, 8.9, 9.0, 9.1, 9.2, 9.3, 9.4, 9.5, 9.6, 9.7, 9.8, 9.9, 10.0, 10.1, 10.2, 10.3, 10.4, 10.5, 10.6, 10.7, 10.8, 10.9, 11.0, 11.1, 11.2, 11.3, 11.4, 11.5, 11.6, 11.7, 11.8, 11.9, 12.0, 12.1, 12.2, 12.3, 12.4, 12.5, 12.6, 12.7, 12.8, 12.9, 13.0, 13.1, 13.2, 13.3, 13.4, 13.5, 13.6, 13.7, 13.8, 13.9, 14.0, 14.1, 14.2, 14.3, 14.4, 14.5, 14.6, 14.7, 14.8, 14.9], \"y\": [0.0, 0.10000000000000142, 0.1999999999999993, 0.3000000000000007, 0.3999999999999986, 0.5, 0.6000000000000014, 0.6999999999999993, 0.8000000000000007, 0.8999999999999986, 1.0, 1.1000000000000014, 1.1999999999999993, 1.3000000000000007, 1.3999999999999986, 1.5, 1.6000000000000014, 1.6999999999999993, 1.8000000000000007, 1.8999999999999986, 2.0, 2.1000000000000014, 2.1999999999999993, 2.3000000000000007, 2.3999999999999986, 2.5, 2.6000000000000014, 2.6999999999999993, 2.8000000000000007, 2.8999999999999986, 3.0, 3.1000000000000014, 3.1999999999999993, 3.3000000000000007, 3.3999999999999986, 3.5, 3.6000000000000014, 3.6999999999999993, 3.8000000000000007, 3.8999999999999986, 4.0, 4.1, 4.199999999999999, 4.300000000000001, 4.4, 4.5, 4.6, 4.699999999999999, 4.800000000000001, 4.9, 0.0, 0.09999999999999964, 0.1999999999999993, 0.3000000000000007, 0.40000000000000036, 0.5, 0.5999999999999996, 0.6999999999999993, 0.8000000000000007, 0.9000000000000004, 1.0, 1.0999999999999996, 1.1999999999999993, 1.3000000000000007, 1.4000000000000004, 1.5, 1.5999999999999996, 1.6999999999999993, 1.8000000000000007, 1.9000000000000004, 2.0, 2.0999999999999996, 2.1999999999999993, 2.3000000000000007, 2.4000000000000004, 2.5, 2.5999999999999996, 2.6999999999999993, 2.8000000000000007, 2.9000000000000004, 3.0, 3.0999999999999996, 3.1999999999999993, 3.3000000000000007, 3.4000000000000004, 3.5, 3.5999999999999996, 3.6999999999999993, 3.8000000000000007, 3.9000000000000004, 4.0, 4.1, 4.199999999999999, 4.300000000000001, 4.4, 4.5, 4.6, 4.699999999999999, 4.800000000000001, 4.9, 0.0, 0.09999999999999964, 0.1999999999999993, 0.3000000000000007, 0.40000000000000036, 0.5, 0.5999999999999996, 0.6999999999999993, 0.8000000000000007, 0.9000000000000004, 1.0, 1.0999999999999996, 1.1999999999999993, 1.3000000000000007, 1.4000000000000004, 1.5, 1.5999999999999996, 1.6999999999999993, 1.8000000000000007, 1.9000000000000004, 2.0, 2.0999999999999996, 2.2, 2.3, 2.4000000000000004, 2.5, 2.5999999999999996, 2.7, 2.8, 2.9000000000000004, 3.0, 3.0999999999999996, 3.2, 3.3, 3.4000000000000004, 3.5, 3.5999999999999996, 3.7, 3.8, 3.9000000000000004, 4.0, 4.1, 4.2, 4.3, 4.4, 4.5, 4.6, 4.7, 4.8, 4.9, 0.0, 0.09999999999999964, 0.20000000000000018, 0.2999999999999998, 0.40000000000000036, 0.5, 0.5999999999999996, 0.7000000000000002, 0.7999999999999998, 0.9000000000000004, 1.0, 1.1, 1.2000000000000002, 1.2999999999999998, 1.4, 1.5, 1.6, 1.7000000000000002, 1.7999999999999998, 1.9, 2.0, 2.1, 2.2, 2.3, 2.4, 2.5, 2.6, 2.7, 2.8, 2.9, 3.0, 3.1, 3.2, 3.3, 3.4, 3.5, 3.6, 3.7, 3.8, 3.9, 4.0, 4.1, 4.2, 4.3, 4.4, 4.5, 4.6, 4.7, 4.8, 4.9, 0.0, 0.1, 0.2, 0.3, 0.4, 0.5, 0.6, 0.7, 0.8, 0.9, 1.0, 1.1, 1.2, 1.3, 1.4, 1.5, 1.6, 1.7, 1.8, 1.9, 2.0, 2.1, 2.2, 2.3, 2.4, 2.5, 2.6, 2.7, 2.8, 2.9, 3.0, 3.1, 3.2, 3.3, 3.4, 3.5, 3.6, 3.7, 3.8, 3.9, 4.0, 4.1, 4.2, 4.3, 4.4, 4.5, 4.6, 4.7, 4.8, 4.9, 0.0, 0.09999999999999964, 0.20000000000000018, 0.2999999999999998, 0.40000000000000036, 0.5, 0.5999999999999996, 0.7000000000000002, 0.7999999999999998, 0.9000000000000004, 1.0, 1.0999999999999996, 1.2000000000000002, 1.2999999999999998, 1.4000000000000004, 1.5, 1.5999999999999996, 1.7000000000000002, 1.7999999999999998, 1.9000000000000004, 2.0, 2.0999999999999996, 2.2, 2.3, 2.4000000000000004, 2.5, 2.5999999999999996, 2.7, 2.8, 2.9000000000000004, 3.0, 3.0999999999999996, 3.1999999999999993, 3.3000000000000007, 3.4000000000000004, 3.5, 3.5999999999999996, 3.6999999999999993, 3.8000000000000007, 3.9000000000000004, 4.0, 4.1, 4.199999999999999, 4.300000000000001, 4.4, 4.5, 4.6, 4.699999999999999, 4.800000000000001, 4.9, 0.0, 0.09999999999999964, 0.1999999999999993, 0.3000000000000007, 0.40000000000000036, 0.5, 0.5999999999999996, 0.6999999999999993, 0.8000000000000007, 0.9000000000000004, 1.0, 1.0999999999999996, 1.1999999999999993, 1.3000000000000007, 1.4000000000000004, 1.5, 1.5999999999999996, 1.6999999999999993, 1.8000000000000007, 1.9000000000000004, 2.0, 2.0999999999999996, 2.1999999999999993, 2.3000000000000007, 2.4000000000000004, 2.5, 2.5999999999999996, 2.6999999999999993, 2.8000000000000007, 2.9000000000000004, 3.0, 3.0999999999999996, 3.1999999999999993, 3.3000000000000007, 3.4000000000000004, 3.5, 3.5999999999999996, 3.6999999999999993, 3.8000000000000007, 3.9000000000000004, 4.0, 4.1, 4.199999999999999, 4.300000000000001, 4.4, 4.5, 4.6, 4.699999999999999, 4.800000000000001, 4.9]}, {\"mode\": \"lines+markers\", \"name\": \"division\", \"type\": \"scatter\", \"x\": [-20.0, -19.9, -19.8, -19.7, -19.6, -19.5, -19.4, -19.3, -19.2, -19.1, -19.0, -18.9, -18.8, -18.7, -18.6, -18.5, -18.4, -18.3, -18.2, -18.1, -18.0, -17.9, -17.8, -17.7, -17.6, -17.5, -17.4, -17.3, -17.2, -17.1, -17.0, -16.9, -16.8, -16.7, -16.6, -16.5, -16.4, -16.3, -16.2, -16.1, -16.0, -15.9, -15.8, -15.7, -15.6, -15.5, -15.4, -15.3, -15.2, -15.1, -15.0, -14.9, -14.8, -14.7, -14.6, -14.5, -14.4, -14.3, -14.2, -14.1, -14.0, -13.9, -13.8, -13.7, -13.6, -13.5, -13.4, -13.3, -13.2, -13.1, -13.0, -12.9, -12.8, -12.7, -12.6, -12.5, -12.4, -12.3, -12.2, -12.1, -12.0, -11.9, -11.8, -11.7, -11.6, -11.5, -11.4, -11.3, -11.2, -11.1, -11.0, -10.9, -10.8, -10.7, -10.6, -10.5, -10.4, -10.3, -10.2, -10.1, -10.0, -9.9, -9.8, -9.7, -9.6, -9.5, -9.4, -9.3, -9.2, -9.1, -9.0, -8.9, -8.8, -8.7, -8.6, -8.5, -8.4, -8.3, -8.2, -8.1, -8.0, -7.9, -7.8, -7.7, -7.6, -7.5, -7.4, -7.3, -7.2, -7.1, -7.0, -6.9, -6.8, -6.7, -6.6, -6.5, -6.4, -6.3, -6.2, -6.1, -6.0, -5.9, -5.8, -5.7, -5.6, -5.5, -5.4, -5.3, -5.2, -5.1, -5.0, -4.9, -4.8, -4.7, -4.6, -4.5, -4.4, -4.3, -4.2, -4.1, -4.0, -3.9, -3.8, -3.7, -3.6, -3.5, -3.4, -3.3, -3.2, -3.1, -3.0, -2.9, -2.8, -2.7, -2.6, -2.5, -2.4, -2.3, -2.2, -2.1, -2.0, -1.9, -1.8, -1.7, -1.6, -1.5, -1.4, -1.3, -1.2, -1.1, -1.0, -0.9, -0.8, -0.7, -0.6, -0.5, -0.4, -0.3, -0.2, -0.1, 0.0, 0.1, 0.2, 0.3, 0.4, 0.5, 0.6, 0.7, 0.8, 0.9, 1.0, 1.1, 1.2, 1.3, 1.4, 1.5, 1.6, 1.7, 1.8, 1.9, 2.0, 2.1, 2.2, 2.3, 2.4, 2.5, 2.6, 2.7, 2.8, 2.9, 3.0, 3.1, 3.2, 3.3, 3.4, 3.5, 3.6, 3.7, 3.8, 3.9, 4.0, 4.1, 4.2, 4.3, 4.4, 4.5, 4.6, 4.7, 4.8, 4.9, 5.0, 5.1, 5.2, 5.3, 5.4, 5.5, 5.6, 5.7, 5.8, 5.9, 6.0, 6.1, 6.2, 6.3, 6.4, 6.5, 6.6, 6.7, 6.8, 6.9, 7.0, 7.1, 7.2, 7.3, 7.4, 7.5, 7.6, 7.7, 7.8, 7.9, 8.0, 8.1, 8.2, 8.3, 8.4, 8.5, 8.6, 8.7, 8.8, 8.9, 9.0, 9.1, 9.2, 9.3, 9.4, 9.5, 9.6, 9.7, 9.8, 9.9, 10.0, 10.1, 10.2, 10.3, 10.4, 10.5, 10.6, 10.7, 10.8, 10.9, 11.0, 11.1, 11.2, 11.3, 11.4, 11.5, 11.6, 11.7, 11.8, 11.9, 12.0, 12.1, 12.2, 12.3, 12.4, 12.5, 12.6, 12.7, 12.8, 12.9, 13.0, 13.1, 13.2, 13.3, 13.4, 13.5, 13.6, 13.7, 13.8, 13.9, 14.0, 14.1, 14.2, 14.3, 14.4, 14.5, 14.6, 14.7, 14.8, 14.9], \"y\": [-4.0, -4.0, -4.0, -4.0, -4.0, -4.0, -4.0, -4.0, -4.0, -4.0, -4.0, -4.0, -4.0, -4.0, -4.0, -4.0, -4.0, -4.0, -4.0, -4.0, -4.0, -4.0, -4.0, -4.0, -4.0, -4.0, -4.0, -4.0, -4.0, -4.0, -4.0, -4.0, -4.0, -4.0, -4.0, -4.0, -4.0, -4.0, -4.0, -4.0, -4.0, -4.0, -4.0, -4.0, -4.0, -4.0, -4.0, -4.0, -4.0, -4.0, -3.0, -3.0, -3.0, -3.0, -3.0, -3.0, -3.0, -3.0, -3.0, -3.0, -3.0, -3.0, -3.0, -3.0, -3.0, -3.0, -3.0, -3.0, -3.0, -3.0, -3.0, -3.0, -3.0, -3.0, -3.0, -3.0, -3.0, -3.0, -3.0, -3.0, -3.0, -3.0, -3.0, -3.0, -3.0, -3.0, -3.0, -3.0, -3.0, -3.0, -3.0, -3.0, -3.0, -3.0, -3.0, -3.0, -3.0, -3.0, -3.0, -3.0, -2.0, -2.0, -2.0, -2.0, -2.0, -2.0, -2.0, -2.0, -2.0, -2.0, -2.0, -2.0, -2.0, -2.0, -2.0, -2.0, -2.0, -2.0, -2.0, -2.0, -2.0, -2.0, -2.0, -2.0, -2.0, -2.0, -2.0, -2.0, -2.0, -2.0, -2.0, -2.0, -2.0, -2.0, -2.0, -2.0, -2.0, -2.0, -2.0, -2.0, -2.0, -2.0, -2.0, -2.0, -2.0, -2.0, -2.0, -2.0, -2.0, -2.0, -1.0, -1.0, -1.0, -1.0, -1.0, -1.0, -1.0, -1.0, -1.0, -1.0, -1.0, -1.0, -1.0, -1.0, -1.0, -1.0, -1.0, -1.0, -1.0, -1.0, -1.0, -1.0, -1.0, -1.0, -1.0, -1.0, -1.0, -1.0, -1.0, -1.0, -1.0, -1.0, -1.0, -1.0, -1.0, -1.0, -1.0, -1.0, -1.0, -1.0, -1.0, -1.0, -1.0, -1.0, -1.0, -1.0, -1.0, -1.0, -1.0, -1.0, 0.0, 0.0, 0.0, 0.0, 0.0, 0.0, 0.0, 0.0, 0.0, 0.0, 0.0, 0.0, 0.0, 0.0, 0.0, 0.0, 0.0, 0.0, 0.0, 0.0, 0.0, 0.0, 0.0, 0.0, 0.0, 0.0, 0.0, 0.0, 0.0, 0.0, 0.0, 0.0, 0.0, 0.0, 0.0, 0.0, 0.0, 0.0, 0.0, 0.0, 0.0, 0.0, 0.0, 0.0, 0.0, 0.0, 0.0, 0.0, 0.0, 0.0, 1.0, 1.0, 1.0, 1.0, 1.0, 1.0, 1.0, 1.0, 1.0, 1.0, 1.0, 1.0, 1.0, 1.0, 1.0, 1.0, 1.0, 1.0, 1.0, 1.0, 1.0, 1.0, 1.0, 1.0, 1.0, 1.0, 1.0, 1.0, 1.0, 1.0, 1.0, 1.0, 1.0, 1.0, 1.0, 1.0, 1.0, 1.0, 1.0, 1.0, 1.0, 1.0, 1.0, 1.0, 1.0, 1.0, 1.0, 1.0, 1.0, 1.0, 2.0, 2.0, 2.0, 2.0, 2.0, 2.0, 2.0, 2.0, 2.0, 2.0, 2.0, 2.0, 2.0, 2.0, 2.0, 2.0, 2.0, 2.0, 2.0, 2.0, 2.0, 2.0, 2.0, 2.0, 2.0, 2.0, 2.0, 2.0, 2.0, 2.0, 2.0, 2.0, 2.0, 2.0, 2.0, 2.0, 2.0, 2.0, 2.0, 2.0, 2.0, 2.0, 2.0, 2.0, 2.0, 2.0, 2.0, 2.0, 2.0, 2.0]}],\n",
              "                        {\"template\": {\"data\": {\"bar\": [{\"error_x\": {\"color\": \"#2a3f5f\"}, \"error_y\": {\"color\": \"#2a3f5f\"}, \"marker\": {\"line\": {\"color\": \"white\", \"width\": 0.5}}, \"type\": \"bar\"}], \"barpolar\": [{\"marker\": {\"line\": {\"color\": \"white\", \"width\": 0.5}}, \"type\": \"barpolar\"}], \"carpet\": [{\"aaxis\": {\"endlinecolor\": \"#2a3f5f\", \"gridcolor\": \"#C8D4E3\", \"linecolor\": \"#C8D4E3\", \"minorgridcolor\": \"#C8D4E3\", \"startlinecolor\": \"#2a3f5f\"}, \"baxis\": {\"endlinecolor\": \"#2a3f5f\", \"gridcolor\": \"#C8D4E3\", \"linecolor\": \"#C8D4E3\", \"minorgridcolor\": \"#C8D4E3\", \"startlinecolor\": \"#2a3f5f\"}, \"type\": \"carpet\"}], \"choropleth\": [{\"colorbar\": {\"outlinewidth\": 0, \"ticks\": \"\"}, \"type\": \"choropleth\"}], \"contour\": [{\"colorbar\": {\"outlinewidth\": 0, \"ticks\": \"\"}, \"colorscale\": [[0.0, \"#0d0887\"], [0.1111111111111111, \"#46039f\"], [0.2222222222222222, \"#7201a8\"], [0.3333333333333333, \"#9c179e\"], [0.4444444444444444, \"#bd3786\"], [0.5555555555555556, \"#d8576b\"], [0.6666666666666666, \"#ed7953\"], [0.7777777777777778, \"#fb9f3a\"], [0.8888888888888888, \"#fdca26\"], [1.0, \"#f0f921\"]], \"type\": \"contour\"}], \"contourcarpet\": [{\"colorbar\": {\"outlinewidth\": 0, \"ticks\": \"\"}, \"type\": \"contourcarpet\"}], \"heatmap\": [{\"colorbar\": {\"outlinewidth\": 0, \"ticks\": \"\"}, \"colorscale\": [[0.0, \"#0d0887\"], [0.1111111111111111, \"#46039f\"], [0.2222222222222222, \"#7201a8\"], [0.3333333333333333, \"#9c179e\"], [0.4444444444444444, \"#bd3786\"], [0.5555555555555556, \"#d8576b\"], [0.6666666666666666, \"#ed7953\"], [0.7777777777777778, \"#fb9f3a\"], [0.8888888888888888, \"#fdca26\"], [1.0, \"#f0f921\"]], \"type\": \"heatmap\"}], \"heatmapgl\": [{\"colorbar\": {\"outlinewidth\": 0, \"ticks\": \"\"}, \"colorscale\": [[0.0, \"#0d0887\"], [0.1111111111111111, \"#46039f\"], [0.2222222222222222, \"#7201a8\"], [0.3333333333333333, \"#9c179e\"], [0.4444444444444444, \"#bd3786\"], [0.5555555555555556, \"#d8576b\"], [0.6666666666666666, \"#ed7953\"], [0.7777777777777778, \"#fb9f3a\"], [0.8888888888888888, \"#fdca26\"], [1.0, \"#f0f921\"]], \"type\": \"heatmapgl\"}], \"histogram\": [{\"marker\": {\"colorbar\": {\"outlinewidth\": 0, \"ticks\": \"\"}}, \"type\": \"histogram\"}], \"histogram2d\": [{\"colorbar\": {\"outlinewidth\": 0, \"ticks\": \"\"}, \"colorscale\": [[0.0, \"#0d0887\"], [0.1111111111111111, \"#46039f\"], [0.2222222222222222, \"#7201a8\"], [0.3333333333333333, \"#9c179e\"], [0.4444444444444444, \"#bd3786\"], [0.5555555555555556, \"#d8576b\"], [0.6666666666666666, \"#ed7953\"], [0.7777777777777778, \"#fb9f3a\"], [0.8888888888888888, \"#fdca26\"], [1.0, \"#f0f921\"]], \"type\": \"histogram2d\"}], \"histogram2dcontour\": [{\"colorbar\": {\"outlinewidth\": 0, \"ticks\": \"\"}, \"colorscale\": [[0.0, \"#0d0887\"], [0.1111111111111111, \"#46039f\"], [0.2222222222222222, \"#7201a8\"], [0.3333333333333333, \"#9c179e\"], [0.4444444444444444, \"#bd3786\"], [0.5555555555555556, \"#d8576b\"], [0.6666666666666666, \"#ed7953\"], [0.7777777777777778, \"#fb9f3a\"], [0.8888888888888888, \"#fdca26\"], [1.0, \"#f0f921\"]], \"type\": \"histogram2dcontour\"}], \"mesh3d\": [{\"colorbar\": {\"outlinewidth\": 0, \"ticks\": \"\"}, \"type\": \"mesh3d\"}], \"parcoords\": [{\"line\": {\"colorbar\": {\"outlinewidth\": 0, \"ticks\": \"\"}}, \"type\": \"parcoords\"}], \"pie\": [{\"automargin\": true, \"type\": \"pie\"}], \"scatter\": [{\"marker\": {\"colorbar\": {\"outlinewidth\": 0, \"ticks\": \"\"}}, \"type\": \"scatter\"}], \"scatter3d\": [{\"line\": {\"colorbar\": {\"outlinewidth\": 0, \"ticks\": \"\"}}, \"marker\": {\"colorbar\": {\"outlinewidth\": 0, \"ticks\": \"\"}}, \"type\": \"scatter3d\"}], \"scattercarpet\": [{\"marker\": {\"colorbar\": {\"outlinewidth\": 0, \"ticks\": \"\"}}, \"type\": \"scattercarpet\"}], \"scattergeo\": [{\"marker\": {\"colorbar\": {\"outlinewidth\": 0, \"ticks\": \"\"}}, \"type\": \"scattergeo\"}], \"scattergl\": [{\"marker\": {\"colorbar\": {\"outlinewidth\": 0, \"ticks\": \"\"}}, \"type\": \"scattergl\"}], \"scattermapbox\": [{\"marker\": {\"colorbar\": {\"outlinewidth\": 0, \"ticks\": \"\"}}, \"type\": \"scattermapbox\"}], \"scatterpolar\": [{\"marker\": {\"colorbar\": {\"outlinewidth\": 0, \"ticks\": \"\"}}, \"type\": \"scatterpolar\"}], \"scatterpolargl\": [{\"marker\": {\"colorbar\": {\"outlinewidth\": 0, \"ticks\": \"\"}}, \"type\": \"scatterpolargl\"}], \"scatterternary\": [{\"marker\": {\"colorbar\": {\"outlinewidth\": 0, \"ticks\": \"\"}}, \"type\": \"scatterternary\"}], \"surface\": [{\"colorbar\": {\"outlinewidth\": 0, \"ticks\": \"\"}, \"colorscale\": [[0.0, \"#0d0887\"], [0.1111111111111111, \"#46039f\"], [0.2222222222222222, \"#7201a8\"], [0.3333333333333333, \"#9c179e\"], [0.4444444444444444, \"#bd3786\"], [0.5555555555555556, \"#d8576b\"], [0.6666666666666666, \"#ed7953\"], [0.7777777777777778, \"#fb9f3a\"], [0.8888888888888888, \"#fdca26\"], [1.0, \"#f0f921\"]], \"type\": \"surface\"}], \"table\": [{\"cells\": {\"fill\": {\"color\": \"#EBF0F8\"}, \"line\": {\"color\": \"white\"}}, \"header\": {\"fill\": {\"color\": \"#C8D4E3\"}, \"line\": {\"color\": \"white\"}}, \"type\": \"table\"}]}, \"layout\": {\"annotationdefaults\": {\"arrowcolor\": \"#2a3f5f\", \"arrowhead\": 0, \"arrowwidth\": 1}, \"coloraxis\": {\"colorbar\": {\"outlinewidth\": 0, \"ticks\": \"\"}}, \"colorscale\": {\"diverging\": [[0, \"#8e0152\"], [0.1, \"#c51b7d\"], [0.2, \"#de77ae\"], [0.3, \"#f1b6da\"], [0.4, \"#fde0ef\"], [0.5, \"#f7f7f7\"], [0.6, \"#e6f5d0\"], [0.7, \"#b8e186\"], [0.8, \"#7fbc41\"], [0.9, \"#4d9221\"], [1, \"#276419\"]], \"sequential\": [[0.0, \"#0d0887\"], [0.1111111111111111, \"#46039f\"], [0.2222222222222222, \"#7201a8\"], [0.3333333333333333, \"#9c179e\"], [0.4444444444444444, \"#bd3786\"], [0.5555555555555556, \"#d8576b\"], [0.6666666666666666, \"#ed7953\"], [0.7777777777777778, \"#fb9f3a\"], [0.8888888888888888, \"#fdca26\"], [1.0, \"#f0f921\"]], \"sequentialminus\": [[0.0, \"#0d0887\"], [0.1111111111111111, \"#46039f\"], [0.2222222222222222, \"#7201a8\"], [0.3333333333333333, \"#9c179e\"], [0.4444444444444444, \"#bd3786\"], [0.5555555555555556, \"#d8576b\"], [0.6666666666666666, \"#ed7953\"], [0.7777777777777778, \"#fb9f3a\"], [0.8888888888888888, \"#fdca26\"], [1.0, \"#f0f921\"]]}, \"colorway\": [\"#636efa\", \"#EF553B\", \"#00cc96\", \"#ab63fa\", \"#FFA15A\", \"#19d3f3\", \"#FF6692\", \"#B6E880\", \"#FF97FF\", \"#FECB52\"], \"font\": {\"color\": \"#2a3f5f\"}, \"geo\": {\"bgcolor\": \"white\", \"lakecolor\": \"white\", \"landcolor\": \"white\", \"showlakes\": true, \"showland\": true, \"subunitcolor\": \"#C8D4E3\"}, \"hoverlabel\": {\"align\": \"left\"}, \"hovermode\": \"closest\", \"mapbox\": {\"style\": \"light\"}, \"paper_bgcolor\": \"white\", \"plot_bgcolor\": \"white\", \"polar\": {\"angularaxis\": {\"gridcolor\": \"#EBF0F8\", \"linecolor\": \"#EBF0F8\", \"ticks\": \"\"}, \"bgcolor\": \"white\", \"radialaxis\": {\"gridcolor\": \"#EBF0F8\", \"linecolor\": \"#EBF0F8\", \"ticks\": \"\"}}, \"scene\": {\"xaxis\": {\"backgroundcolor\": \"white\", \"gridcolor\": \"#DFE8F3\", \"gridwidth\": 2, \"linecolor\": \"#EBF0F8\", \"showbackground\": true, \"ticks\": \"\", \"zerolinecolor\": \"#EBF0F8\"}, \"yaxis\": {\"backgroundcolor\": \"white\", \"gridcolor\": \"#DFE8F3\", \"gridwidth\": 2, \"linecolor\": \"#EBF0F8\", \"showbackground\": true, \"ticks\": \"\", \"zerolinecolor\": \"#EBF0F8\"}, \"zaxis\": {\"backgroundcolor\": \"white\", \"gridcolor\": \"#DFE8F3\", \"gridwidth\": 2, \"linecolor\": \"#EBF0F8\", \"showbackground\": true, \"ticks\": \"\", \"zerolinecolor\": \"#EBF0F8\"}}, \"shapedefaults\": {\"line\": {\"color\": \"#2a3f5f\"}}, \"ternary\": {\"aaxis\": {\"gridcolor\": \"#DFE8F3\", \"linecolor\": \"#A2B1C6\", \"ticks\": \"\"}, \"baxis\": {\"gridcolor\": \"#DFE8F3\", \"linecolor\": \"#A2B1C6\", \"ticks\": \"\"}, \"bgcolor\": \"white\", \"caxis\": {\"gridcolor\": \"#DFE8F3\", \"linecolor\": \"#A2B1C6\", \"ticks\": \"\"}}, \"title\": {\"x\": 0.05}, \"xaxis\": {\"automargin\": true, \"gridcolor\": \"#EBF0F8\", \"linecolor\": \"#EBF0F8\", \"ticks\": \"\", \"title\": {\"standoff\": 15}, \"zerolinecolor\": \"#EBF0F8\", \"zerolinewidth\": 2}, \"yaxis\": {\"automargin\": true, \"gridcolor\": \"#EBF0F8\", \"linecolor\": \"#EBF0F8\", \"ticks\": \"\", \"title\": {\"standoff\": 15}, \"zerolinecolor\": \"#EBF0F8\", \"zerolinewidth\": 2}}}, \"title\": {\"text\": \"Comparaci\\u00f3n M\\u00f3dulo y Divisi\\u00f3n entera\"}},\n",
              "                        {\"responsive\": true}\n",
              "                    ).then(function(){\n",
              "                            \n",
              "var gd = document.getElementById('fb17bf48-0db9-4059-92ee-f62493d699a5');\n",
              "var x = new MutationObserver(function (mutations, observer) {{\n",
              "        var display = window.getComputedStyle(gd).display;\n",
              "        if (!display || display === 'none') {{\n",
              "            console.log([gd, 'removed!']);\n",
              "            Plotly.purge(gd);\n",
              "            observer.disconnect();\n",
              "        }}\n",
              "}});\n",
              "\n",
              "// Listen for the removal of the full notebook cells\n",
              "var notebookContainer = gd.closest('#notebook-container');\n",
              "if (notebookContainer) {{\n",
              "    x.observe(notebookContainer, {childList: true});\n",
              "}}\n",
              "\n",
              "// Listen for the clearing of the current output cell\n",
              "var outputEl = gd.closest('.output');\n",
              "if (outputEl) {{\n",
              "    x.observe(outputEl, {childList: true});\n",
              "}}\n",
              "\n",
              "                        })\n",
              "                };\n",
              "                \n",
              "            </script>\n",
              "        </div>\n",
              "</body>\n",
              "</html>"
            ]
          },
          "metadata": {
            "tags": []
          }
        }
      ]
    },
    {
      "cell_type": "markdown",
      "metadata": {
        "id": "Q8atTazdPAXT"
      },
      "source": [
        "# __2. Variables y expresiones aritméticas__\n",
        "\n",
        ">__Concepto de variable:__\n",
        "\n",
        ">> Una variable es un espacio definido y formateado de almacenamiento en la memoria del sistema de cómputo, que guarda un valor y que se accede mediante un nombre simbólico.\n",
        "- La variable puede recibir un valor diferente en cualquier momento y esta lo mantiene hasta que sea cambiado o que el espacio asignado sea liberado.\n",
        "- Una variable sostiene solamente un valor (el último asignado, los anteriores los olvida)\n",
        "\n",
        "\n",
        "> __Ejemplos de creación y asignación__\n",
        "- Pruebe cada uno de los siguientes bloques de código:\n",
        "\n",
        "``` python\n",
        "# asignación simple\n",
        "total = 0\n",
        "total\n",
        "```\n",
        "``` python\n",
        "# asignación simple\n",
        "PI = 3.1416\n",
        "PI\n",
        "```\n",
        "``` python\n",
        "# asignación simple\n",
        "gravedad = -9.8\n",
        "gravedad\n",
        "```\n",
        "``` python\n",
        "# asignación múltiple\n",
        "a, b, _c = 3, -7.9, 'ucentral'\n",
        "b, a, _c\n",
        "```\n",
        "``` python\n",
        "# asignación múltiple\n",
        "nombre, edad1, edad2, b = \"Juan\", 26, 33, -3\n",
        "nombre, edad2, b, edad1, gravedad\n",
        "```\n"
      ]
    },
    {
      "cell_type": "code",
      "metadata": {
        "id": "ajETYg6DSwJH"
      },
      "source": [
        "# Pruebe la asignación de variables aquí"
      ],
      "execution_count": null,
      "outputs": []
    },
    {
      "cell_type": "markdown",
      "metadata": {
        "id": "o9aUD_bcXXpg"
      },
      "source": [
        "## __Reglas de nombramiento de variables__\n",
        "- Observe las siguientes propiedades en los ejemplos anteriores:\n",
        "    - El nombre comienza por un caracter alfabético o '_'\n",
        "    - La longitud del nombre no importa\n",
        "    - No se puede incluir espacios en el nombre\n",
        "    - Se diferencia entre mayúsculas y minúsculas\n",
        "    - Después del primer caracter se pueden incluir números\n",
        "    - En un ámbito el mismo nombre hace referencia a la misma varible\n",
        "\n",
        "## **Ejemplo**\n",
        "\n",
        "> Ahora, se puede definir los valores de las variables $x, y$ se asigna un valor y se prueba la siguiente ecuación:\n",
        "\n",
        "$$Z = 4x^3y - 2x^2y^2 + 10x y^3 + 5x$$\n",
        "\n",
        "\n",
        ">Es más eficiente utilizar variables que escribir los valores de $x$ y $y$ cada vez que se requiere un valor de la función $Z = f(x,y)$. Determine el valor de $Z$ cuando $x=3.5$ y $y=0.7$, pruebe en un bloque de código:\n",
        "\n",
        "```python\n",
        "x = 3.5\n",
        "y = 0.7\n",
        "Z = 4*x**3*y - 2*x**2*y**2 + 10*x*y**3 + 5*x\n",
        "```\n",
        "\n",
        ">Escriba el código en una celda y compruebe que el resultado debe ser: __137.55__\n",
        "\n",
        "## __Ejercicio__\n",
        "Ahora pruebe con la siguiente ecuación:\n",
        "\n",
        "$$ Z = 4x^2 + 8y^2 - 3xy^2$$\n",
        "\n",
        "\n",
        "\n"
      ]
    },
    {
      "cell_type": "code",
      "metadata": {
        "id": "PKkhvG8Vb8MG"
      },
      "source": [
        "# Use esta celda para el ejemplo y el ejercicio"
      ],
      "execution_count": null,
      "outputs": []
    },
    {
      "cell_type": "markdown",
      "metadata": {
        "id": "advCaBbdcAfL"
      },
      "source": [
        "## __Precedencia de operadores y uso de paréntesis__\n",
        "\n",
        "No todos los operadores tienen la misma jerarquía. La multiplicación, división, módulo y división entera tienen el mismo nivel de precedencia, por otro lado la suma y la resta tienen la misma jerarquía. Pero estos últimos tienen menor precedencia sobre los primeros. Es decir que python hará primero la operación multiplicación y después la suma:\n",
        "\n",
        "## __Ejemplo__\n",
        "\n",
        "```python\n",
        "# No es lo mismo\n",
        "a = 2\n",
        "b = 3\n",
        "c = 5\n",
        "resultado1 = (a * b) + c\n",
        "resultado2 = a * (b + c)\n",
        "# Sin usar parentesis que sucede?\n",
        "resultado3 = a * b + c\n",
        "resultado1, resultado2, resultado3\n",
        "```\n",
        "La recomendación es usar parentesis si no se está seguro. Para profundizar en este tema puede consultar [Precedencia en pyhton](https://www.interactivechaos.com/manual/tutorial-de-python/precedencia-de-operadores)\n",
        "\n",
        ">>__Nota:__ entre operadores que tienen el mismo nivel de precedencia, las operaciones se resuelven de izquierda a derecha\n",
        "\n",
        "\n",
        "\n"
      ]
    },
    {
      "cell_type": "code",
      "metadata": {
        "id": "oa3sV2D7drLZ"
      },
      "source": [
        "# pruebe en esta celda de código"
      ],
      "execution_count": null,
      "outputs": []
    },
    {
      "cell_type": "markdown",
      "metadata": {
        "id": "IeLQ1lPcdupJ"
      },
      "source": [
        "## __Identificadores__ `%who, %whos`\n",
        "\n",
        "> Para saber que variables están activas en un entorno de ejecución utilice los identificadores `%who, %whos`\n",
        "\n",
        "\n",
        "## __Función__ `del`\n",
        "\n",
        "> La función `del` sirve para eliminar una variable del ambiente de programación\n"
      ]
    },
    {
      "cell_type": "code",
      "metadata": {
        "id": "J8PfyaWAec6e"
      },
      "source": [
        "# pruebe en esta celda de código"
      ],
      "execution_count": null,
      "outputs": []
    },
    {
      "cell_type": "markdown",
      "metadata": {
        "id": "NtJBZ7tWhXVt"
      },
      "source": [
        "# __3. Comentarios__\n",
        "\n",
        "> Existen dos tipos de comentarios que se pueden usar dentro del código, generalmente para propósitos de documentación. Para recordar que hizo al momento de volver sobre el código un tiempo después.\n",
        "- __Comentarios de línea__\n",
        "    - Use el caracter almohadilla `#` al inicio o en cualquier parte de la línea. Se activa el modo comentario hasta el fin de esta línea\n",
        "- __Comentarios multilínea__\n",
        "    - Use triple comillas dobles `\"\"\"` o sencillas `'''` para inciar un bloque de comentarios de múltiples líneas. Cuando termine, cierre el comentario con los mismos símbolos\n",
        "\n",
        "![programa.jpg](data:image/jpeg;base64,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)\n",
        "\n",
        "## __Ejemplo:__\n",
        "\n",
        "\n",
        "```python\n",
        "# Esto tiene formato de código\n",
        "# y estas líneas son comentarios\n",
        "\"\"\" cuando se quieren comentarios de\n",
        "    varias líneas en un bloque de código\n",
        "    se pueden usar comillas dobles\n",
        "\"\"\"\n",
        "x = (5)**3  # hallar el valor de cinco al cubo\n",
        "\n",
        "```\n"
      ]
    },
    {
      "cell_type": "code",
      "metadata": {
        "id": "qLdGBkTrjNE6"
      },
      "source": [
        "# pruebe aquí los comentarios"
      ],
      "execution_count": null,
      "outputs": []
    },
    {
      "cell_type": "markdown",
      "metadata": {
        "id": "KFjdgReEy_9V"
      },
      "source": [
        "# __4. Entrada y salida básica__"
      ]
    },
    {
      "cell_type": "markdown",
      "metadata": {
        "id": "WkEoTWQcQDd_"
      },
      "source": [
        "## __Función `print()`__\n",
        "Es posible que haya notado que el notebook automaticamente imprime la última operación o la variable que se escriba en la línea final. Pero si se quiere imprimir varias veces y en diferentes partes de en un segmento de código, entonces se puede usar la función __print()__ o alternativamente la función __display()__ o __repr()__.\n",
        "\n",
        "> __Nota__ Existen caracteres especiales dentro de las cadenas como la barra invertida: `\\ `. En la función _print_ es utilizado para imprimir tabulaciones `\\t`, fin de línea `\\n` y otros caracteres de formato\n",
        "\n",
        ">## __Ejemplo__\n",
        "Observe y prube las diferentes formas de imprimir con la función __print()__:\n",
        "\n",
        "```python\n",
        "print() # imprime línea en blanco\n",
        "\n",
        "x =  -256/117\n",
        "print(x) # imprime valor de x, además del cambio de línea\n",
        "# print recibe multiples parámetros e imprime cada uno\n",
        "print(x, 'al cuadrado es', x**2) # dentro de print se pueden hacer operaciones\n",
        "\n",
        "y = 12.5\n",
        "print('x:', x, 'y:', y, '\\tpromedio:', (x+y)/2, '\\tproducto:', x*y) # imprime 8 veces en la misma línea\n",
        "# observe que al final la función print imprime una cambio de línea\n",
        "\n",
        "a = 1\n",
        "b = 22\n",
        "c = 333\n",
        "d = 4444\n",
        "print(a,'\\n',b,'\\n',c,'\\n',d) # imrpimir valores en cada linea\n",
        "```\n",
        "\n",
        "Se recomienda revisar algo más de documentación para el manejo de la función print en el siguiente enlace: [Print Function](https://realpython.com/python-print/)\n",
        "\n",
        "\n",
        "\n"
      ]
    },
    {
      "cell_type": "code",
      "source": [
        "# celda de código para probar"
      ],
      "metadata": {
        "id": "oi9cyzzRjTjB"
      },
      "execution_count": null,
      "outputs": []
    },
    {
      "cell_type": "markdown",
      "metadata": {
        "id": "0hQCh69yzP4L"
      },
      "source": [
        "## __Función `input()`__\n",
        "\n",
        "Es usual que programa requiera interactuar con la persona que ejecuta el programa. Esto hace que el programa sea más fácil de usar y más flexible. Una forma de __interrumpir__ el programa para solicitar información al usuario desde la *consola de texto$^1$* es usando la función __input()__:\n",
        "\n",
        "\n",
        "```python\n",
        "# leer de la consola y guardar en la variable valor\n",
        "valor = input('Ingrese un valor entero positivo:')\n",
        "\n",
        "# imprimir el tipo que recibe y el valor\n",
        "print('tipo: ', type(valor), 'contenido:', valor)\n",
        "\n",
        "```\n",
        "\n",
        ">El siguiente bloque de código produce un error, por que es necesario convertir el valor de entrada para que se pueda usar en operaciones aritméticas. Por ejemplo:\n",
        "\n",
        "```python\n",
        "# solicite al usuario ingresar un valor real por la consola de texto\n",
        "valor2 = input('Ingrese un valor real positivo (por ejemplo 0.25):')\n",
        "# observe el tipo de dato\n",
        "print('tipo: ', type(valor2), 'contenido:', valor2)\n",
        "# intente operar con el valor obtenido\n",
        "area = valor2 * valor2\n",
        "print('area = ', area)\n",
        "```\n",
        ">__Nota$^1$:__ En el notebook la consola de texto es el espacio de resultados que aparece cuando se ejecuta la celda. Pro fuera del notebook un programa python se puede ejecutar desde una consola de comandos.  \n",
        "\n"
      ]
    },
    {
      "cell_type": "code",
      "source": [
        "# celda de código para probar"
      ],
      "metadata": {
        "id": "XYI_THoijZZh"
      },
      "execution_count": null,
      "outputs": []
    },
    {
      "cell_type": "markdown",
      "metadata": {
        "id": "1L0wd2r81eMK"
      },
      "source": [
        "# __5. Tipos de datos__\n",
        "\n",
        "> Los tipos de datos básicos que se tienen disponibles en python son:\n",
        "* Numéricos:\n",
        "    - Valores enteros positvos y negativos (por omisión de 64 bits)\n",
        "    - Valores reales, que tienen una expansión de decimales.\n",
        "* Lógicos: Son aquellas variables que solo pueden tomar por valor verdadero `True` o falso `False`.\n",
        "* Cadenas de texto: Variables que pueden almacenar un conjunto de caracteres de texto. La cantidad de caracteres es desde cero hasta lo máximo permitido por la memoria del sistema de cómputo.\n",
        "* Objetos: En general python maneja todas las variables como si fueran objetos$^1$. Los objetos tienen atributos y métodos, es decir que vienen con una serie de funciones específicas para cada tipo de dato.\n",
        "\n",
        "\n",
        "> A diferencia de otros lenguajes de programación como C o Java que son fuertemente tipados, Python es un lenguaje de programación de **tipado dinámico**. Esto quiere decir que si una variable ha sido declarada en este lenguaje, en cualquier momento usted podrá cambiarle el tipo sin ninguna restricción.\n",
        "\n",
        "> Lo anterior quiere decir que Python no le exige que defina el tipo de dato de la variable. La asignación del tipo es dinámica y se configura de manera automática. Sin embargo, siempre es posible validar el tipo de dato asignado.\n",
        "\n",
        "Para profundizar sobre los tipos de datos que maneja Python u obtener documentación se recomienda el siguiente enlace: [Python Data Types](https://docs.python.org/3/library/datatypes.html)\n",
        "\n",
        "## __Función `type()`__\n",
        "- Para conocer el tipo de dato asociado a una variable en un momento determinado, use la función `type(variable)` con el nombre de la variable.\n",
        "\n",
        ">## __Ejemplo__\n",
        "```python\n",
        "w, x, y, z = -22, 2.7181, 'super', False\n",
        "print(w, '\\t', type(w), '\\n', x, '\\t', type(x))\n",
        "print(y, '\\t', type(y), '\\n', z, '\\t', type(z))\n",
        "```\n",
        "\n",
        "\n"
      ]
    },
    {
      "cell_type": "code",
      "metadata": {
        "id": "P6LbdcAn9IZb"
      },
      "source": [
        "# Pruebe en esta celda de código"
      ],
      "execution_count": null,
      "outputs": []
    },
    {
      "cell_type": "markdown",
      "metadata": {
        "id": "HJ1DAb1t-E1-"
      },
      "source": [
        "## __Funciones de conversión__ `int(), float(), str()`\n",
        "> - Hay gran cantidad de ocasiones en las que es necesario realizar una conversión de un tipo de dato a otro. Las razones pueden ser varias, por ejemplo:\n",
        "    - Si se necesita realizar una operación aritmética, pero alguna de las variables es de tipo cadena de caracteres. Aquí se puede usar `float(variable) o int(variable)` según convenga\n",
        "    - Si se requiere hacer una impresión de un valor numérico pero la función que despliega el texto solo acepta variables de tipo cadena de caracterés\n",
        "    - Cuando se pide un valor numérico, pero la función devuelve una cadena. Como es el caso de `input()`, entonces para convertir use `float(_) o int(_)`\n",
        "\n",
        "## __Ejemplo__\n",
        "Se quiere calcular el valor de una función cuadrática $y = 2x^2-5x+4$\n",
        "de tal forma que hay preguntar por el valor de $x$ y reemplazarlo en la ecuación e imprimir el valor\n",
        "\n",
        "\n",
        "```python\n",
        "x = input('Ingrese el valor de x para calcular la ecuación:')\n",
        "print(type(x))\n",
        "# es necesario convertir a x en un valor numérico antes de evaluar la ecuación\n",
        "float_x = float(x)\n",
        "# la siguiente línea produce un error\n",
        "y = 2*x**2 - 5*x + 4\n",
        "# ponga un comentario a la línea anterior y\n",
        "# vuelva a ejecutar el código\n",
        "y = 2*float_x**2 - 5*float_x + 4\n",
        "print('El resultado es:', y)\n",
        "\n",
        "```\n",
        "\n"
      ]
    },
    {
      "cell_type": "markdown",
      "metadata": {
        "id": "8IKY7gk6Bt02"
      },
      "source": [
        "## __Formato en cadenas de texto__\n",
        "\n",
        "- La función *print()* imprime series de parámetros en las cuales se pueden usar tabulaciones y cambios de línea. También es posible poner formato a los valores numéricos. Usando:\n",
        "    - `%d` para variables enteros\n",
        "    - `%f` para variables reales de punto flotante\n",
        "    - `%s` para variables de cadenas de texto\n",
        "\n",
        "## __Ejemplo:__\n",
        "\n",
        "1. Pruebe el siguiente bloque de código y analice las diferencias\n",
        "\n",
        "```python\n",
        "\n",
        "#agregar un poco de formato para alinear los valores en la presentación\n",
        "a, b, c, d = 1, 22, 333, 4444\n",
        "print('Impresión normal      \\n a = %d  \\n b = %d  \\n c = %d  \\n d = %d'%(a,b,c,d))\n",
        "print('Impresión con ceros   \\n a = %05d\\n b = %05d\\n c = %05d\\n d = %05d'%(a,b,c,d))\n",
        "print('Impresión con espacios\\n a = %5d \\n b = %5d \\n c = %5d \\n d = %5d'%(a,b,c,d))\n",
        "```\n",
        "2. Ejemplo con números de punto flotantes\n",
        "\n",
        "\n",
        "```python\n",
        "f, g = 3.141516, 0.25\n",
        "print('f = %1.4f\\ng = %1.4f'%(f, g))\n",
        "print('f = %e\\ng = %e'%(f, g))\n",
        "```\n",
        "\n",
        "- Consulte otras alternativas para dar formato a la impresión en [formato](https://python-para-impacientes.blogspot.com/2017/02/las-cadenas-f.html)"
      ]
    },
    {
      "cell_type": "code",
      "source": [
        "# celda de código para probar"
      ],
      "metadata": {
        "id": "ttRbdVQdjgWE"
      },
      "execution_count": null,
      "outputs": []
    },
    {
      "cell_type": "markdown",
      "metadata": {
        "id": "PDS4QVCcDPGg"
      },
      "source": [
        "## __Personalizar la impresión__\n",
        "\n",
        "> Cuando se quiere tener control de como se imprime, hay que tener en cuenta varios puntos:\n",
        "- La función *print* imprime un fin de línea al final. Esto se puede evitar\n",
        "- Al final de la cadena se puede especificar un conjunto de variables usando el __%__\n",
        "- La cadena puede iniciar con *f*, y la varaibles entre llaves\n",
        "- Utilizar la función *format* de *print* para personalizar las salidas\n",
        "- Use los operadores suma y multiplicación\n",
        "\n",
        "Ejemplos:\n",
        "\n",
        "```python\n",
        "x = 143.92\n",
        "cadena = '-'*30 + 'hola' + '-'*30 + str(x*5)\n",
        "print(cadena)\n",
        "```\n",
        "\n",
        "\n",
        "\n"
      ]
    },
    {
      "cell_type": "code",
      "source": [
        "# celda de código para probar"
      ],
      "metadata": {
        "id": "OqMM7EW4jjT_"
      },
      "execution_count": null,
      "outputs": []
    },
    {
      "cell_type": "markdown",
      "source": [
        "# __Entrenamiento de lógica__\n",
        "\n",
        "> - En los siguientes ejemplos se busca resolver los problemas completos asumiendo que son correctas todas las restricciones y condiciones que se imponen.\n",
        "\n",
        "> ## __Ejemplo 1: diseño de gafetes__\n",
        "- Seis jóvenes de diferentes países participaron en una organización juvenil para una convivencia internacional. Doris tenía que hacer el gafete de cada uno, sin embargo, aunque tenía los nombres y los países de procedencia, no sabía a cual le correspondía cada uno de ellos. Los nombres de los jóvenes son: Gabriel, Marcelo, Andrés, Olivia, Gloria y Renato, y sus países son Francia, Inglaterra, Rusia, Japón, México e Italia. Afortunadamente Doris encontró unas anotaciones acerca de los jóvenes hechas por su jefe, y con base a ellas obtuvo la siguiente información:\n",
        "1. A la italiana le gusta mucho la cuidad.\n",
        "2. Renato quiere aprender a hablar japonés.\n",
        "3. Gloria sabe hablar inglés y francés.\n",
        "4. El francés y Renato llegaron tarde.\n",
        "5. Los más puntuales fueron Andrés y Gabriel.\n",
        "6. Gabriel y el ruso le dijeron al japonés que les gustaría conocer su país.\n",
        "\n"
      ],
      "metadata": {
        "id": "iUtBZQ4FCNcy"
      }
    },
    {
      "cell_type": "markdown",
      "source": [
        "> ![image.png](data:image/png;base64,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)"
      ],
      "metadata": {
        "id": "EYlZdsjdEV7z"
      }
    },
    {
      "cell_type": "markdown",
      "source": [
        "## __Solución__\n",
        "- Gabriel - Méxicano\n",
        "- Marcelo - Francés\n",
        "- Andrés - Japonés\n",
        "- Olivia - Italiana\n",
        "- Gloria - Inglesa\n",
        "- Renato - Ruso\n"
      ],
      "metadata": {
        "id": "msqkqqOrIj2W"
      }
    },
    {
      "cell_type": "markdown",
      "source": [
        "![lógica de prog.jpg](data:image/jpeg;base64,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)"
      ],
      "metadata": {
        "id": "W9Z0hrG2Fudx"
      }
    },
    {
      "cell_type": "markdown",
      "source": [
        "## __Ejemplo 2: felinos en los zoológicos__\n",
        "Los zoológicos de Curnovil, Pueblo, Tarino, Sanura y Durino tienen en total 85 felinos, entre los que se encuentran leones, gatos monteses, pumas, tigres y panteras. Se sabe que el zoológico de Curnovil tiene tres panteras y el doble de leones, pero en cambio no tiene gatos monteses; en total tiene 14 felinos. El zoológico de Pueblo no tiene leones, pero tiene siete pumas y dos tigres más que el de Durino; en total tiene 18 felinos. El número de pumas en los cinco zoológicos es de 20 y el de gatos monteses es de 17, de los cuales el zoológico de Sanura tiene ocho. El zoológico de Durino tiene cuatro pumas, tres leones y tres veces más tigres que leones. De los 20 felinos que hay en el zoológico de Tarino nueve son gatos monteses y uno es león. Además, este zoológico tiene 10 de las 17 panteras que hay en total. El zoológico de Sanura no tiene tigres, al igual que el de Curnovil, y no tiene panteras. Determine cuántos y qué tipo de animales hay en cada zoológico.\n",
        "\n",
        "## __Solución:__\n",
        "- Curnovil: 14 felinos; 6 leones, 5 pumas, 3 panteras.\n",
        "- Pueblo: 18 felinos; 7 pumas, 11 tigres.\n",
        "- Tarino: 20 felinos; 1 león, 9 gatos, 10 panteras.\n",
        "- Sanura: 13 felinos; 1 leon, 8 gatos, 4 pumas.\n",
        "- Durino: 20 felinos; 3 leones, 4 pumas, 9 tigres, 4 panteras.\n",
        "\n"
      ],
      "metadata": {
        "id": "IFJ4sb-pIvJm"
      }
    },
    {
      "cell_type": "markdown",
      "source": [
        "## __Carrera de autos__\n",
        "> En la copa mundo de automivilismo participaron corredores de Francia, Italia, México, EEUU y Holanda.\n",
        "1. El mexicano llegó 2 lugares atrás que el italiano.\n",
        "2. El francés no ganó, pero tampoco llegó en último lugar.\n",
        "3. El holandés ocupó un lugar después que el estadounidense.\n",
        "4. Este último no llegó en primer lugar.\n",
        ">\n",
        "> Determine en qué lugar llegó cada corredor?\n",
        "\n",
        "---\n",
        "\n",
        "## __Solución__\n",
        "\n",
        "> ### __Afirmaciones__\n",
        "1. Mex = Ita + 2\n",
        "2. Fra = {2, 3, ó 4}\n",
        "3. Hol = EU + 1\n",
        "4. EU = {2, 3, 4, ó 5}\n",
        "\n",
        "---\n",
        "\n",
        "> ### __Deducciones__\n",
        "> - Ita > Mex\n",
        "- EU > Hol\n",
        "- Ita, _?_, Mex (hay uno entre ellos)\n",
        "- _?_ , EU, Ho (están seguidos)\n",
        "> - El único que puede ser el primero es el Ita\n",
        "\n",
        "> ### __Opciones__\n",
        "\n",
        "> Ita, Fra, Mex, EU, Hol\n",
        "\n",
        "Verificar que cumple con todas las condiciones!!"
      ],
      "metadata": {
        "id": "zJiy0E4TJZem"
      }
    },
    {
      "cell_type": "markdown",
      "source": [
        "# __<font color='#0F0'>EJERCICIOS DEL TALLER</font>__"
      ],
      "metadata": {
        "id": "MoeQwnxJj9xI"
      }
    },
    {
      "cell_type": "code",
      "source": [
        "x = 3\n",
        "y = 2\n",
        "z = 5\n",
        "z = 3 * x**2 * y**3 *( (2 - x) / (y-3) )\n",
        "z"
      ],
      "metadata": {
        "colab": {
          "base_uri": "https://localhost:8080/"
        },
        "id": "YvJXN0cvpx0_",
        "outputId": "5493e9bf-9b60-4877-bc10-4e1cda718fce"
      },
      "execution_count": null,
      "outputs": [
        {
          "output_type": "execute_result",
          "data": {
            "text/plain": [
              "216.0"
            ]
          },
          "metadata": {},
          "execution_count": 2
        }
      ]
    },
    {
      "cell_type": "markdown",
      "metadata": {
        "id": "y_c8a3MUP3Kx"
      },
      "source": [
        "## __Ejercicios expresiones__\n",
        "\n",
        "> Escribir la expresión correcta para cada una de las siguientes ecuaciones:\n",
        "1. $$z = 3x^2y^3 \\frac{2-x}{y-3}$$ <br><br>\n",
        "2. $$z = \\frac{\\frac{1}{x^2}-y^3}{3x+\\frac{3}{4xy}}y$$ <br><br>\n",
        "3. $$z = \\frac{xy^2-2}{\\frac{x}{3}-2y} - 5\\frac{2x/y - 3x^2y^2}{2y-4}\n",
        "$$\n",
        "\n",
        "## __Ejercicio de precedencia__\n",
        "\n",
        "- Probar el nivel de precedencia de la potencia frente a la multiplicación y división.\n",
        "\n",
        "```python\n",
        "x = 3\n",
        "y = 2\n",
        "z = 5\n",
        "(x**y)*z\n",
        "x**(y*z)\n",
        "(z/x)**y\n",
        "z/(x**y)\n",
        "```\n",
        "- ¿Cuál es la conclusión respecto a la precedencia?\n"
      ]
    },
    {
      "cell_type": "code",
      "source": [
        "# celda de código para probar"
      ],
      "metadata": {
        "id": "bYTIrBJhIYtH"
      },
      "execution_count": null,
      "outputs": []
    },
    {
      "cell_type": "markdown",
      "metadata": {
        "id": "m-ewnRORmNmz"
      },
      "source": [
        "# __Ejercicios de lógica__\n",
        "\n",
        "\n",
        "\n",
        "[//]: <> (1- Italia, 2- Francia, 3- México, 4- EEUU, 5- Holanda )\n",
        "\n",
        "> # Refrescos\n",
        "- <p>Luego de jugar fútbol por la tarde, Eduardo, Miguel, Alfredo, Fredy, Héctor y Braulio comprarían refrescos en la tienda, pero solo habían los siguientes refrescos: una Coca-Cola normal, una Coca-Cola Dietética, una Naranja Postobon, una Manzana Postobon, un Hit-TutiFrutti y una Pepsi-Cola. Se sabe que:</p> <ol> <li><span style=\"font-size: 1em;\">Uno de los jóvenes se adelantó a Fredy, a Eduardo y a Miguel y les ganó la Coca-Cola</span></li> <li><span style=\"font-size: 1em;\">Alfredo, Fredy e Héctor le hicieron bromas al que tomó la Pepsi-Cola</span></li> <li><span style=\"font-size: 1em;\">Braulio está a dieta</span></li> <li><span style=\"font-size: 1em;\">Eduardo y el que tomó la Naranja Postobon le preguntaron a Alfredo por qué no podía tomar bebidas gaseosas</span></li> <li><span style=\"font-size: 1em;\">Ni a Fredy ni a Héctor les gustan los refrescos con sabor a naranja.</span></li> </ol> <p>De acuerdo a lo anterior ¿Qué bebida tomó cada uno?</p>\n",
        "\n",
        "\n",
        "\n",
        "> # Promedio de los hijos de Marcela\n",
        ">> Marcela tiene cuatro hijos Santiago, Fabio, Camilo y David, pero en el colegio son más conocidos por sus apodos: 'gordo', 'palo', 'nano' y 'robin'.\n",
        "1. Se sabe que: 'palo' tiene el promedio más alto de los cuatro y\n",
        "2. Camilo ayuda a 'robin' en sus tareas.\n",
        "2. Por otro lado, 'nano' tiene un promedio de calificaciones inferior al de Camilo y 'robin'.\n",
        "3. El promedio de calificaciones de 'gordo' excede en 5 decimas al de Santiago.\n",
        "4. Santiago y David son los extremos en cuanto a promedio de calificaciones se refiere.\n",
        ">\n",
        "> Ordene a los hijos de Marcela de mayor a menor según el promedio e identifique los apodos de cada uno.\n",
        "\n",
        "[//]: <> (David, palo; Camilo, gordo; Fabio, robin; Santiago, nano)\n",
        "[//]: <> (David, palo; Fabio, robin; Camilo, gordo; Santiago, nano)\n",
        "\n",
        "> # Cantidad de especies de aves\n",
        "> El <em>Centro de monitoreo de conservación mundial</em> ha establecido el número de especies de aves que hay por país, y ha encontrado que:\n",
        "1. el número de especies de aves de México es menor al de Ecuador.\n",
        "2. De manera similar ha establecido que el número de especies de aves de Guyana es la mitad del de Ecuador;\n",
        "3. además, ha indicado que Ecuador tiene una cantidad de especies de aves que se aproxima a la suma del número de especies de aves de México y Guyana,\n",
        "4. y que dicho valor es menor al número de especies de Colombia.\n",
        ">\n",
        "> De acuerdo con el enunciado, seleccione las afirmaciones que considere correctas\n",
        "- Del texto se deduce que Colombia tiene el doble de aves que Ecuador\n",
        "[//]: <> (Colombia si es superior a Ecuador en número de aves, pero no alcanza para ser el doble)\n",
        "- Se puede afirmar que Guyana tiene un número mayor de aves que México\n",
        "[//]: <> (No es correcto, puesto que 2 veces las aves de Guyana es Menor que las aves de Guyana mas las de México)\n",
        "- Se puede deducir que 2 veces las aves de Guyana es mayor que la cantidad de aves de México.\n",
        "[//]: <> (Es cierto, por que la cantidad de aves de Ecuador, que es igual a 2 veces Guyana es mayor que México)\n",
        "- La cantidad de aves de Colombia es menor que la Cantidad de aves de Guyana más las aves de Ecuador\n",
        "[//]: <> (Es cierto, puesto que la cantidad de aves de México es menor que las de Ecuador)\n",
        "\n",
        "> # Flores en el día de la madre\n",
        "> Ricardo, Daniel y Paco obsequiaron a su respectiva madre una flor diferente en un florero de distinto color.\n",
        "1. Daniel no regaló la flor en el florero azul, ni tampoco Ricardo.\n",
        "2. El clavel estaba en el florero blanco.\n",
        "3. A Paco no le gustan las rosas y Ricardo no pudo conseguirlas.\n",
        "[//]: <> (Cambiar rosas por geranios)\n",
        "4. El geranio estaba en el florero rojo.\n",
        ">\n",
        "> ¿qué flor regalo cada uno y en qué florero?\n",
        "\n",
        "> # Homenaje a los medallistas\n",
        "> Cinco deportistas olímpicos colombianos llamados Betty, Esteban, Claudia, Andrea y Dario han sido invitados a un evento organizado por el gobierno para rendirles un homenaje. Estos deportistas durante su carrera han participado en varios juegos internacionales y han ganado muchas medallas de oro para Colombia. Para saber cuántas medallas de oro han ganado cada uno de los deportistas invitados, se tiene la siguiente información:\n",
        "1. Se sabe que Dario ha conseguido 10 medallas.\n",
        "2. Las medallas que tiene Claudia son menos que las que suman Andrea y Betty, pero son más de las que suman Dario y Betty.  \n",
        "3. Por su parte, Andrea tiene el doble de medallas que tiene Betty, pero menos del doble de las que tiene Dario.  \n",
        "4. Finalmente, Esteban tiene la misma cantidad de medallas que suman Dario y Betty.\n",
        "\n",
        "[//]: <>  (Ecuación | Deducciones de las afirmaciones)\n",
        "[//]: <>  (:---:|---|)\n",
        "[//]: <>  ([1]         | $ D = 10  $)\n",
        "[//]: <>  ([2]         | $ C < A+B $)\n",
        "[//]: <>  ([3]         | $ C > D+B $)\n",
        "[//]: <>  ([4]         | $ A = 2B  $)\n",
        "[//]: <>  ([5]         | $ A < 2D  $)\n",
        "[//]: <>  ([6]         | $ E = D+B $)\n",
        "[//]: <>  (de [4], [5] | $ B < D < A $)\n",
        "[//]: <>  (\"           | $ B \\in [6,9] $)\n",
        "[//]: <>  (\"           | $ A \\in [12,18],$ A es par )\n",
        "[//]: <>  (de [3], [6] | $ C > E $)\n",
        "[//]: <>  (de [4], [6] | $ A < E $)\n",
        "[//]: <>  (de [3], [4] | $ A < E < C $)\n",
        "\n",
        "[//]: <>  (Posibilidades)\n",
        "\n",
        "[//]: <>  ( B | D  | A  | E  | C )\n",
        "[//]: <>  (---|--- |--- |--- |:---:|)\n",
        "[//]: <>  ( 6 | 10 | 12 | 16 | 17 )\n",
        "[//]: <>  ( 7 | 10 | 14 | 17 | posible {18, 19})\n",
        "[//]: <>  ( 8 | 10 | 16 | 18 | $\\in [19, 23] $)\n",
        "[//]: <>  ( 9 | 10 | 18 | 19 | $\\in [20, 26] $)\n",
        "\n",
        "\n",
        "> Defina si las siguientes afirmaciones son correctas o no teniendo en cuenta la totalidad de las medallas conseguidas por cada deportista:\n",
        "- Se puede afirmar que Esteban tiene más medallas que Andrea y que Claudia\n",
        "[//]: <> (No es correcto, Esteban tiene más medallas que Andrea pero menos que Claudia)\n",
        "- Es posible que Andrea haya conseguido la misma cantidad de medallas que Dario\n",
        "[//]: <> (No es posible, Puesto que Claudia no puede tener más de 15 medallas y al mismo tiempo tener menos de 15 medallas)\n",
        "- Esteban ha conseguido más medallas que Andrea\n",
        "[//]: <> (Es correcto porque Dario + Betty suman más que dos veces Betty.)\n",
        "- Según la información, Andrea ha ganado 18 medallas como máximo\n",
        "[//]: <> (Es correcto,  puesto que Andrea tiene menos del doble de Dario y tiene el doble de las de Betty, la cual cómo máximo tiene 9 medallas)\n",
        "- Según las afirmaciones, es posible que alguna pareja de deportistas tenga la misma cantidad de medallas\n",
        "[//]: <> (No es posible dadas las restricciones de mayor y menor que hay en el enunciado y que los valores de medallas deben ser enteros)\n",
        "- Analizando las afirmaciones, no es posible que Andrea tenga 12 medallas\n",
        "[//]: <> (La afirmación no es correcta, puesto que todas las afirmaciones se cumplen si Andrea tiene 12 medallas)\n",
        "- Se puede concluir de las afirmaciones, que Esteban tiene mínimo 16 medallas y máximo 19 medallas\n",
        "[//]: <> (Es correcto, si se tiene en cuenta la cantidad de medallas que puede tener Betty y sabiendo que Esteban tiene las medallas de Dario mas las de Betty.)\n",
        "- La diferencia de medallas entre Claudia y Betty son menos de 18\n",
        "[//]: <> (Es correcto,  puesto que el máximo de medallas de Betty es 9. Por tanto Claudia tiene un valor menor a 2 veces las de Betty)\n",
        "- Si se sabe que Esteban tiene 16 medallas entonces Claudia tiene 18 medallas\n",
        "\n",
        "\n",
        "> # Deportistas de la U Central\n",
        "> Estudiantes de la universidad Central llamados Andrés, Javier, Cesar y Duván, representan a la institución en campeonatos de diferentes deportes a nivel nacional. <ol> <li>Uno de los deportistas es muy introvertido, por tanto no tiene amigos y no práctica deportes de conjunto, situación muy diferente para el futbolista que es amigo de casi todos en el campeonato nacional</li> <li>Por otro lado, Andrés y Duván estaban jugando vóleibol cuando el ajedrecista quedó campeon nacional</li> <li>Cesar y el basquetbolista nacional entrenan Rugby mientras Andrés aprende a Jugar golf</li> <li>El boxeador antes de ser campeón nacional le pedía a Andrés que fuera su oponente de entrenamiento</li> </ol>\n",
        ">\n",
        "> Identifique con cual disciplina cada uno de estos estudiantes representa a la universidad y señale de las siguientes afirmaciones las que considere correctas:\n",
        "- Cesar, Andrés y Duván son amigos\n",
        "[//]: <> (Correcto, dadas las afirmaciones 2, 3 y 4)\n",
        "- Javier y Cesar estuvieron practicando boxeo juntos\n",
        "[//]: <> (No es cierto, Por la afirmación 1 y 4, Javier no practicó boxeo.)\n",
        "- Según el texto, el jugador de Golf representa a la universidad jugando fútbol\n",
        "[//]: <> (Cierto, con las afirmaciones 2, 3 y 4 es claro que Andrés es el futbolista)\n",
        "- Del texto se puede deducir que había un estudiante que prácticaba vóleibol y rugby\n",
        "[//]: <> (Cierto, se refieren al basketbolista)\n",
        "\n",
        "\n",
        "> # El origen de los escritores\n",
        "> <p><span>David, Pipe y Germán son escritores que nacieron en diferentes países. </span>Se sabe que:</p> <ol> <li><span>Actualmente cada escritor se encuentra en su país de nacimiento y solo viajan con vuelos directos</span></li> <li><span>David voló a Colombia a la misma hora que el español voló a Japón.</span></li> <li><span>El dominicano voló a Francia mientras David voló a Marruecos.</span></li> <li><span>Pipe es el único que conoce España, el argentino toma vino en Chile. </span></li> </ol> <p><span>Dado este enunciado, señale de las siguientes afirmaciones las que considere correctas</span></p></p>\n",
        ">\n",
        ">- Se puede asegurar que David ha volado a Argentina\n",
        "[//]: <> (Correcto, debe haber volado a su País de origen)\n",
        "- Pipe puede ser japones, dominicano o español\n",
        "[//]: <> (Si Pipe no es argentino, puede ser dominicano o español)\n",
        "- Germán y David no han volado desde Marruecos a España\n",
        "[//]: <> (Cierto, pues ambos no conocen España)\n",
        "- Germán o David están tomando vino en Chile\n",
        "[//]: <> (No es correcto, todos están en su pais de origen)\n",
        "[//]: <>\n",
        "\n",
        "\n",
        "\n",
        "\n",
        "\n",
        "> # Profesiones entre amigas\n",
        "> - Bárbara, Daniela y Adriana tienen cada una 2 oficios. Sus ocupaciones son: Secretaria, Estilista, Vendedora de perfumes, Mesera, Recepcionista y Entrenadora. Se sabe que ninguna de ellas repite ocupación. Se tienen las siguientes afirmaciones a considerar:</p> <ol> <li>Adriana y Daniela juegan tenis cada sábado con la entrenadora</li> <li>Daniela es la mejor cliente de la vendedora</li> <li>La secretaria es la novia del hermano de la entrenadora</li> <li>La mesera y la vendedora de perfumes se reúnen con frecuencia en la casa de Barbara</li> <li>La entrenadora le debe $50.000 pesos a la estilista</li> <li>La secretaria y la mesera fueron compañeras de primaria</li> </ol>\n",
        ">\n",
        "> Determine cuáles de las siguientes afirmaciones considera correctas:\n",
        "- Las señoritas que estudiaron juntas en la primaria reciben lecciones de tenis\n",
        "[//]: <> (Correcto, Puesto que Adriana y Daniela son las señoritas que estudiaron juntas)\n",
        "- Barbara no es ni estilista ni mesera\n",
        "[//]: <> (Correcto, Daniela cubre esas profesiones)\n",
        "- La secretaria es Daniela o Barbara\n",
        "[//]: <> (No es correcto, la secretaria es Adriana)\n",
        "- La entrenadora vende perfumes o arregla el cabello\n",
        "[//]: <> (No es correcto, la otra profesión es Recepcionista)\n",
        "\n",
        "\n",
        "> # Quién es el asesino\n",
        "> Goyo fue encontrado una mañana muerto en un arroyo de un balazo y la policía detuvo a 3 sospechosos: Bananas, Nene, y Gallinazo. En la mañana los tres fueron interrogados y declararon lo siguiente:<br>\n",
        "Bananas:\n",
        "1. Yo no lo maté.\n",
        "2. Yo nunca había visto al Nene antes.\n",
        "3. Es cierto, yo conocí a Goyo.\n",
        ">\n",
        "> Nene:\n",
        "1. Yo no lo maté.\n",
        "2. Bananas y Gallinazo son mis amigos.\n",
        "3. Bananas nunca a matado a alguien.\n",
        ">\n",
        "> Gallinazo:\n",
        "1. Yo no lo maté\n",
        "2. Bananas miente cuando dice que no había visto a Nene antes.\n",
        "3. Yo no se quién lo mató\n",
        "\n",
        "Si solo una información dada de cada sospechoso es falsa y uno de los tres es culpable. ¿quién es el asesino?"
      ]
    }
  ]
}