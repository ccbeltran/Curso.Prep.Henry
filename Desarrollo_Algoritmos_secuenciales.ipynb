{
  "nbformat": 4,
  "nbformat_minor": 0,
  "metadata": {
    "colab": {
      "provenance": [],
      "include_colab_link": true
    },
    "kernelspec": {
      "name": "python3",
      "display_name": "Python 3"
    },
    "language_info": {
      "name": "python"
    }
  },
  "cells": [
    {
      "cell_type": "markdown",
      "metadata": {
        "id": "view-in-github",
        "colab_type": "text"
      },
      "source": [
        "<a href=\"https://colab.research.google.com/github/ccbeltran/Curso.Prep.Henry/blob/master/Desarrollo_Algoritmos_secuenciales.ipynb\" target=\"_parent\"><img src=\"https://colab.research.google.com/assets/colab-badge.svg\" alt=\"Open In Colab\"/></a>"
      ]
    },
    {
      "cell_type": "markdown",
      "metadata": {
        "id": "V-jVJM7-b1jw"
      },
      "source": [
        "<table><tr><td><img src=\"https://www.ucentral.edu.co/sites/default/files/inline-images/logosimbolo-ucentral-vigilada_1.png\" alt=\"Imagen 2\" width=\"600\"> </td>\n",
        "<td><img src=\"https://www.ucentral.edu.co/sites/default/files/inline-images/sello-acreditacion-2023-2029.png\" alt=\"Imagen 2\" width=\"600\"></td></tr></table>\n",
        "\n"
      ]
    },
    {
      "cell_type": "markdown",
      "metadata": {
        "id": "AkCbRAvSTfqB"
      },
      "source": [
        "## __1. Ejercicios sobre expresiones lógicas__\n",
        "\n",
        "- Determine para que valores de X se cumple y para que valores de X no se cumple la siguiente expresión: `X != 6 and X > 3`\n",
        "\n",
        "- Determine para que valores de H se cumple y para que valores de H no se cumple la siguiente expresión: `not (H >= 2) or H > 9`\n",
        "\n",
        "- Determine para que valores de M se cumple y para que valores de M no se cumple la siguiente expresión: `M % 5 >= 2 or M < -7`\n",
        "\n",
        "\n"
      ]
    },
    {
      "cell_type": "code",
      "source": [
        "# Determine para que valores de X se cumple y para que valores de X no se cumple la siguiente expresión: X != 6 and X > 3\n",
        "def expresion(X):\n",
        "    if X != 6 and X > 3:\n",
        "        print(\"la expresión se cumple.\")\n",
        "    else:\n",
        "        print(\"la expresión NO se cumple.\")\n",
        "valor = float(input('Ingrese primer valor:'))\n",
        "expresion(valor)\n",
        ""
      ],
      "metadata": {
        "colab": {
          "base_uri": "https://localhost:8080/"
        },
        "id": "ty5M9lqlXozl",
        "outputId": "1a13877f-e351-4ce0-98c9-4efd2dc3b7c2"
      },
      "execution_count": 18,
      "outputs": [
        {
          "output_type": "stream",
          "name": "stdout",
          "text": [
            "Ingrese primer valor:7\n",
            "la expresión se cumple.\n"
          ]
        }
      ]
    },
    {
      "cell_type": "code",
      "source": [
        "# Determine para que valores de H se cumple y para que valores de H no se cumple la siguiente expresión: not (H >= 2) or H > 9\n",
        "def expresion(H):\n",
        "    return not (H >= 2) or H > 9\n",
        "\n",
        "valor = float(input('Ingrese primer valor:'))\n",
        "expresion(valor)\n"
      ],
      "metadata": {
        "colab": {
          "base_uri": "https://localhost:8080/"
        },
        "id": "g-nb_z6vd4xT",
        "outputId": "925ace5f-769a-4ad5-c536-efbe8a92bc4c"
      },
      "execution_count": 20,
      "outputs": [
        {
          "name": "stdout",
          "output_type": "stream",
          "text": [
            "Ingrese primer valor:4\n"
          ]
        },
        {
          "output_type": "execute_result",
          "data": {
            "text/plain": [
              "False"
            ]
          },
          "metadata": {},
          "execution_count": 20
        }
      ]
    },
    {
      "cell_type": "code",
      "source": [
        " # Determine para que valores de M se cumple y para que valores de M no se cumple la siguiente expresión: M % 5 >= 2 or M < -7\n",
        " def expresion(M):\n",
        "    if M % 5 >= 2 or M < -7:\n",
        "        print(\"la expresión se cumple.\")\n",
        "    else:\n",
        "        print(\"la expresión NO se cumple.\")\n",
        "valor = float(input('Ingrese primer valor:'))\n",
        "expresion(valor)"
      ],
      "metadata": {
        "colab": {
          "base_uri": "https://localhost:8080/"
        },
        "id": "WAbogiRSf5yT",
        "outputId": "4c4efaec-347f-499c-b187-c6bbc15e54b7"
      },
      "execution_count": 15,
      "outputs": [
        {
          "output_type": "stream",
          "name": "stdout",
          "text": [
            "Ingrese primer valor:5\n",
            "la expresión NO se cumple.\n"
          ]
        }
      ]
    },
    {
      "cell_type": "markdown",
      "source": [
        "## __2. Ejercicios sobre manejo de errores__\n",
        "\n",
        "> - Escriba un código que genere cada uno de los errores mencionados en la lista\n",
        "    - __ValueError:__ error al convertir un valor, ej. de cadena a numperico\n",
        "    - __NameError:__ el nombre de variable o función no es correcto\n",
        "    - __SyntaxError:__ la declaración de la estructura no es acorde\n",
        "    - __TypeError:__ problemas para operaciones con un tipo de dato no esperado\n",
        "    - __ZeroDivisionError:__ se trata de ejecutar una división por cero\n",
        "    - __OSError:__ problema del sistema, ej. el archivo especificado no existe\n",
        "    - __IndexError:__ cuando se accede a un elemento de una estructura que esta fuera de alcance.\n",
        "\n",
        "\n",
        "\n",
        "\n",
        "\n"
      ],
      "metadata": {
        "id": "m9n95S41Ibzx"
      }
    },
    {
      "cell_type": "code",
      "source": [
        "# ValueError error al convertir un valor, ej. de cadena a numerico\n",
        "def convertir_a_entero(Peso):\n",
        "    return int(Peso)\n",
        "Peso=\"39*\"\n",
        "resultado = convertir_a_entero(Peso)\n",
        "print(f\"Resultado: {resultado}\")"
      ],
      "metadata": {
        "colab": {
          "base_uri": "https://localhost:8080/",
          "height": 332
        },
        "id": "wMlPAnhMqnhE",
        "outputId": "ed9c308c-541e-49c1-91bd-e5e6cb309ca1"
      },
      "execution_count": 32,
      "outputs": [
        {
          "output_type": "error",
          "ename": "ValueError",
          "evalue": "invalid literal for int() with base 10: '39*'",
          "traceback": [
            "\u001b[0;31m---------------------------------------------------------------------------\u001b[0m",
            "\u001b[0;31mValueError\u001b[0m                                Traceback (most recent call last)",
            "\u001b[0;32m<ipython-input-32-1d9fc00cef28>\u001b[0m in \u001b[0;36m<cell line: 4>\u001b[0;34m()\u001b[0m\n\u001b[1;32m      2\u001b[0m     \u001b[0;32mreturn\u001b[0m \u001b[0mint\u001b[0m\u001b[0;34m(\u001b[0m\u001b[0mPeso\u001b[0m\u001b[0;34m)\u001b[0m\u001b[0;34m\u001b[0m\u001b[0;34m\u001b[0m\u001b[0m\n\u001b[1;32m      3\u001b[0m \u001b[0mPeso\u001b[0m\u001b[0;34m=\u001b[0m\u001b[0;34m\"39*\"\u001b[0m\u001b[0;34m\u001b[0m\u001b[0;34m\u001b[0m\u001b[0m\n\u001b[0;32m----> 4\u001b[0;31m \u001b[0mresultado\u001b[0m \u001b[0;34m=\u001b[0m \u001b[0mconvertir_a_entero\u001b[0m\u001b[0;34m(\u001b[0m\u001b[0mPeso\u001b[0m\u001b[0;34m)\u001b[0m\u001b[0;34m\u001b[0m\u001b[0;34m\u001b[0m\u001b[0m\n\u001b[0m\u001b[1;32m      5\u001b[0m \u001b[0mprint\u001b[0m\u001b[0;34m(\u001b[0m\u001b[0;34mf\"Resultado: {resultado}\"\u001b[0m\u001b[0;34m)\u001b[0m\u001b[0;34m\u001b[0m\u001b[0;34m\u001b[0m\u001b[0m\n",
            "\u001b[0;32m<ipython-input-32-1d9fc00cef28>\u001b[0m in \u001b[0;36mconvertir_a_entero\u001b[0;34m(Peso)\u001b[0m\n\u001b[1;32m      1\u001b[0m \u001b[0;32mdef\u001b[0m \u001b[0mconvertir_a_entero\u001b[0m\u001b[0;34m(\u001b[0m\u001b[0mPeso\u001b[0m\u001b[0;34m)\u001b[0m\u001b[0;34m:\u001b[0m\u001b[0;34m\u001b[0m\u001b[0;34m\u001b[0m\u001b[0m\n\u001b[0;32m----> 2\u001b[0;31m     \u001b[0;32mreturn\u001b[0m \u001b[0mint\u001b[0m\u001b[0;34m(\u001b[0m\u001b[0mPeso\u001b[0m\u001b[0;34m)\u001b[0m\u001b[0;34m\u001b[0m\u001b[0;34m\u001b[0m\u001b[0m\n\u001b[0m\u001b[1;32m      3\u001b[0m \u001b[0mPeso\u001b[0m\u001b[0;34m=\u001b[0m\u001b[0;34m\"39*\"\u001b[0m\u001b[0;34m\u001b[0m\u001b[0;34m\u001b[0m\u001b[0m\n\u001b[1;32m      4\u001b[0m \u001b[0mresultado\u001b[0m \u001b[0;34m=\u001b[0m \u001b[0mconvertir_a_entero\u001b[0m\u001b[0;34m(\u001b[0m\u001b[0mPeso\u001b[0m\u001b[0;34m)\u001b[0m\u001b[0;34m\u001b[0m\u001b[0;34m\u001b[0m\u001b[0m\n\u001b[1;32m      5\u001b[0m \u001b[0mprint\u001b[0m\u001b[0;34m(\u001b[0m\u001b[0;34mf\"Resultado: {resultado}\"\u001b[0m\u001b[0;34m)\u001b[0m\u001b[0;34m\u001b[0m\u001b[0;34m\u001b[0m\u001b[0m\n",
            "\u001b[0;31mValueError\u001b[0m: invalid literal for int() with base 10: '39*'"
          ]
        }
      ]
    },
    {
      "cell_type": "code",
      "source": [
        "def convertir_a_entero(X):\n",
        " return int(X)\n",
        "Y=\"234abc\"\n",
        "resultado = convertir_a_entero(X)\n",
        "print(f\"Resultado: {resultado}\")"
      ],
      "metadata": {
        "colab": {
          "base_uri": "https://localhost:8080/",
          "height": 203
        },
        "id": "rASCWGa_sI0d",
        "outputId": "a817127a-7d9f-4e0c-d0fc-86c993c49472"
      },
      "execution_count": 42,
      "outputs": [
        {
          "output_type": "error",
          "ename": "NameError",
          "evalue": "name 'X' is not defined",
          "traceback": [
            "\u001b[0;31m---------------------------------------------------------------------------\u001b[0m",
            "\u001b[0;31mNameError\u001b[0m                                 Traceback (most recent call last)",
            "\u001b[0;32m<ipython-input-42-b5b04afd99b3>\u001b[0m in \u001b[0;36m<cell line: 4>\u001b[0;34m()\u001b[0m\n\u001b[1;32m      2\u001b[0m  \u001b[0;32mreturn\u001b[0m \u001b[0mint\u001b[0m\u001b[0;34m(\u001b[0m\u001b[0mX\u001b[0m\u001b[0;34m)\u001b[0m\u001b[0;34m\u001b[0m\u001b[0;34m\u001b[0m\u001b[0m\n\u001b[1;32m      3\u001b[0m \u001b[0mY\u001b[0m\u001b[0;34m=\u001b[0m\u001b[0;34m\"234abc\"\u001b[0m\u001b[0;34m\u001b[0m\u001b[0;34m\u001b[0m\u001b[0m\n\u001b[0;32m----> 4\u001b[0;31m \u001b[0mresultado\u001b[0m \u001b[0;34m=\u001b[0m \u001b[0mconvertir_a_entero\u001b[0m\u001b[0;34m(\u001b[0m\u001b[0mX\u001b[0m\u001b[0;34m)\u001b[0m\u001b[0;34m\u001b[0m\u001b[0;34m\u001b[0m\u001b[0m\n\u001b[0m\u001b[1;32m      5\u001b[0m \u001b[0mprint\u001b[0m\u001b[0;34m(\u001b[0m\u001b[0;34mf\"Resultado: {resultado}\"\u001b[0m\u001b[0;34m)\u001b[0m\u001b[0;34m\u001b[0m\u001b[0;34m\u001b[0m\u001b[0m\n",
            "\u001b[0;31mNameError\u001b[0m: name 'X' is not defined"
          ]
        }
      ]
    },
    {
      "cell_type": "code",
      "source": [
        "#SyntaxError: la declaración de la estructura no es acorde\n",
        "def expresion(X)\n",
        "    if X != 6 and X > 3:\n",
        "        print(\"la expresión se cumple.\")\n",
        "    else:\n",
        "        print(\"la expresión NO se cumple.\")\n",
        "valor = float(input('Ingrese primer valor:'))\n",
        "expresion(valor)"
      ],
      "metadata": {
        "colab": {
          "base_uri": "https://localhost:8080/",
          "height": 111
        },
        "id": "HnMqGp_uuhRo",
        "outputId": "c8093840-2eb7-4466-d837-42edf9e53b0b"
      },
      "execution_count": 43,
      "outputs": [
        {
          "output_type": "error",
          "ename": "SyntaxError",
          "evalue": "expected ':' (<ipython-input-43-acb9858621c2>, line 2)",
          "traceback": [
            "\u001b[0;36m  File \u001b[0;32m\"<ipython-input-43-acb9858621c2>\"\u001b[0;36m, line \u001b[0;32m2\u001b[0m\n\u001b[0;31m    def expresion(X)\u001b[0m\n\u001b[0m                    ^\u001b[0m\n\u001b[0;31mSyntaxError\u001b[0m\u001b[0;31m:\u001b[0m expected ':'\n"
          ]
        }
      ]
    },
    {
      "cell_type": "code",
      "source": [
        "#TypeError: problemas para operaciones con un tipo de dato no esperado\n",
        "def dividir(a, b):\n",
        "    return a / b\n",
        "\n",
        "resultado = dividir(\"10\", 2)\n",
        "print(f\"Resultado: {resultado}\")"
      ],
      "metadata": {
        "colab": {
          "base_uri": "https://localhost:8080/",
          "height": 332
        },
        "id": "IQVN-vHFuueI",
        "outputId": "aa42c90f-049d-4280-b250-075b85395635"
      },
      "execution_count": 44,
      "outputs": [
        {
          "output_type": "error",
          "ename": "TypeError",
          "evalue": "unsupported operand type(s) for /: 'str' and 'int'",
          "traceback": [
            "\u001b[0;31m---------------------------------------------------------------------------\u001b[0m",
            "\u001b[0;31mTypeError\u001b[0m                                 Traceback (most recent call last)",
            "\u001b[0;32m<ipython-input-44-b396131a2016>\u001b[0m in \u001b[0;36m<cell line: 5>\u001b[0;34m()\u001b[0m\n\u001b[1;32m      3\u001b[0m     \u001b[0;32mreturn\u001b[0m \u001b[0ma\u001b[0m \u001b[0;34m/\u001b[0m \u001b[0mb\u001b[0m\u001b[0;34m\u001b[0m\u001b[0;34m\u001b[0m\u001b[0m\n\u001b[1;32m      4\u001b[0m \u001b[0;34m\u001b[0m\u001b[0m\n\u001b[0;32m----> 5\u001b[0;31m \u001b[0mresultado\u001b[0m \u001b[0;34m=\u001b[0m \u001b[0mdividir\u001b[0m\u001b[0;34m(\u001b[0m\u001b[0;34m\"10\"\u001b[0m\u001b[0;34m,\u001b[0m \u001b[0;36m2\u001b[0m\u001b[0;34m)\u001b[0m\u001b[0;34m\u001b[0m\u001b[0;34m\u001b[0m\u001b[0m\n\u001b[0m\u001b[1;32m      6\u001b[0m \u001b[0mprint\u001b[0m\u001b[0;34m(\u001b[0m\u001b[0;34mf\"Resultado: {resultado}\"\u001b[0m\u001b[0;34m)\u001b[0m\u001b[0;34m\u001b[0m\u001b[0;34m\u001b[0m\u001b[0m\n",
            "\u001b[0;32m<ipython-input-44-b396131a2016>\u001b[0m in \u001b[0;36mdividir\u001b[0;34m(a, b)\u001b[0m\n\u001b[1;32m      1\u001b[0m \u001b[0;31m#TypeError: problemas para operaciones con un tipo de dato no esperado\u001b[0m\u001b[0;34m\u001b[0m\u001b[0;34m\u001b[0m\u001b[0m\n\u001b[1;32m      2\u001b[0m \u001b[0;32mdef\u001b[0m \u001b[0mdividir\u001b[0m\u001b[0;34m(\u001b[0m\u001b[0ma\u001b[0m\u001b[0;34m,\u001b[0m \u001b[0mb\u001b[0m\u001b[0;34m)\u001b[0m\u001b[0;34m:\u001b[0m\u001b[0;34m\u001b[0m\u001b[0;34m\u001b[0m\u001b[0m\n\u001b[0;32m----> 3\u001b[0;31m     \u001b[0;32mreturn\u001b[0m \u001b[0ma\u001b[0m \u001b[0;34m/\u001b[0m \u001b[0mb\u001b[0m\u001b[0;34m\u001b[0m\u001b[0;34m\u001b[0m\u001b[0m\n\u001b[0m\u001b[1;32m      4\u001b[0m \u001b[0;34m\u001b[0m\u001b[0m\n\u001b[1;32m      5\u001b[0m \u001b[0mresultado\u001b[0m \u001b[0;34m=\u001b[0m \u001b[0mdividir\u001b[0m\u001b[0;34m(\u001b[0m\u001b[0;34m\"10\"\u001b[0m\u001b[0;34m,\u001b[0m \u001b[0;36m2\u001b[0m\u001b[0;34m)\u001b[0m\u001b[0;34m\u001b[0m\u001b[0;34m\u001b[0m\u001b[0m\n",
            "\u001b[0;31mTypeError\u001b[0m: unsupported operand type(s) for /: 'str' and 'int'"
          ]
        }
      ]
    },
    {
      "cell_type": "code",
      "source": [
        "#ZeroDivisionError: se trata de ejecutar una división por cero\n",
        "def dividir(a, b):\n",
        "    return a / b\n",
        "\n",
        "resultado = dividir(10, 0)\n",
        "print(f\"Resultado: {resultado}\")"
      ],
      "metadata": {
        "colab": {
          "base_uri": "https://localhost:8080/",
          "height": 332
        },
        "id": "NthvmJtmu9h5",
        "outputId": "4e352faa-d9fd-41dc-ad44-3b6cf7a3462e"
      },
      "execution_count": 46,
      "outputs": [
        {
          "output_type": "error",
          "ename": "ZeroDivisionError",
          "evalue": "division by zero",
          "traceback": [
            "\u001b[0;31m---------------------------------------------------------------------------\u001b[0m",
            "\u001b[0;31mZeroDivisionError\u001b[0m                         Traceback (most recent call last)",
            "\u001b[0;32m<ipython-input-46-ec497931747c>\u001b[0m in \u001b[0;36m<cell line: 5>\u001b[0;34m()\u001b[0m\n\u001b[1;32m      3\u001b[0m     \u001b[0;32mreturn\u001b[0m \u001b[0ma\u001b[0m \u001b[0;34m/\u001b[0m \u001b[0mb\u001b[0m\u001b[0;34m\u001b[0m\u001b[0;34m\u001b[0m\u001b[0m\n\u001b[1;32m      4\u001b[0m \u001b[0;34m\u001b[0m\u001b[0m\n\u001b[0;32m----> 5\u001b[0;31m \u001b[0mresultado\u001b[0m \u001b[0;34m=\u001b[0m \u001b[0mdividir\u001b[0m\u001b[0;34m(\u001b[0m\u001b[0;36m10\u001b[0m\u001b[0;34m,\u001b[0m \u001b[0;36m0\u001b[0m\u001b[0;34m)\u001b[0m\u001b[0;34m\u001b[0m\u001b[0;34m\u001b[0m\u001b[0m\n\u001b[0m\u001b[1;32m      6\u001b[0m \u001b[0mprint\u001b[0m\u001b[0;34m(\u001b[0m\u001b[0;34mf\"Resultado: {resultado}\"\u001b[0m\u001b[0;34m)\u001b[0m\u001b[0;34m\u001b[0m\u001b[0;34m\u001b[0m\u001b[0m\n",
            "\u001b[0;32m<ipython-input-46-ec497931747c>\u001b[0m in \u001b[0;36mdividir\u001b[0;34m(a, b)\u001b[0m\n\u001b[1;32m      1\u001b[0m \u001b[0;31m#ZeroDivisionError: se trata de ejecutar una división por cero\u001b[0m\u001b[0;34m\u001b[0m\u001b[0;34m\u001b[0m\u001b[0m\n\u001b[1;32m      2\u001b[0m \u001b[0;32mdef\u001b[0m \u001b[0mdividir\u001b[0m\u001b[0;34m(\u001b[0m\u001b[0ma\u001b[0m\u001b[0;34m,\u001b[0m \u001b[0mb\u001b[0m\u001b[0;34m)\u001b[0m\u001b[0;34m:\u001b[0m\u001b[0;34m\u001b[0m\u001b[0;34m\u001b[0m\u001b[0m\n\u001b[0;32m----> 3\u001b[0;31m     \u001b[0;32mreturn\u001b[0m \u001b[0ma\u001b[0m \u001b[0;34m/\u001b[0m \u001b[0mb\u001b[0m\u001b[0;34m\u001b[0m\u001b[0;34m\u001b[0m\u001b[0m\n\u001b[0m\u001b[1;32m      4\u001b[0m \u001b[0;34m\u001b[0m\u001b[0m\n\u001b[1;32m      5\u001b[0m \u001b[0mresultado\u001b[0m \u001b[0;34m=\u001b[0m \u001b[0mdividir\u001b[0m\u001b[0;34m(\u001b[0m\u001b[0;36m10\u001b[0m\u001b[0;34m,\u001b[0m \u001b[0;36m0\u001b[0m\u001b[0;34m)\u001b[0m\u001b[0;34m\u001b[0m\u001b[0;34m\u001b[0m\u001b[0m\n",
            "\u001b[0;31mZeroDivisionError\u001b[0m: division by zero"
          ]
        }
      ]
    },
    {
      "cell_type": "code",
      "source": [
        "#OSError: problema del sistema, ej. el archivo especificado no existe\n",
        "import os\n",
        "\n",
        "archivo= open('prueba.txt','r')\n",
        "archivo.read()\n",
        "os.chdir('/content/drive/MyDrive/Colab Notebooks')\n"
      ],
      "metadata": {
        "colab": {
          "base_uri": "https://localhost:8080/",
          "height": 222
        },
        "id": "kGepOhvrvYdC",
        "outputId": "b4b792f3-d166-491d-e8a2-7ac15361636e"
      },
      "execution_count": 14,
      "outputs": [
        {
          "output_type": "error",
          "ename": "FileNotFoundError",
          "evalue": "[Errno 2] No such file or directory: 'prueba.txt'",
          "traceback": [
            "\u001b[0;31m---------------------------------------------------------------------------\u001b[0m",
            "\u001b[0;31mFileNotFoundError\u001b[0m                         Traceback (most recent call last)",
            "\u001b[0;32m<ipython-input-14-b9753d57d14a>\u001b[0m in \u001b[0;36m<cell line: 4>\u001b[0;34m()\u001b[0m\n\u001b[1;32m      2\u001b[0m \u001b[0;32mimport\u001b[0m \u001b[0mos\u001b[0m\u001b[0;34m\u001b[0m\u001b[0;34m\u001b[0m\u001b[0m\n\u001b[1;32m      3\u001b[0m \u001b[0;34m\u001b[0m\u001b[0m\n\u001b[0;32m----> 4\u001b[0;31m \u001b[0marchivo\u001b[0m\u001b[0;34m=\u001b[0m \u001b[0mopen\u001b[0m\u001b[0;34m(\u001b[0m\u001b[0;34m'prueba.txt'\u001b[0m\u001b[0;34m,\u001b[0m\u001b[0;34m'r'\u001b[0m\u001b[0;34m)\u001b[0m\u001b[0;34m\u001b[0m\u001b[0;34m\u001b[0m\u001b[0m\n\u001b[0m\u001b[1;32m      5\u001b[0m \u001b[0marchivo\u001b[0m\u001b[0;34m.\u001b[0m\u001b[0mread\u001b[0m\u001b[0;34m(\u001b[0m\u001b[0;34m)\u001b[0m\u001b[0;34m\u001b[0m\u001b[0;34m\u001b[0m\u001b[0m\n\u001b[1;32m      6\u001b[0m \u001b[0mos\u001b[0m\u001b[0;34m.\u001b[0m\u001b[0mchdir\u001b[0m\u001b[0;34m(\u001b[0m\u001b[0;34m'/content/drive/MyDrive/Colab Notebooks'\u001b[0m\u001b[0;34m)\u001b[0m\u001b[0;34m\u001b[0m\u001b[0;34m\u001b[0m\u001b[0m\n",
            "\u001b[0;31mFileNotFoundError\u001b[0m: [Errno 2] No such file or directory: 'prueba.txt'"
          ]
        }
      ]
    },
    {
      "cell_type": "code",
      "source": [
        "#IndexError: cuando se accede a un elemento de una estructura que esta fuera de alcance."
      ],
      "metadata": {
        "id": "G5fGmiYizC2y"
      },
      "execution_count": null,
      "outputs": []
    },
    {
      "cell_type": "code",
      "source": [
        "a = [1, 2, 3]\n",
        "print(a[3])\n",
        "a = [4]\n",
        "print(a[2])"
      ],
      "metadata": {
        "colab": {
          "base_uri": "https://localhost:8080/",
          "height": 203
        },
        "id": "cdUAhbRh3D8J",
        "outputId": "d287f414-7f35-4070-beef-65e9b61fd0bc"
      },
      "execution_count": 27,
      "outputs": [
        {
          "output_type": "error",
          "ename": "IndexError",
          "evalue": "list index out of range",
          "traceback": [
            "\u001b[0;31m---------------------------------------------------------------------------\u001b[0m",
            "\u001b[0;31mIndexError\u001b[0m                                Traceback (most recent call last)",
            "\u001b[0;32m<ipython-input-27-718cf35a6c81>\u001b[0m in \u001b[0;36m<cell line: 2>\u001b[0;34m()\u001b[0m\n\u001b[1;32m      1\u001b[0m \u001b[0ma\u001b[0m \u001b[0;34m=\u001b[0m \u001b[0;34m[\u001b[0m\u001b[0;36m1\u001b[0m\u001b[0;34m,\u001b[0m \u001b[0;36m2\u001b[0m\u001b[0;34m,\u001b[0m \u001b[0;36m3\u001b[0m\u001b[0;34m]\u001b[0m\u001b[0;34m\u001b[0m\u001b[0;34m\u001b[0m\u001b[0m\n\u001b[0;32m----> 2\u001b[0;31m \u001b[0mprint\u001b[0m\u001b[0;34m(\u001b[0m\u001b[0ma\u001b[0m\u001b[0;34m[\u001b[0m\u001b[0;36m3\u001b[0m\u001b[0;34m]\u001b[0m\u001b[0;34m)\u001b[0m\u001b[0;34m\u001b[0m\u001b[0;34m\u001b[0m\u001b[0m\n\u001b[0m\u001b[1;32m      3\u001b[0m \u001b[0ma\u001b[0m \u001b[0;34m=\u001b[0m \u001b[0;34m[\u001b[0m\u001b[0;36m4\u001b[0m\u001b[0;34m]\u001b[0m\u001b[0;34m\u001b[0m\u001b[0;34m\u001b[0m\u001b[0m\n\u001b[1;32m      4\u001b[0m \u001b[0mprint\u001b[0m\u001b[0;34m(\u001b[0m\u001b[0ma\u001b[0m\u001b[0;34m[\u001b[0m\u001b[0;36m2\u001b[0m\u001b[0;34m]\u001b[0m\u001b[0;34m)\u001b[0m\u001b[0;34m\u001b[0m\u001b[0;34m\u001b[0m\u001b[0m\n",
            "\u001b[0;31mIndexError\u001b[0m: list index out of range"
          ]
        }
      ]
    },
    {
      "cell_type": "markdown",
      "source": [
        "__3. Ejercicios algoritmos secuenciales__"
      ],
      "metadata": {
        "id": "aLTIpnLBfVM7"
      }
    },
    {
      "cell_type": "markdown",
      "source": [
        "1. Se estima que la distancia de la tierra a el sol es de 8 minutos 19.62 segundos luz y la distancia a la luna es de 1.2813 segundos luz. Hallar la distancia en kilómetros de la tierra a estos dos cuerpos celestes."
      ],
      "metadata": {
        "id": "f48yWWOKzw7Y"
      }
    },
    {
      "cell_type": "code",
      "source": [
        "#Velocidad de la Luz en km\n",
        "SL = 300000\n",
        "# Distancia a la Luna en segundos luz\n",
        "distancia_luna_segundos_luz = 1.2813\n",
        "# Distancia a la Tierra en segundos luz\n",
        "distancia_tierra_segundos_luz = ((8 * 60) + 19.62)*SL\n",
        "distancia_sol = distancia_tierra_segundos_luz\n",
        "distancia_luna = SL*1.2813\n",
        "distancia_luna\n",
        "print('la distacia de la tierra al sol en Km es: ',distancia_sol)\n",
        "print('la distacia de la tierra a la luna en Km es: ',distancia_luna)\n"
      ],
      "metadata": {
        "colab": {
          "base_uri": "https://localhost:8080/"
        },
        "id": "IqOm22K9zqZC",
        "outputId": "9ea603cf-df33-4e4c-dfcb-c3938d3ce6f1"
      },
      "execution_count": 69,
      "outputs": [
        {
          "output_type": "stream",
          "name": "stdout",
          "text": [
            "la distacia de la tierra al sol en Km es:  149886000.0\n",
            "la distacia de la tierra a la luna en Km es:  384390.00000000006\n"
          ]
        }
      ]
    },
    {
      "cell_type": "markdown",
      "source": [],
      "metadata": {
        "id": "Lj0c_rE45ATB"
      }
    },
    {
      "cell_type": "markdown",
      "source": [
        "2. Escriba un programa que recibe por consola cualquier valor de distancia en segundos luz y la convierte en kilómetros"
      ],
      "metadata": {
        "id": "NIXs2ngS5IFv"
      }
    },
    {
      "cell_type": "code",
      "source": [
        "#Velocidad de la Luz en km\n",
        "SL = 300000\n",
        "valor = float(input('Ingrese valor en segundos Luz:'))\n",
        "distancia_km = valor*SL\n",
        "print('la distancia en Km es: ',distancia_km)\n",
        "\n"
      ],
      "metadata": {
        "colab": {
          "base_uri": "https://localhost:8080/"
        },
        "id": "UAEy26wS5Epr",
        "outputId": "1806815a-c181-4403-8594-406e29775480"
      },
      "execution_count": 74,
      "outputs": [
        {
          "output_type": "stream",
          "name": "stdout",
          "text": [
            "Ingrese valor en segundos Luz:3\n",
            "la distancia en Km es:  900000.0\n"
          ]
        }
      ]
    },
    {
      "cell_type": "markdown",
      "source": [
        "3. Dados 3 puntos cualesquiera en un plano, puntos={x1, y1, x2, y2, x3, y3} los cuales forman un triángulo. Hacer un programa para calcular el área del triángulo (sugerencia, use la fórmula de Héron)."
      ],
      "metadata": {
        "id": "TjPFFbAw7Gje"
      }
    },
    {
      "cell_type": "code",
      "source": [
        "import math\n",
        "def area_triangulo(x1, y1, x2, y2, x3, y3):\n",
        "    a = (x1, y1)\n",
        "    b = (x2, y2)\n",
        "    c = (x3, y3)\n",
        "    s = (a + b + c) / 2\n",
        "    area = (s*(s-a)*(s-b)*(s-c))**0.5\n",
        "\n",
        "    a = int(input(\"Ingrese un valor: \"))\n",
        "    b = int(input(\"Ingrese un valor: \"))\n",
        "    c = int(input(\"Ingrese un valor: \"))\n",
        "    area = area_triangulo(a, b, c)\n",
        "\n"
      ],
      "metadata": {
        "id": "1EBuhwVUsDaY"
      },
      "execution_count": 22,
      "outputs": []
    },
    {
      "cell_type": "code",
      "source": [
        "\n",
        "\n",
        "def area_triangulo(x1, y1, x2, y2, x3, y3):\n",
        "\n",
        "\n",
        "\n",
        "    a = ((x2 - x1)**2 + (y2 - y1)**2)\n",
        "    b = ((x3 - x2)**2 + (y3 - y2)**2)\n",
        "    c = ((x1 - x3)**2 + (y1 - y3)**2)\n",
        "\n",
        "\n",
        "    semiperimetro = (a + b + c) / 2\n",
        "\n",
        "    area = (semiperimetro*(semiperimetro-a)*(semiperimetro-b)*(semiperimetro-c))**0.5\n",
        "    return area\n",
        "\n",
        "area_triangulo(0,0, 0,1, 1,0)\n",
        "\n",
        "\n"
      ],
      "metadata": {
        "colab": {
          "base_uri": "https://localhost:8080/"
        },
        "id": "vAdSqjpmy8J_",
        "outputId": "809d1ac0-b3fc-45c5-fed0-5a68b71c908d"
      },
      "execution_count": 26,
      "outputs": [
        {
          "output_type": "execute_result",
          "data": {
            "text/plain": [
              "0.0"
            ]
          },
          "metadata": {},
          "execution_count": 26
        }
      ]
    },
    {
      "cell_type": "code",
      "source": [
        "def area_triangulo(x1, y1, x2, y2, x3, y3):\n",
        "    a = ((x2 - x1)**2 + (y2 - y1)**2)\n",
        "    b = ((x3 - x2)**2 + (y3 - y2)**2)\n",
        "    c = ((x1 - x3)**2 + (y1 - y3)**2)\n",
        "    area = ((a + b + c) / 2*((a + b + c) / 2-a)*((a + b + c) / 2-b)*((a + b + c) / 2-c))**0.5\n",
        "    return area\n",
        "area_triangulo(0,0, 0,1, 1,0)\n"
      ],
      "metadata": {
        "colab": {
          "base_uri": "https://localhost:8080/"
        },
        "id": "yKaRpfU43rCM",
        "outputId": "59ce316e-fda0-4da9-9183-4aa7f0a3165f"
      },
      "execution_count": 30,
      "outputs": [
        {
          "output_type": "execute_result",
          "data": {
            "text/plain": [
              "0.0"
            ]
          },
          "metadata": {},
          "execution_count": 30
        }
      ]
    },
    {
      "cell_type": "markdown",
      "source": [
        "4. Hacer un programa que recibe un valor de tiempo en segundos y muesta este tiempo en formato de horas, minutos (0-59) y segundos (0-59). Por ejemplo, si el valor ingresado es: 3662 segundos, la respuesta debe ser 1 hora (3600), 1 minuto (60) y 2 segundos."
      ],
      "metadata": {
        "id": "X4UViDWCe-Ay"
      }
    },
    {
      "cell_type": "code",
      "source": [
        "def convertir_segundos_a_tiempo(seg):\n",
        "    H = seg // 3600\n",
        "    M = (seg % 3600) // 60\n",
        "    seg_restantes = (seg % 3600) % 60\n",
        "    print(f\"{H} horas ({H * 3600}), {M} minutos ({M * 60}) y {seg_restantes} segundos.\")\n",
        "\n",
        "seg = int(input(\"Ingrese un valor de tiempo en segundos: \"))\n",
        "convertir_segundos_a_tiempo(seg)"
      ],
      "metadata": {
        "colab": {
          "base_uri": "https://localhost:8080/"
        },
        "id": "8f4HdtH4gdNJ",
        "outputId": "c27f71c7-290c-4b78-cf66-bb53d44dad23"
      },
      "execution_count": 8,
      "outputs": [
        {
          "output_type": "stream",
          "name": "stdout",
          "text": [
            "Ingrese un valor de tiempo en segundos: 12354\n",
            "3 horas (10800), 25 minutos (1500) y 54 segundos.\n"
          ]
        }
      ]
    },
    {
      "cell_type": "markdown",
      "source": [
        "5. De la ecuación cuadrática obtener las raíces, el vértice"
      ],
      "metadata": {
        "id": "rqNF1OXpfC0b"
      }
    },
    {
      "cell_type": "code",
      "source": [],
      "metadata": {
        "id": "zuXAiAzmquZP"
      },
      "execution_count": null,
      "outputs": []
    }
  ]
}