{
  "nbformat": 4,
  "nbformat_minor": 0,
  "metadata": {
    "colab": {
      "provenance": [],
      "authorship_tag": "ABX9TyN156pDGGeB1SWc858jCSSP",
      "include_colab_link": true
    },
    "kernelspec": {
      "name": "python3",
      "display_name": "Python 3"
    },
    "language_info": {
      "name": "python"
    }
  },
  "cells": [
    {
      "cell_type": "markdown",
      "metadata": {
        "id": "view-in-github",
        "colab_type": "text"
      },
      "source": [
        "<a href=\"https://colab.research.google.com/github/ccbeltran/Curso.Prep.Henry/blob/master/Lista.ipynb\" target=\"_parent\"><img src=\"https://colab.research.google.com/assets/colab-badge.svg\" alt=\"Open In Colab\"/></a>"
      ]
    },
    {
      "cell_type": "code",
      "execution_count": null,
      "metadata": {
        "id": "MwZaQMGJ9moA"
      },
      "outputs": [],
      "source": []
    },
    {
      "cell_type": "code",
      "source": [
        "lista = [7,5,3,5,7,4,3,7,5,3,4,7,5,3,4,7,3,5,2]\n",
        "Secuencia = [5,3,4,7,5]\n"
      ],
      "metadata": {
        "id": "EQuo8Ozn9phl"
      },
      "execution_count": null,
      "outputs": []
    }
  ]
}